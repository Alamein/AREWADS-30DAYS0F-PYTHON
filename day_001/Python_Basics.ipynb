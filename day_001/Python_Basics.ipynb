{
 "cells": [
  {
   "cell_type": "code",
   "execution_count": 5,
   "metadata": {},
   "outputs": [
    {
     "name": "stdout",
     "output_type": "stream",
     "text": [
      "You are using Python version 3.11\n",
      "Python version information: 3.11.5 (tags/v3.11.5:cce6ba9, Aug 24 2023, 14:38:34) [MSC v.1936 64 bit (AMD64)]\n"
     ]
    }
   ],
   "source": [
    "# Checking the python version\n",
    "\n",
    "import sys\n",
    "\n",
    "if sys.version_info.major == 3:\n",
    "    print(f\"You are using Python version 3.{sys.version_info.minor}\")\n",
    "else:\n",
    "    print(f\"You are using Python {sys.version_info.major}.{sys.version_info.minor}\")\n",
    "\n",
    "print(f\"Python version information: {sys.version}\")"
   ]
  },
  {
   "cell_type": "markdown",
   "metadata": {},
   "source": [
    "### Basic Python mathematical operations (Addition, Subtraction, Multiplication, Division, Modulus, Exponential)."
   ]
  },
  {
   "cell_type": "code",
   "execution_count": 7,
   "metadata": {},
   "outputs": [
    {
     "name": "stdout",
     "output_type": "stream",
     "text": [
      "Addition: 10 + 5 = 15\n",
      "Subtraction: 10 - 5 = 5\n",
      "Multiplication: 10 * 5 = 50\n",
      "Division: 10 / 5 = 2.0\n",
      "Floor Division: 10 // 5 = 2\n",
      "Exponentiation: 10 ** 5 = 100000\n",
      "Modulus: 10 % 5 = 0\n"
     ]
    }
   ],
   "source": [
    "# Demonstrating basic mathematical operations in Python\n",
    "\n",
    "# Addition\n",
    "num1 = 10\n",
    "num2 = 5\n",
    "result_addition = num1 + num2\n",
    "print(f\"Addition: {num1} + {num2} = {result_addition}\")\n",
    "\n",
    "# Subtraction\n",
    "result_subtraction = num1 - num2\n",
    "print(f\"Subtraction: {num1} - {num2} = {result_subtraction}\")\n",
    "\n",
    "# Multiplication\n",
    "result_multiplication = num1 * num2\n",
    "print(f\"Multiplication: {num1} * {num2} = {result_multiplication}\")\n",
    "\n",
    "# Division\n",
    "result_division = num1 / num2\n",
    "print(f\"Division: {num1} / {num2} = {result_division}\")\n",
    "\n",
    "# Floor Division (Integer Division)\n",
    "result_floor_division = num1 // num2\n",
    "print(f\"Floor Division: {num1} // {num2} = {result_floor_division}\")\n",
    "\n",
    "# Exponentiation\n",
    "result_exponentiation = num1 ** num2\n",
    "print(f\"Exponentiation: {num1} ** {num2} = {result_exponentiation}\")\n",
    "\n",
    "# Modulus (Remainder)\n",
    "result_modulus = num1 % num2\n",
    "print(f\"Modulus: {num1} % {num2} = {result_modulus}\")"
   ]
  },
  {
   "cell_type": "code",
   "execution_count": 8,
   "metadata": {},
   "outputs": [
    {
     "name": "stdout",
     "output_type": "stream",
     "text": [
      "Variable 'num' has a data type of: <class 'int'>\n",
      "Variable 'float_num' has a data type of: <class 'float'>\n",
      "Variable 'text' has a data type of: <class 'str'>\n",
      "Variable 'is_true' has a data type of: <class 'bool'>\n",
      "Variable 'my_list' has a data type of: <class 'list'>\n",
      "Variable 'my_tuple' has a data type of: <class 'tuple'>\n",
      "Variable 'my_dict' has a data type of: <class 'dict'>\n",
      "Variable 'my_set' has a data type of: <class 'set'>\n",
      "Variable 'my_none' has a data type of: <class 'NoneType'>\n"
     ]
    }
   ],
   "source": [
    "# Checking and displaying different data types in Python\n",
    "\n",
    "# Integer\n",
    "num = 42\n",
    "print(f\"Variable 'num' has a data type of: {type(num)}\")\n",
    "\n",
    "# Float\n",
    "float_num = 3.14159\n",
    "print(f\"Variable 'float_num' has a data type of: {type(float_num)}\")\n",
    "\n",
    "# String\n",
    "text = \"Hello, World!\"\n",
    "print(f\"Variable 'text' has a data type of: {type(text)}\")\n",
    "\n",
    "# Boolean\n",
    "is_true = True\n",
    "print(f\"Variable 'is_true' has a data type of: {type(is_true)}\")\n",
    "\n",
    "# List\n",
    "my_list = [1, 2, 3, 4, 5]\n",
    "print(f\"Variable 'my_list' has a data type of: {type(my_list)}\")\n",
    "\n",
    "# Tuple\n",
    "my_tuple = (10, 20, 30)\n",
    "print(f\"Variable 'my_tuple' has a data type of: {type(my_tuple)}\")\n",
    "\n",
    "# Dictionary\n",
    "my_dict = {'name': 'Alice', 'age': 30}\n",
    "print(f\"Variable 'my_dict' has a data type of: {type(my_dict)}\")\n",
    "\n",
    "# Set\n",
    "my_set = {1, 2, 3, 4}\n",
    "print(f\"Variable 'my_set' has a data type of: {type(my_set)}\")\n",
    "\n",
    "# NoneType\n",
    "my_none = None\n",
    "print(f\"Variable 'my_none' has a data type of: {type(my_none)}\")\n"
   ]
  },
  {
   "cell_type": "code",
   "execution_count": 11,
   "metadata": {},
   "outputs": [
    {
     "name": "stdout",
     "output_type": "stream",
     "text": [
      "Student Information:\n",
      "Name: Al'amin\n",
      "Age: 20\n",
      "Grade: A\n",
      "Courses\n",
      "- Math\n",
      "- Physics\n",
      "- Chemistry\n",
      "- English\n"
     ]
    }
   ],
   "source": [
    "# Simple Python Dictionary\n",
    "\n",
    "# Creating a dictionary\n",
    "student = {\n",
    "    \"name\": \"Al'amin\",\n",
    "    \"age\": 20,\n",
    "    \"grade\": \"A\",\n",
    "    \"courses\": [\"Math\",\"Physics\",\"Chemistry\",\"English\"]\n",
    "}\n",
    "\n",
    "# Accessing dictionary values\n",
    "print(\"Student Information:\")\n",
    "print(f\"Name: {student['name']}\")\n",
    "print(f\"Age: {student['age']}\")\n",
    "print(f\"Grade: {student['grade']}\")\n",
    "print(\"Courses\")\n",
    "for course in student[\"courses\"]:\n",
    "    print(f\"- {course}\")"
   ]
  },
  {
   "cell_type": "code",
   "execution_count": 12,
   "metadata": {},
   "outputs": [
    {
     "name": "stdout",
     "output_type": "stream",
     "text": [
      "Updated Student Information:\n",
      "Name: Al'amin\n",
      "Age: 21\n",
      "Grade: A\n",
      "Courses:\n",
      "- Math\n",
      "- Physics\n",
      "- Chemistry\n",
      "- English\n",
      "- Statistics\n"
     ]
    }
   ],
   "source": [
    "# Modifying dictionary values\n",
    "student[\"age\"] = 21 # Updating the age\n",
    "student[\"courses\"].append(\"Statistics\") # Adding a new course\n",
    "\n",
    "# Displaying updated information\n",
    "print(\"Updated Student Information:\")\n",
    "print(f\"Name: {student['name']}\")\n",
    "print(f\"Age: {student['age']}\")\n",
    "print(f\"Grade: {student['grade']}\")\n",
    "print(\"Courses:\")\n",
    "for course in student[\"courses\"]:\n",
    "    print(f\"- {course}\")"
   ]
  },
  {
   "cell_type": "code",
   "execution_count": 13,
   "metadata": {},
   "outputs": [
    {
     "name": "stdout",
     "output_type": "stream",
     "text": [
      "Student Information with Country:\n",
      "name: Al'amin\n",
      "age: 21\n",
      "grade: A\n",
      "courses: ['Math', 'Physics', 'Chemistry', 'English', 'Statistics']\n",
      "country: Nigeria\n"
     ]
    }
   ],
   "source": [
    "# Adding a new key-value pair\n",
    "student[\"country\"] = \"Nigeria\"\n",
    "\n",
    "# Displaying the updated Dictionary\n",
    "print(\"Student Information with Country:\")\n",
    "for key, value in student.items():\n",
    "    print(f\"{key}: {value}\")"
   ]
  },
  {
   "cell_type": "code",
   "execution_count": 14,
   "metadata": {},
   "outputs": [
    {
     "name": "stdout",
     "output_type": "stream",
     "text": [
      "Student Information after Deleting Grade:\n",
      "name: Al'amin\n",
      "age: 21\n",
      "courses: ['Math', 'Physics', 'Chemistry', 'English', 'Statistics']\n",
      "country: Nigeria\n"
     ]
    }
   ],
   "source": [
    "# Deleting a key-value pair\n",
    "del student[\"grade\"]\n",
    "\n",
    "# Displaying the dictionary after deleting a key\n",
    "print(\"Student Information after Deleting Grade:\")\n",
    "for key, value in student.items():\n",
    "    print(f\"{key}: {value}\")"
   ]
  }
 ],
 "metadata": {
  "kernelspec": {
   "display_name": "Python 3",
   "language": "python",
   "name": "python3"
  },
  "language_info": {
   "codemirror_mode": {
    "name": "ipython",
    "version": 3
   },
   "file_extension": ".py",
   "mimetype": "text/x-python",
   "name": "python",
   "nbconvert_exporter": "python",
   "pygments_lexer": "ipython3",
   "version": "3.11.5"
  },
  "orig_nbformat": 4
 },
 "nbformat": 4,
 "nbformat_minor": 2
}
