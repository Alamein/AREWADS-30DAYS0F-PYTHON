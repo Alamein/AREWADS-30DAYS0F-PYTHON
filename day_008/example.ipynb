{
 "cells": [
  {
   "cell_type": "code",
   "execution_count": null,
   "metadata": {},
   "outputs": [],
   "source": [
    "dictionary = {\n",
    "    'firstname': \"Al'amin\",\n",
    "    'lastname' : 'Nababa',\n",
    "    'age' : 210,\n",
    "    'country' : 'Nigeria',\n",
    "    'state' : 'Kano',\n",
    "    'is_married' : False,\n",
    "    'skills' : ['HTML', 'CSS', 'JavaScript', 'Python'],\n",
    "    'address' : {\n",
    "        'street' : 'Space street',\n",
    "        'Zipcode' : '1233332'\n",
    "    }\n",
    "}"
   ]
  }
 ],
 "metadata": {
  "language_info": {
   "name": "python"
  }
 },
 "nbformat": 4,
 "nbformat_minor": 2
}
