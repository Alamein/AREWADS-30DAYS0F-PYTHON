{
 "cells": [
  {
   "cell_type": "code",
   "execution_count": 35,
   "metadata": {},
   "outputs": [],
   "source": [
    "person = {\n",
    "    'firstname': \"Al'amin\",\n",
    "    'lastname' : 'Nababa',\n",
    "    'age' : 210,\n",
    "    'country' : 'Nigeria',\n",
    "    'state' : 'Kano',\n",
    "    'is_married' : False,\n",
    "    'skills' : ['HTML', 'CSS', 'JavaScript', 'Python'],\n",
    "    'address' : {\n",
    "        'street' : 'Space street',\n",
    "        'Zipcode' : '1233332'\n",
    "    }\n",
    "}"
   ]
  },
  {
   "cell_type": "code",
   "execution_count": 36,
   "metadata": {},
   "outputs": [
    {
     "name": "stdout",
     "output_type": "stream",
     "text": [
      "8\n"
     ]
    }
   ],
   "source": [
    "print(len(person))"
   ]
  },
  {
   "cell_type": "code",
   "execution_count": 37,
   "metadata": {},
   "outputs": [
    {
     "name": "stdout",
     "output_type": "stream",
     "text": [
      "Al'amin\n"
     ]
    }
   ],
   "source": [
    "print(person['firstname'])"
   ]
  },
  {
   "cell_type": "code",
   "execution_count": 38,
   "metadata": {},
   "outputs": [
    {
     "name": "stdout",
     "output_type": "stream",
     "text": [
      "Nababa\n"
     ]
    }
   ],
   "source": [
    "print(person['lastname'])"
   ]
  },
  {
   "cell_type": "code",
   "execution_count": 39,
   "metadata": {},
   "outputs": [
    {
     "name": "stdout",
     "output_type": "stream",
     "text": [
      "['HTML', 'CSS', 'JavaScript', 'Python']\n"
     ]
    }
   ],
   "source": [
    "print(person['skills'])"
   ]
  },
  {
   "cell_type": "code",
   "execution_count": 40,
   "metadata": {},
   "outputs": [
    {
     "name": "stdout",
     "output_type": "stream",
     "text": [
      "Python\n"
     ]
    }
   ],
   "source": [
    "print(person['skills'][-1])"
   ]
  },
  {
   "cell_type": "code",
   "execution_count": 41,
   "metadata": {},
   "outputs": [
    {
     "name": "stdout",
     "output_type": "stream",
     "text": [
      "False\n"
     ]
    }
   ],
   "source": [
    "print(person['is_married'])"
   ]
  },
  {
   "cell_type": "code",
   "execution_count": 42,
   "metadata": {},
   "outputs": [
    {
     "name": "stdout",
     "output_type": "stream",
     "text": [
      "{'street': 'Space street', 'Zipcode': '1233332'}\n"
     ]
    }
   ],
   "source": [
    "print(person['address'])"
   ]
  },
  {
   "cell_type": "code",
   "execution_count": 43,
   "metadata": {},
   "outputs": [
    {
     "name": "stdout",
     "output_type": "stream",
     "text": [
      "Space street\n"
     ]
    }
   ],
   "source": [
    "print(person['address']['street'])"
   ]
  },
  {
   "cell_type": "code",
   "execution_count": 44,
   "metadata": {},
   "outputs": [
    {
     "data": {
      "text/plain": [
       "\"Al'amin\""
      ]
     },
     "execution_count": 44,
     "metadata": {},
     "output_type": "execute_result"
    }
   ],
   "source": [
    "person.get('firstname')"
   ]
  },
  {
   "cell_type": "code",
   "execution_count": 45,
   "metadata": {},
   "outputs": [
    {
     "data": {
      "text/plain": [
       "'Nababa'"
      ]
     },
     "execution_count": 45,
     "metadata": {},
     "output_type": "execute_result"
    }
   ],
   "source": [
    "person.get('lastname')"
   ]
  },
  {
   "cell_type": "code",
   "execution_count": 46,
   "metadata": {},
   "outputs": [
    {
     "data": {
      "text/plain": [
       "'Nigeria'"
      ]
     },
     "execution_count": 46,
     "metadata": {},
     "output_type": "execute_result"
    }
   ],
   "source": [
    "person.get('country')"
   ]
  },
  {
   "cell_type": "code",
   "execution_count": 47,
   "metadata": {},
   "outputs": [
    {
     "data": {
      "text/plain": [
       "['HTML', 'CSS', 'JavaScript', 'Python']"
      ]
     },
     "execution_count": 47,
     "metadata": {},
     "output_type": "execute_result"
    }
   ],
   "source": [
    "person.get('skills')"
   ]
  },
  {
   "cell_type": "code",
   "execution_count": 48,
   "metadata": {},
   "outputs": [],
   "source": [
    "person.get('city')"
   ]
  },
  {
   "cell_type": "code",
   "execution_count": 49,
   "metadata": {},
   "outputs": [],
   "source": [
    "person['status'] = 'Student'"
   ]
  },
  {
   "cell_type": "code",
   "execution_count": 50,
   "metadata": {},
   "outputs": [
    {
     "name": "stdout",
     "output_type": "stream",
     "text": [
      "{'firstname': \"Al'amin\", 'lastname': 'Nababa', 'age': 210, 'country': 'Nigeria', 'state': 'Kano', 'is_married': False, 'skills': ['HTML', 'CSS', 'JavaScript', 'Python'], 'address': {'street': 'Space street', 'Zipcode': '1233332'}, 'status': 'Student'}\n"
     ]
    }
   ],
   "source": [
    "print(person)"
   ]
  },
  {
   "cell_type": "code",
   "execution_count": 51,
   "metadata": {},
   "outputs": [],
   "source": [
    "person['skills'].append('Ds')"
   ]
  },
  {
   "cell_type": "code",
   "execution_count": 52,
   "metadata": {},
   "outputs": [
    {
     "name": "stdout",
     "output_type": "stream",
     "text": [
      "{'firstname': \"Al'amin\", 'lastname': 'Nababa', 'age': 210, 'country': 'Nigeria', 'state': 'Kano', 'is_married': False, 'skills': ['HTML', 'CSS', 'JavaScript', 'Python', 'Ds'], 'address': {'street': 'Space street', 'Zipcode': '1233332'}, 'status': 'Student'}\n"
     ]
    }
   ],
   "source": [
    "print(person)"
   ]
  },
  {
   "cell_type": "code",
   "execution_count": 53,
   "metadata": {},
   "outputs": [],
   "source": [
    "person['skills'][-1] = 'Data Science'"
   ]
  },
  {
   "cell_type": "code",
   "execution_count": 54,
   "metadata": {},
   "outputs": [
    {
     "data": {
      "text/plain": [
       "['HTML', 'CSS', 'JavaScript', 'Python', 'Data Science']"
      ]
     },
     "execution_count": 54,
     "metadata": {},
     "output_type": "execute_result"
    }
   ],
   "source": [
    "person.get('skills')"
   ]
  },
  {
   "cell_type": "code",
   "execution_count": 55,
   "metadata": {},
   "outputs": [
    {
     "data": {
      "text/plain": [
       "{'street': 'Space street', 'Zipcode': '1233332'}"
      ]
     },
     "execution_count": 55,
     "metadata": {},
     "output_type": "execute_result"
    }
   ],
   "source": [
    "person.pop('address')"
   ]
  },
  {
   "cell_type": "code",
   "execution_count": 56,
   "metadata": {},
   "outputs": [
    {
     "data": {
      "text/plain": [
       "{'firstname': \"Al'amin\",\n",
       " 'lastname': 'Nababa',\n",
       " 'age': 210,\n",
       " 'country': 'Nigeria',\n",
       " 'state': 'Kano',\n",
       " 'is_married': False,\n",
       " 'skills': ['HTML', 'CSS', 'JavaScript', 'Python', 'Data Science'],\n",
       " 'status': 'Student'}"
      ]
     },
     "execution_count": 56,
     "metadata": {},
     "output_type": "execute_result"
    }
   ],
   "source": [
    "person"
   ]
  },
  {
   "cell_type": "code",
   "execution_count": 57,
   "metadata": {},
   "outputs": [
    {
     "data": {
      "text/plain": [
       "('status', 'Student')"
      ]
     },
     "execution_count": 57,
     "metadata": {},
     "output_type": "execute_result"
    }
   ],
   "source": [
    "person.popitem()"
   ]
  },
  {
   "cell_type": "code",
   "execution_count": 58,
   "metadata": {},
   "outputs": [
    {
     "data": {
      "text/plain": [
       "{'firstname': \"Al'amin\",\n",
       " 'lastname': 'Nababa',\n",
       " 'age': 210,\n",
       " 'country': 'Nigeria',\n",
       " 'state': 'Kano',\n",
       " 'is_married': False,\n",
       " 'skills': ['HTML', 'CSS', 'JavaScript', 'Python', 'Data Science']}"
      ]
     },
     "execution_count": 58,
     "metadata": {},
     "output_type": "execute_result"
    }
   ],
   "source": [
    "person"
   ]
  },
  {
   "cell_type": "code",
   "execution_count": 59,
   "metadata": {},
   "outputs": [],
   "source": [
    "del person['state']"
   ]
  },
  {
   "cell_type": "code",
   "execution_count": 60,
   "metadata": {},
   "outputs": [
    {
     "data": {
      "text/plain": [
       "{'firstname': \"Al'amin\",\n",
       " 'lastname': 'Nababa',\n",
       " 'age': 210,\n",
       " 'country': 'Nigeria',\n",
       " 'is_married': False,\n",
       " 'skills': ['HTML', 'CSS', 'JavaScript', 'Python', 'Data Science']}"
      ]
     },
     "execution_count": 60,
     "metadata": {},
     "output_type": "execute_result"
    }
   ],
   "source": [
    "person"
   ]
  },
  {
   "cell_type": "code",
   "execution_count": 61,
   "metadata": {},
   "outputs": [
    {
     "data": {
      "text/plain": [
       "dict_items([('firstname', \"Al'amin\"), ('lastname', 'Nababa'), ('age', 210), ('country', 'Nigeria'), ('is_married', False), ('skills', ['HTML', 'CSS', 'JavaScript', 'Python', 'Data Science'])])"
      ]
     },
     "execution_count": 61,
     "metadata": {},
     "output_type": "execute_result"
    }
   ],
   "source": [
    "person.items()"
   ]
  },
  {
   "cell_type": "code",
   "execution_count": 62,
   "metadata": {},
   "outputs": [
    {
     "data": {
      "text/plain": [
       "{'firstname': \"Al'amin\",\n",
       " 'lastname': 'Nababa',\n",
       " 'age': 210,\n",
       " 'country': 'Nigeria',\n",
       " 'is_married': False,\n",
       " 'skills': ['HTML', 'CSS', 'JavaScript', 'Python', 'Data Science']}"
      ]
     },
     "execution_count": 62,
     "metadata": {},
     "output_type": "execute_result"
    }
   ],
   "source": [
    "person"
   ]
  },
  {
   "cell_type": "code",
   "execution_count": 63,
   "metadata": {},
   "outputs": [
    {
     "data": {
      "text/plain": [
       "dict_keys(['firstname', 'lastname', 'age', 'country', 'is_married', 'skills'])"
      ]
     },
     "execution_count": 63,
     "metadata": {},
     "output_type": "execute_result"
    }
   ],
   "source": [
    "person.keys()"
   ]
  },
  {
   "cell_type": "code",
   "execution_count": 64,
   "metadata": {},
   "outputs": [
    {
     "data": {
      "text/plain": [
       "dict_values([\"Al'amin\", 'Nababa', 210, 'Nigeria', False, ['HTML', 'CSS', 'JavaScript', 'Python', 'Data Science']])"
      ]
     },
     "execution_count": 64,
     "metadata": {},
     "output_type": "execute_result"
    }
   ],
   "source": [
    "person.values()"
   ]
  },
  {
   "cell_type": "code",
   "execution_count": 65,
   "metadata": {},
   "outputs": [
    {
     "data": {
      "text/plain": [
       "{'firstname': \"Al'amin\",\n",
       " 'lastname': 'Nababa',\n",
       " 'age': 210,\n",
       " 'country': 'Nigeria',\n",
       " 'is_married': False,\n",
       " 'skills': ['HTML', 'CSS', 'JavaScript', 'Python', 'Data Science']}"
      ]
     },
     "execution_count": 65,
     "metadata": {},
     "output_type": "execute_result"
    }
   ],
   "source": [
    "person"
   ]
  },
  {
   "cell_type": "code",
   "execution_count": 66,
   "metadata": {},
   "outputs": [],
   "source": [
    "person['skills'].append('TyperScript')"
   ]
  },
  {
   "cell_type": "code",
   "execution_count": 67,
   "metadata": {},
   "outputs": [
    {
     "data": {
      "text/plain": [
       "{'firstname': \"Al'amin\",\n",
       " 'lastname': 'Nababa',\n",
       " 'age': 210,\n",
       " 'country': 'Nigeria',\n",
       " 'is_married': False,\n",
       " 'skills': ['HTML',\n",
       "  'CSS',\n",
       "  'JavaScript',\n",
       "  'Python',\n",
       "  'Data Science',\n",
       "  'TyperScript']}"
      ]
     },
     "execution_count": 67,
     "metadata": {},
     "output_type": "execute_result"
    }
   ],
   "source": [
    "person"
   ]
  }
 ],
 "metadata": {
  "kernelspec": {
   "display_name": "Python 3",
   "language": "python",
   "name": "python3"
  },
  "language_info": {
   "codemirror_mode": {
    "name": "ipython",
    "version": 3
   },
   "file_extension": ".py",
   "mimetype": "text/x-python",
   "name": "python",
   "nbconvert_exporter": "python",
   "pygments_lexer": "ipython3",
   "version": "3.11.5"
  }
 },
 "nbformat": 4,
 "nbformat_minor": 2
}
