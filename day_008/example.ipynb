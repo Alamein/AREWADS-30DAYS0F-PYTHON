{
 "cells": [
  {
   "cell_type": "code",
   "execution_count": 2,
   "metadata": {},
   "outputs": [],
   "source": [
    "person = {\n",
    "    'firstname': \"Al'amin\",\n",
    "    'lastname' : 'Nababa',\n",
    "    'age' : 210,\n",
    "    'country' : 'Nigeria',\n",
    "    'state' : 'Kano',\n",
    "    'is_married' : False,\n",
    "    'skills' : ['HTML', 'CSS', 'JavaScript', 'Python'],\n",
    "    'address' : {\n",
    "        'street' : 'Space street',\n",
    "        'Zipcode' : '1233332'\n",
    "    }\n",
    "}"
   ]
  },
  {
   "cell_type": "code",
   "execution_count": 3,
   "metadata": {},
   "outputs": [
    {
     "name": "stdout",
     "output_type": "stream",
     "text": [
      "8\n"
     ]
    }
   ],
   "source": [
    "print(len(person))"
   ]
  },
  {
   "cell_type": "code",
   "execution_count": 4,
   "metadata": {},
   "outputs": [
    {
     "name": "stdout",
     "output_type": "stream",
     "text": [
      "Al'amin\n"
     ]
    }
   ],
   "source": [
    "print(person['firstname'])"
   ]
  },
  {
   "cell_type": "code",
   "execution_count": 6,
   "metadata": {},
   "outputs": [
    {
     "name": "stdout",
     "output_type": "stream",
     "text": [
      "Nababa\n"
     ]
    }
   ],
   "source": [
    "print(person['lastname'])"
   ]
  },
  {
   "cell_type": "code",
   "execution_count": 8,
   "metadata": {},
   "outputs": [
    {
     "name": "stdout",
     "output_type": "stream",
     "text": [
      "['HTML', 'CSS', 'JavaScript', 'Python']\n"
     ]
    }
   ],
   "source": [
    "print(person['skills'])"
   ]
  },
  {
   "cell_type": "code",
   "execution_count": 9,
   "metadata": {},
   "outputs": [
    {
     "name": "stdout",
     "output_type": "stream",
     "text": [
      "Python\n"
     ]
    }
   ],
   "source": [
    "print(person['skills'][-1])"
   ]
  },
  {
   "cell_type": "code",
   "execution_count": 5,
   "metadata": {},
   "outputs": [
    {
     "name": "stdout",
     "output_type": "stream",
     "text": [
      "False\n"
     ]
    }
   ],
   "source": [
    "print(person['is_married'])"
   ]
  },
  {
   "cell_type": "code",
   "execution_count": 10,
   "metadata": {},
   "outputs": [
    {
     "name": "stdout",
     "output_type": "stream",
     "text": [
      "{'street': 'Space street', 'Zipcode': '1233332'}\n"
     ]
    }
   ],
   "source": [
    "print(person['address'])"
   ]
  },
  {
   "cell_type": "code",
   "execution_count": 11,
   "metadata": {},
   "outputs": [
    {
     "name": "stdout",
     "output_type": "stream",
     "text": [
      "Space street\n"
     ]
    }
   ],
   "source": [
    "print(person['address']['street'])"
   ]
  },
  {
   "cell_type": "code",
   "execution_count": 12,
   "metadata": {},
   "outputs": [
    {
     "data": {
      "text/plain": [
       "\"Al'amin\""
      ]
     },
     "execution_count": 12,
     "metadata": {},
     "output_type": "execute_result"
    }
   ],
   "source": [
    "person.get('firstname')"
   ]
  },
  {
   "cell_type": "code",
   "execution_count": 13,
   "metadata": {},
   "outputs": [
    {
     "data": {
      "text/plain": [
       "'Nababa'"
      ]
     },
     "execution_count": 13,
     "metadata": {},
     "output_type": "execute_result"
    }
   ],
   "source": [
    "person.get('lastname')"
   ]
  },
  {
   "cell_type": "code",
   "execution_count": 14,
   "metadata": {},
   "outputs": [
    {
     "data": {
      "text/plain": [
       "'Nigeria'"
      ]
     },
     "execution_count": 14,
     "metadata": {},
     "output_type": "execute_result"
    }
   ],
   "source": [
    "person.get('country')"
   ]
  },
  {
   "cell_type": "code",
   "execution_count": 17,
   "metadata": {},
   "outputs": [
    {
     "data": {
      "text/plain": [
       "['HTML', 'CSS', 'JavaScript', 'Python']"
      ]
     },
     "execution_count": 17,
     "metadata": {},
     "output_type": "execute_result"
    }
   ],
   "source": [
    "person.get('skills')"
   ]
  },
  {
   "cell_type": "code",
   "execution_count": 18,
   "metadata": {},
   "outputs": [],
   "source": [
    "person.get('city')"
   ]
  },
  {
   "cell_type": "code",
   "execution_count": 19,
   "metadata": {},
   "outputs": [],
   "source": [
    "person['status'] = 'Student'"
   ]
  },
  {
   "cell_type": "code",
   "execution_count": 20,
   "metadata": {},
   "outputs": [
    {
     "name": "stdout",
     "output_type": "stream",
     "text": [
      "{'firstname': \"Al'amin\", 'lastname': 'Nababa', 'age': 210, 'country': 'Nigeria', 'state': 'Kano', 'is_married': False, 'skills': ['HTML', 'CSS', 'JavaScript', 'Python'], 'address': {'street': 'Space street', 'Zipcode': '1233332'}, 'status': 'Student'}\n"
     ]
    }
   ],
   "source": [
    "print(person)"
   ]
  },
  {
   "cell_type": "code",
   "execution_count": 21,
   "metadata": {},
   "outputs": [],
   "source": [
    "person['skills'].append('Ds')"
   ]
  },
  {
   "cell_type": "code",
   "execution_count": 22,
   "metadata": {},
   "outputs": [
    {
     "name": "stdout",
     "output_type": "stream",
     "text": [
      "{'firstname': \"Al'amin\", 'lastname': 'Nababa', 'age': 210, 'country': 'Nigeria', 'state': 'Kano', 'is_married': False, 'skills': ['HTML', 'CSS', 'JavaScript', 'Python', 'Ds'], 'address': {'street': 'Space street', 'Zipcode': '1233332'}, 'status': 'Student'}\n"
     ]
    }
   ],
   "source": [
    "print(person)"
   ]
  },
  {
   "cell_type": "code",
   "execution_count": 23,
   "metadata": {},
   "outputs": [],
   "source": [
    "person['skills'][-1] = 'Data Science'"
   ]
  },
  {
   "cell_type": "code",
   "execution_count": 24,
   "metadata": {},
   "outputs": [
    {
     "data": {
      "text/plain": [
       "['HTML', 'CSS', 'JavaScript', 'Python', 'Data Science']"
      ]
     },
     "execution_count": 24,
     "metadata": {},
     "output_type": "execute_result"
    }
   ],
   "source": [
    "person.get('skills')"
   ]
  },
  {
   "cell_type": "code",
   "execution_count": 25,
   "metadata": {},
   "outputs": [
    {
     "data": {
      "text/plain": [
       "{'street': 'Space street', 'Zipcode': '1233332'}"
      ]
     },
     "execution_count": 25,
     "metadata": {},
     "output_type": "execute_result"
    }
   ],
   "source": [
    "person.pop('address')"
   ]
  },
  {
   "cell_type": "code",
   "execution_count": 26,
   "metadata": {},
   "outputs": [
    {
     "data": {
      "text/plain": [
       "{'firstname': \"Al'amin\",\n",
       " 'lastname': 'Nababa',\n",
       " 'age': 210,\n",
       " 'country': 'Nigeria',\n",
       " 'state': 'Kano',\n",
       " 'is_married': False,\n",
       " 'skills': ['HTML', 'CSS', 'JavaScript', 'Python', 'Data Science'],\n",
       " 'status': 'Student'}"
      ]
     },
     "execution_count": 26,
     "metadata": {},
     "output_type": "execute_result"
    }
   ],
   "source": [
    "person"
   ]
  },
  {
   "cell_type": "code",
   "execution_count": 27,
   "metadata": {},
   "outputs": [
    {
     "data": {
      "text/plain": [
       "('status', 'Student')"
      ]
     },
     "execution_count": 27,
     "metadata": {},
     "output_type": "execute_result"
    }
   ],
   "source": [
    "person.popitem()"
   ]
  },
  {
   "cell_type": "code",
   "execution_count": 28,
   "metadata": {},
   "outputs": [
    {
     "data": {
      "text/plain": [
       "{'firstname': \"Al'amin\",\n",
       " 'lastname': 'Nababa',\n",
       " 'age': 210,\n",
       " 'country': 'Nigeria',\n",
       " 'state': 'Kano',\n",
       " 'is_married': False,\n",
       " 'skills': ['HTML', 'CSS', 'JavaScript', 'Python', 'Data Science']}"
      ]
     },
     "execution_count": 28,
     "metadata": {},
     "output_type": "execute_result"
    }
   ],
   "source": [
    "person"
   ]
  },
  {
   "cell_type": "code",
   "execution_count": 29,
   "metadata": {},
   "outputs": [],
   "source": [
    "del person['state']"
   ]
  },
  {
   "cell_type": "code",
   "execution_count": 30,
   "metadata": {},
   "outputs": [
    {
     "data": {
      "text/plain": [
       "{'firstname': \"Al'amin\",\n",
       " 'lastname': 'Nababa',\n",
       " 'age': 210,\n",
       " 'country': 'Nigeria',\n",
       " 'is_married': False,\n",
       " 'skills': ['HTML', 'CSS', 'JavaScript', 'Python', 'Data Science']}"
      ]
     },
     "execution_count": 30,
     "metadata": {},
     "output_type": "execute_result"
    }
   ],
   "source": [
    "person"
   ]
  },
  {
   "cell_type": "code",
   "execution_count": 31,
   "metadata": {},
   "outputs": [
    {
     "data": {
      "text/plain": [
       "dict_items([('firstname', \"Al'amin\"), ('lastname', 'Nababa'), ('age', 210), ('country', 'Nigeria'), ('is_married', False), ('skills', ['HTML', 'CSS', 'JavaScript', 'Python', 'Data Science'])])"
      ]
     },
     "execution_count": 31,
     "metadata": {},
     "output_type": "execute_result"
    }
   ],
   "source": [
    "person.items()"
   ]
  },
  {
   "cell_type": "code",
   "execution_count": 32,
   "metadata": {},
   "outputs": [
    {
     "data": {
      "text/plain": [
       "{'firstname': \"Al'amin\",\n",
       " 'lastname': 'Nababa',\n",
       " 'age': 210,\n",
       " 'country': 'Nigeria',\n",
       " 'is_married': False,\n",
       " 'skills': ['HTML', 'CSS', 'JavaScript', 'Python', 'Data Science']}"
      ]
     },
     "execution_count": 32,
     "metadata": {},
     "output_type": "execute_result"
    }
   ],
   "source": [
    "person"
   ]
  },
  {
   "cell_type": "code",
   "execution_count": 33,
   "metadata": {},
   "outputs": [
    {
     "data": {
      "text/plain": [
       "dict_keys(['firstname', 'lastname', 'age', 'country', 'is_married', 'skills'])"
      ]
     },
     "execution_count": 33,
     "metadata": {},
     "output_type": "execute_result"
    }
   ],
   "source": [
    "person.keys()"
   ]
  },
  {
   "cell_type": "code",
   "execution_count": 34,
   "metadata": {},
   "outputs": [
    {
     "data": {
      "text/plain": [
       "dict_values([\"Al'amin\", 'Nababa', 210, 'Nigeria', False, ['HTML', 'CSS', 'JavaScript', 'Python', 'Data Science']])"
      ]
     },
     "execution_count": 34,
     "metadata": {},
     "output_type": "execute_result"
    }
   ],
   "source": [
    "person.values()"
   ]
  }
 ],
 "metadata": {
  "kernelspec": {
   "display_name": "Python 3",
   "language": "python",
   "name": "python3"
  },
  "language_info": {
   "codemirror_mode": {
    "name": "ipython",
    "version": 3
   },
   "file_extension": ".py",
   "mimetype": "text/x-python",
   "name": "python",
   "nbconvert_exporter": "python",
   "pygments_lexer": "ipython3",
   "version": "3.11.5"
  }
 },
 "nbformat": 4,
 "nbformat_minor": 2
}
