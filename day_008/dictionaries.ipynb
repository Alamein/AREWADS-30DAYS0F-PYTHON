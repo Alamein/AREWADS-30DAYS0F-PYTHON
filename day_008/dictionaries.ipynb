{
 "cells": [
  {
   "cell_type": "code",
   "execution_count": 17,
   "metadata": {},
   "outputs": [],
   "source": [
    "dog_dictnr = {}\n",
    "\n",
    "dog_dictnr['name'] = 'Police Dog'\n",
    "dog_dictnr['color'] = 'White'\n",
    "dog_dictnr['breed'] = 'German'\n",
    "dog_dictnr['legs'] = 4\n",
    "dog_dictnr['age'] = 2"
   ]
  },
  {
   "cell_type": "code",
   "execution_count": 18,
   "metadata": {},
   "outputs": [
    {
     "data": {
      "text/plain": [
       "{'name': 'Police Dog',\n",
       " 'color': 'White',\n",
       " 'breed': 'German',\n",
       " 'legs': 4,\n",
       " 'age': 2}"
      ]
     },
     "execution_count": 18,
     "metadata": {},
     "output_type": "execute_result"
    }
   ],
   "source": [
    "dog_dictnr"
   ]
  },
  {
   "cell_type": "code",
   "execution_count": 19,
   "metadata": {},
   "outputs": [],
   "source": [
    "student_dictnr = {}\n",
    "student_dictnr['first_name'] = \"Al'amin\"\n",
    "student_dictnr['last_name'] = 'Nababa'\n",
    "student_dictnr['gender'] = 'Male'\n",
    "student_dictnr['age'] = 19\n",
    "student_dictnr['marital_status'] = 'Single'\n",
    "student_dictnr['skills'] = ['HTML', 'CSS', 'Js', 'Python',]\n",
    "student_dictnr['country'] = 'Nigeria'\n",
    "student_dictnr['city'] = 'Abuja'\n",
    "student_dictnr['address'] = 'Sreet 4 Nuber.433 Garki Abuja'"
   ]
  },
  {
   "cell_type": "code",
   "execution_count": 20,
   "metadata": {},
   "outputs": [
    {
     "data": {
      "text/plain": [
       "{'first_name': \"Al'amin\",\n",
       " 'last_name': 'Nababa',\n",
       " 'gender': 'Male',\n",
       " 'age': 19,\n",
       " 'marital_status': 'Single',\n",
       " 'skills': ['HTML', 'CSS', 'Js', 'Python'],\n",
       " 'country': 'Nigeria',\n",
       " 'city': 'Abuja',\n",
       " 'address': 'Sreet 4 Nuber.433 Garki Abuja'}"
      ]
     },
     "execution_count": 20,
     "metadata": {},
     "output_type": "execute_result"
    }
   ],
   "source": [
    "student_dictnr"
   ]
  },
  {
   "cell_type": "code",
   "execution_count": 21,
   "metadata": {},
   "outputs": [
    {
     "data": {
      "text/plain": [
       "9"
      ]
     },
     "execution_count": 21,
     "metadata": {},
     "output_type": "execute_result"
    }
   ],
   "source": [
    "len(student_dictnr)"
   ]
  },
  {
   "cell_type": "code",
   "execution_count": 22,
   "metadata": {},
   "outputs": [],
   "source": [
    "skills = student_dictnr['skills']"
   ]
  },
  {
   "cell_type": "code",
   "execution_count": 23,
   "metadata": {},
   "outputs": [
    {
     "data": {
      "text/plain": [
       "['HTML', 'CSS', 'Js', 'Python']"
      ]
     },
     "execution_count": 23,
     "metadata": {},
     "output_type": "execute_result"
    }
   ],
   "source": [
    "skills"
   ]
  },
  {
   "cell_type": "code",
   "execution_count": 24,
   "metadata": {},
   "outputs": [
    {
     "data": {
      "text/plain": [
       "list"
      ]
     },
     "execution_count": 24,
     "metadata": {},
     "output_type": "execute_result"
    }
   ],
   "source": [
    "type(skills)"
   ]
  },
  {
   "cell_type": "code",
   "execution_count": 25,
   "metadata": {},
   "outputs": [],
   "source": [
    "student_dictnr['skills'].extend(['Data Science'])"
   ]
  },
  {
   "cell_type": "code",
   "execution_count": 27,
   "metadata": {},
   "outputs": [
    {
     "name": "stdout",
     "output_type": "stream",
     "text": [
      "Modified student Skills:  ['HTML', 'CSS', 'Js', 'Python', 'Data Science']\n"
     ]
    }
   ],
   "source": [
    "print('Modified student Skills: ', student_dictnr['skills'])"
   ]
  },
  {
   "cell_type": "code",
   "execution_count": 28,
   "metadata": {},
   "outputs": [],
   "source": [
    "keys = list(student_dictnr.keys())"
   ]
  },
  {
   "cell_type": "code",
   "execution_count": 29,
   "metadata": {},
   "outputs": [
    {
     "data": {
      "text/plain": [
       "['first_name',\n",
       " 'last_name',\n",
       " 'gender',\n",
       " 'age',\n",
       " 'marital_status',\n",
       " 'skills',\n",
       " 'country',\n",
       " 'city',\n",
       " 'address']"
      ]
     },
     "execution_count": 29,
     "metadata": {},
     "output_type": "execute_result"
    }
   ],
   "source": [
    "keys"
   ]
  },
  {
   "cell_type": "code",
   "execution_count": 30,
   "metadata": {},
   "outputs": [],
   "source": [
    "values = list(student_dictnr.values())"
   ]
  },
  {
   "cell_type": "code",
   "execution_count": 31,
   "metadata": {},
   "outputs": [
    {
     "data": {
      "text/plain": [
       "[\"Al'amin\",\n",
       " 'Nababa',\n",
       " 'Male',\n",
       " 19,\n",
       " 'Single',\n",
       " ['HTML', 'CSS', 'Js', 'Python', 'Data Science'],\n",
       " 'Nigeria',\n",
       " 'Abuja',\n",
       " 'Sreet 4 Nuber.433 Garki Abuja']"
      ]
     },
     "execution_count": 31,
     "metadata": {},
     "output_type": "execute_result"
    }
   ],
   "source": [
    "values"
   ]
  },
  {
   "cell_type": "code",
   "execution_count": 32,
   "metadata": {},
   "outputs": [],
   "source": [
    "items = list(student_dictnr.items())"
   ]
  },
  {
   "cell_type": "code",
   "execution_count": 33,
   "metadata": {},
   "outputs": [
    {
     "data": {
      "text/plain": [
       "[('first_name', \"Al'amin\"),\n",
       " ('last_name', 'Nababa'),\n",
       " ('gender', 'Male'),\n",
       " ('age', 19),\n",
       " ('marital_status', 'Single'),\n",
       " ('skills', ['HTML', 'CSS', 'Js', 'Python', 'Data Science']),\n",
       " ('country', 'Nigeria'),\n",
       " ('city', 'Abuja'),\n",
       " ('address', 'Sreet 4 Nuber.433 Garki Abuja')]"
      ]
     },
     "execution_count": 33,
     "metadata": {},
     "output_type": "execute_result"
    }
   ],
   "source": [
    "items"
   ]
  },
  {
   "cell_type": "code",
   "execution_count": 34,
   "metadata": {},
   "outputs": [],
   "source": [
    "del student_dictnr['address']"
   ]
  },
  {
   "cell_type": "code",
   "execution_count": 35,
   "metadata": {},
   "outputs": [],
   "source": [
    "del student_dictnr"
   ]
  },
  {
   "cell_type": "code",
   "execution_count": null,
   "metadata": {},
   "outputs": [],
   "source": [
    "print(\"Dictionary after deletion:\", student_dictnr)\n",
    "print()print(\"Dictionary after deletion:\", student_dictnr)\n",
    "print()print(\"Dictionary after deletion:\", student_dictnr)\n",
    "print()print(\"Dictionary after deletion:\", student_dictnr)\n",
    "print()print(\"Dictionary after deletion:\", student_dictnr)\n",
    "print()print(\"Dictionary after deletion:\", student_dictnr)\n",
    "print()print(\"Dictionary after deletion:\", student_dictnr)\n",
    "print()print(\"Dictionary after deletion:\", student_dictnr)\n",
    "print()print(\"Dictionary after deletion:\", student_dictnr)\n",
    "print()print(\"Dictionary after deletion:\", student_dictnr)\n",
    "print()print(\"Dictionary after deletion:\", student_dictnr)\n",
    "print()print(\"Dictionary after deletion:\", student_dictnr)\n",
    "print()print(\"Dictionary after deletion:\", student_dictnr)\n",
    "print()print(\"Dictionary after deletion:\", student_dictnr)\n",
    "print()print(\"Dictionary after deletion:\", student_dictnr)\n",
    "print()print(\"Dictionary after deletion:\", student_dictnr)\n",
    "print()print(\"Dictionary after deletion:\", student_dictnr)\n",
    "print()print(\"Dictionary after deletion:\", student_dictnr)\n",
    "print()print(\"Dictionary after deletion:\", student_dictnr)\n",
    "print()print(\"Dictionary after deletion:\", student_dictnr)\n",
    "print()print(\"Dictionary after deletion:\", student_dictnr)\n",
    "print()print(\"Dictionary after deletion:\", student_dictnr)\n",
    "print()print(\"Dictionary after deletion:\", student_dictnr)\n",
    "print()print(\"Dictionary after deletion:\", student_dictnr)\n",
    "print()print(\"Dictionary after deletion:\", student_dictnr)\n",
    "print()print(\"Dictionary after deletion:\", student_dictnr)\n",
    "print()print(\"Dictionary after deletion:\", student_dictnr)\n",
    "print()print(\"Dictionary after deletion:\", student_dictnr)\n",
    "print()print(\"Dictionary after deletion:\", student_dictnr)\n",
    "print()print(\"Dictionary after deletion:\", student_dictnr)\n",
    "print()print(\"Dictionary after deletion:\", student_dictnr)\n",
    "print()print(\"Dictionary after deletion:\", student_dictnr)\n",
    "print()print(\"Dictionary after deletion:\", student_dictnr)\n",
    "print()print(\"Dictionary after deletion:\", student_dictnr)\n",
    "print()print(\"Dictionary after deletion:\", student_dictnr)\n",
    "print()print(\"Dictionary after deletion:\", student_dictnr)\n",
    "print()print(\"Dictionary after deletion:\", student_dictnr)\n",
    "print()print(\"Dictionary after deletion:\", student_dictnr)\n",
    "print()print(\"Dictionary after deletion:\", student_dictnr)\n",
    "print()print(\"Dictionary after deletion:\", student_dictnr)\n",
    "print()print(\"Dictionary after deletion:\", student_dictnr)\n",
    "print()print(\"Dictionary after deletion:\", student_dictnr)\n",
    "print()print(\"Dictionary after deletion:\", student_dictnr)\n",
    "print()print(\"Dictionary after deletion:\", student_dictnr)\n",
    "print()print(\"Dictionary after deletion:\", student_dictnr)\n",
    "print()print(\"Dictionary after deletion:\", student_dictnr)\n",
    "print()print(\"Dictionary after deletion:\", student_dictnr)\n",
    "print()print(\"Dictionary after deletion:\", student_dictnr)\n",
    "print()print(\"Dictionary after deletion:\", student_dictnr)\n",
    "print()print(\"Dictionary after deletion:\", student_dictnr)\n",
    "print()print(\"Dictionary after deletion:\", student_dictnr)\n",
    "print()print(\"Dictionary after deletion:\", student_dictnr)\n",
    "print()print(\"Dictionary after deletion:\", student_dictnr)\n",
    "print()print(\"Dictionary after deletion:\", student_dictnr)\n",
    "print()print(\"Dictionary after deletion:\", student_dictnr)\n",
    "print()print(\"Dictionary after deletion:\", student_dictnr)\n",
    "print()print(\"Dictionary after deletion:\", student_dictnr)\n",
    "print()print(\"Dictionary after deletion:\", student_dictnr)\n",
    "print()print(\"Dictionary after deletion:\", student_dictnr)\n",
    "print()print(\"Dictionary after deletion:\", student_dictnr)\n",
    "print()print(\"Dictionary after deletion:\", student_dictnr)\n",
    "print()print(\"Dictionary after deletion:\", student_dictnr)\n",
    "print()print(\"Dictionary after deletion:\", student_dictnr)\n",
    "print()print(\"Dictionary after deletion:\", student_dictnr)\n",
    "print()print(\"Dictionary after deletion:\", student_dictnr)\n",
    "print()print(\"Dictionary after deletion:\", student_dictnr)\n",
    "print()print(\"Dictionary after deletion:\", student_dictnr)\n",
    "print()print(\"Dictionary after deletion:\", student_dictnr)\n",
    "print()print(\"Dictionary after deletion:\", student_dictnr)\n",
    "print()print(\"Dictionary after deletion:\", student_dictnr)\n",
    "print()print(\"Dictionary after deletion:\", student_dictnr)\n",
    "print()print(\"Dictionary after deletion:\", student_dictnr)\n",
    "print()print(\"Dictionary after deletion:\", student_dictnr)\n",
    "print()print(\"Dictionary after deletion:\", student_dictnr)\n",
    "print()print(\"Dictionary after deletion:\", student_dictnr)\n",
    "print()print(\"Dictionary after deletion:\", student_dictnr)\n",
    "print()print(\"Dictionary after deletion:\", student_dictnr)\n",
    "print()print(\"Dictionary after deletion:\", student_dictnr)\n",
    "print()print(\"Dictionary after deletion:\", student_dictnr)\n",
    "print()print(\"Dictionary after deletion:\", student_dictnr)\n",
    "print()print(\"Dictionary after deletion:\", student_dictnr)\n",
    "print()print(\"Dictionary after deletion:\", student_dictnr)\n",
    "print()print(\"Dictionary after deletion:\", student_dictnr)\n",
    "print()print(\"Dictionary after deletion:\", student_dictnr)\n",
    "print()print(\"Dictionary after deletion:\", student_dictnr)\n",
    "print()print(\"Dictionary after deletion:\", student_dictnr)\n",
    "print()print(\"Dictionary after deletion:\", student_dictnr)\n",
    "print()print(\"Dictionary after deletion:\", student_dictnr)\n",
    "print()print(\"Dictionary after deletion:\", student_dictnr)\n",
    "print()print(\"Dictionary after deletion:\", student_dictnr)\n",
    "print()print(\"Dictionary after deletion:\", student_dictnr)\n",
    "print()print(\"Dictionary after deletion:\", student_dictnr)\n",
    "print()print(\"Dictionary after deletion:\", student_dictnr)\n",
    "print()print(\"Dictionary after deletion:\", student_dictnr)\n",
    "print()print(\"Dictionary after deletion:\", student_dictnr)\n",
    "print()print(\"Dictionary after deletion:\", student_dictnr)\n",
    "print()print(\"Dictionary after deletion:\", student_dictnr)\n",
    "print()print(\"Dictionary after deletion:\", student_dictnr)\n",
    "print()print(\"Dictionary after deletion:\", student_dictnr)\n",
    "print()print(\"Dictionary after deletion:\", student_dictnr)\n",
    "print()print(\"Dictionary after deletion:\", student_dictnr)\n",
    "print()print(\"Dictionary after deletion:\", student_dictnr)\n",
    "print()print(\"Dictionary after deletion:\", student_dictnr)\n",
    "print()print(\"Dictionary after deletion:\", student_dictnr)\n",
    "print()print(\"Dictionary after deletion:\", student_dictnr)\n",
    "print()print(\"Dictionary after deletion:\", student_dictnr)\n",
    "print()print(\"Dictionary after deletion:\", student_dictnr)\n",
    "print()print(\"Dictionary after deletion:\", student_dictnr)\n",
    "print()print(\"Dictionary after deletion:\", student_dictnr)\n",
    "print()print(\"Dictionary after deletion:\", student_dictnr)\n",
    "print()print(\"Dictionary after deletion:\", student_dictnr)\n",
    "print()print(\"Dictionary after deletion:\", student_dictnr)\n",
    "print()print(\"Dictionary after deletion:\", student_dictnr)\n",
    "print()print(\"Dictionary after deletion:\", student_dictnr)\n",
    "print()print(\"Dictionary after deletion:\", student_dictnr)\n",
    "print()print(\"Dictionary after deletion:\", student_dictnr)\n",
    "print()print(\"Dictionary after deletion:\", student_dictnr)\n",
    "print()print(\"Dictionary after deletion:\", student_dictnr)\n",
    "print()print(\"Dictionary after deletion:\", student_dictnr)\n",
    "print()print(\"Dictionary after deletion:\", student_dictnr)\n",
    "print()print(\"Dictionary after deletion:\", student_dictnr)\n",
    "print()print(\"Dictionary after deletion:\", student_dictnr)\n",
    "print()print(\"Dictionary after deletion:\", student_dictnr)\n",
    "print()print(\"Dictionary after deletion:\", student_dictnr)\n",
    "print()print(\"Dictionary after deletion:\", student_dictnr)\n",
    "print()print(\"Dictionary after deletion:\", student_dictnr)\n",
    "print()print(\"Dictionary after deletion:\", student_dictnr)\n",
    "print()print(\"Dictionary after deletion:\", student_dictnr)\n",
    "print()print(\"Dictionary after deletion:\", student_dictnr)\n",
    "print()print(\"Dictionary after deletion:\", student_dictnr)\n",
    "print()print(\"Dictionary after deletion:\", student_dictnr)\n",
    "print()print(\"Dictionary after deletion:\", student_dictnr)\n",
    "print()print(\"Dictionary after deletion:\", student_dictnr)\n",
    "print()print(\"Dictionary after deletion:\", student_dictnr)\n",
    "print()print(\"Dictionary after deletion:\", student_dictnr)\n",
    "print()print(\"Dictionary after deletion:\", student_dictnr)\n",
    "print()print(\"Dictionary after deletion:\", student_dictnr)\n",
    "print()print(\"Dictionary after deletion:\", student_dictnr)\n",
    "print()print(\"Dictionary after deletion:\", student_dictnr)\n",
    "print()print(\"Dictionary after deletion:\", student_dictnr)\n",
    "print()print(\"Dictionary after deletion:\", student_dictnr)\n",
    "print()print(\"Dictionary after deletion:\", student_dictnr)\n",
    "print()print(\"Dictionary after deletion:\", student_dictnr)\n",
    "print()print(\"Dictionary after deletion:\", student_dictnr)\n",
    "print()print(\"Dictionary after deletion:\", student_dictnr)\n",
    "print()print(\"Dictionary after deletion:\", student_dictnr)\n",
    "print()print(\"Dictionary after deletion:\", student_dictnr)\n",
    "print()print(\"Dictionary after deletion:\", student_dictnr)\n",
    "print()print(\"Dictionary after deletion:\", student_dictnr)\n",
    "print()print(\"Dictionary after deletion:\", student_dictnr)\n",
    "print()print(\"Dictionary after deletion:\", student_dictnr)\n",
    "print()print(\"Dictionary after deletion:\", student_dictnr)\n",
    "print()print(\"Dictionary after deletion:\", student_dictnr)\n",
    "print()print(\"Dictionary after deletion:\", student_dictnr)\n",
    "print()print(\"Dictionary after deletion:\", student_dictnr)\n",
    "print()print(\"Dictionary after deletion:\", student_dictnr)\n",
    "print()print(\"Dictionary after deletion:\", student_dictnr)\n",
    "print()print(\"Dictionary after deletion:\", student_dictnr)\n",
    "print()print(\"Dictionary after deletion:\", student_dictnr)\n",
    "print()print(\"Dictionary after deletion:\", student_dictnr)\n",
    "print()print(\"Dictionary after deletion:\", student_dictnr)\n",
    "print()print(\"Dictionary after deletion:\", student_dictnr)\n",
    "print()print(\"Dictionary after deletion:\", student_dictnr)\n",
    "print()print(\"Dictionary after deletion:\", student_dictnr)\n",
    "print()print(\"Dictionary after deletion:\", student_dictnr)\n",
    "print()print(\"Dictionary after deletion:\", student_dictnr)\n",
    "print()print(\"Dictionary after deletion:\", student_dictnr)\n",
    "print()print(\"Dictionary after deletion:\", student_dictnr)\n",
    "print()print(\"Dictionary after deletion:\", student_dictnr)\n",
    "print()print(\"Dictionary after deletion:\", student_dictnr)\n",
    "print()print(\"Dictionary after deletion:\", student_dictnr)\n",
    "print()print(\"Dictionary after deletion:\", student_dictnr)\n",
    "print()print(\"Dictionary after deletion:\", student_dictnr)\n",
    "print()print(\"Dictionary after deletion:\", student_dictnr)\n",
    "print()print(\"Dictionary after deletion:\", student_dictnr)\n",
    "print()print(\"Dictionary after deletion:\", student_dictnr)\n",
    "print()print(\"Dictionary after deletion:\", student_dictnr)\n",
    "print()print(\"Dictionary after deletion:\", student_dictnr)\n",
    "print()print(\"Dictionary after deletion:\", student_dictnr)\n",
    "print()print(\"Dictionary after deletion:\", student_dictnr)\n",
    "print()print(\"Dictionary after deletion:\", student_dictnr)\n",
    "print()print(\"Dictionary after deletion:\", student_dictnr)\n",
    "print()print(\"Dictionary after deletion:\", student_dictnr)\n",
    "print()print(\"Dictionary after deletion:\", student_dictnr)\n",
    "print()print(\"Dictionary after deletion:\", student_dictnr)\n",
    "print()print(\"Dictionary after deletion:\", student_dictnr)\n",
    "print()print(\"Dictionary after deletion:\", student_dictnr)\n",
    "print()print(\"Dictionary after deletion:\", student_dictnr)\n",
    "print()print(\"Dictionary after deletion:\", student_dictnr)\n",
    "print()print(\"Dictionary after deletion:\", student_dictnr)\n",
    "print()print(\"Dictionary after deletion:\", student_dictnr)\n",
    "print()print(\"Dictionary after deletion:\", student_dictnr)\n",
    "print()print(\"Dictionary after deletion:\", student_dictnr)\n",
    "print()print(\"Dictionary after deletion:\", student_dictnr)\n",
    "print()print(\"Dictionary after deletion:\", student_dictnr)\n",
    "print()print(\"Dictionary after deletion:\", student_dictnr)\n",
    "print()print(\"Dictionary after deletion:\", student_dictnr)\n",
    "print()print(\"Dictionary after deletion:\", student_dictnr)\n",
    "print()print(\"Dictionary after deletion:\", student_dictnr)\n",
    "print()print(\"Dictionary after deletion:\", student_dictnr)\n",
    "print()print(\"Dictionary after deletion:\", student_dictnr)\n",
    "print()print(\"Dictionary after deletion:\", student_dictnr)\n",
    "print()print(\"Dictionary after deletion:\", student_dictnr)\n",
    "print()print(\"Dictionary after deletion:\", student_dictnr)\n",
    "print()print(\"Dictionary after deletion:\", student_dictnr)\n",
    "print()print(\"Dictionary after deletion:\", student_dictnr)\n",
    "print()print(\"Dictionary after deletion:\", student_dictnr)\n",
    "print()print(\"Dictionary after deletion:\", student_dictnr)\n",
    "print()print(\"Dictionary after deletion:\", student_dictnr)\n",
    "print()print(\"Dictionary after deletion:\", student_dictnr)\n",
    "print()print(\"Dictionary after deletion:\", student_dictnr)\n",
    "print()print(\"Dictionary after deletion:\", student_dictnr)\n",
    "print()print(\"Dictionary after deletion:\", student_dictnr)\n",
    "print()print(\"Dictionary after deletion:\", student_dictnr)\n",
    "print()print(\"Dictionary after deletion:\", student_dictnr)\n",
    "print()print(\"Dictionary after deletion:\", student_dictnr)\n",
    "print()print(\"Dictionary after deletion:\", student_dictnr)\n",
    "print()print(\"Dictionary after deletion:\", student_dictnr)\n",
    "print()print(\"Dictionary after deletion:\", student_dictnr)\n",
    "print()print(\"Dictionary after deletion:\", student_dictnr)\n",
    "print()print(\"Dictionary after deletion:\", student_dictnr)\n",
    "print()print(\"Dictionary after deletion:\", student_dictnr)\n",
    "print()print(\"Dictionary after deletion:\", student_dictnr)\n",
    "print()print(\"Dictionary after deletion:\", student_dictnr)\n",
    "print()print(\"Dictionary after deletion:\", student_dictnr)\n",
    "print()print(\"Dictionary after deletion:\", student_dictnr)\n",
    "print()print(\"Dictionary after deletion:\", student_dictnr)\n",
    "print()print(\"Dictionary after deletion:\", student_dictnr)\n",
    "print()print(\"Dictionary after deletion:\", student_dictnr)\n",
    "print()print(\"Dictionary after deletion:\", student_dictnr)\n",
    "print()print(\"Dictionary after deletion:\", student_dictnr)\n",
    "print()print(\"Dictionary after deletion:\", student_dictnr)\n",
    "print()print(\"Dictionary after deletion:\", student_dictnr)\n",
    "print()print(\"Dictionary after deletion:\", student_dictnr)\n",
    "print()print(\"Dictionary after deletion:\", student_dictnr)\n",
    "print()print(\"Dictionary after deletion:\", student_dictnr)\n",
    "print()print(\"Dictionary after deletion:\", student_dictnr)\n",
    "print()print(\"Dictionary after deletion:\", student_dictnr)\n",
    "print()print(\"Dictionary after deletion:\", student_dictnr)\n",
    "print()print(\"Dictionary after deletion:\", student_dictnr)\n",
    "print()print(\"Dictionary after deletion:\", student_dictnr)\n",
    "print()print(\"Dictionary after deletion:\", student_dictnr)\n",
    "print()print(\"Dictionary after deletion:\", student_dictnr)\n",
    "print()print(\"Dictionary after deletion:\", student_dictnr)\n",
    "print()print(\"Dictionary after deletion:\", student_dictnr)\n",
    "print()print(\"Dictionary after deletion:\", student_dictnr)\n",
    "print()print(\"Dictionary after deletion:\", student_dictnr)\n",
    "print()print(\"Dictionary after deletion:\", student_dictnr)\n",
    "print()print(\"Dictionary after deletion:\", student_dictnr)\n",
    "print()print(\"Dictionary after deletion:\", student_dictnr)\n",
    "print()print(\"Dictionary after deletion:\", student_dictnr)\n",
    "print()print(\"Dictionary after deletion:\", student_dictnr)\n",
    "print()"
   ]
  }
 ],
 "metadata": {
  "kernelspec": {
   "display_name": "Python 3",
   "language": "python",
   "name": "python3"
  },
  "language_info": {
   "codemirror_mode": {
    "name": "ipython",
    "version": 3
   },
   "file_extension": ".py",
   "mimetype": "text/x-python",
   "name": "python",
   "nbconvert_exporter": "python",
   "pygments_lexer": "ipython3",
   "version": "3.11.5"
  }
 },
 "nbformat": 4,
 "nbformat_minor": 2
}
