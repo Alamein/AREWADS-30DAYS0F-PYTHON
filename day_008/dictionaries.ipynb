{
 "cells": [
  {
   "cell_type": "code",
   "execution_count": 1,
   "metadata": {},
   "outputs": [],
   "source": [
    "dog_dictnr = {}\n",
    "\n",
    "dog_dictnr['name'] = 'Police Dog'\n",
    "dog_dictnr['color'] = 'White'\n",
    "dog_dictnr['breed'] = 'German'\n",
    "dog_dictnr['legs'] = 4\n",
    "dog_dictnr['age'] = 2"
   ]
  },
  {
   "cell_type": "code",
   "execution_count": 2,
   "metadata": {},
   "outputs": [
    {
     "data": {
      "text/plain": [
       "{'name': 'Police Dog',\n",
       " 'color': 'White',\n",
       " 'breed': 'German',\n",
       " 'legs': 4,\n",
       " 'age': 2}"
      ]
     },
     "execution_count": 2,
     "metadata": {},
     "output_type": "execute_result"
    }
   ],
   "source": [
    "dog_dictnr"
   ]
  },
  {
   "cell_type": "code",
   "execution_count": 3,
   "metadata": {},
   "outputs": [],
   "source": [
    "student_dictnr = {}\n",
    "student_dictnr['first_name'] = \"Al'amin\"\n",
    "student_dictnr['last_name'] = 'Nababa'\n",
    "student_dictnr['gender'] = 'Male'\n",
    "student_dictnr['age'] = 19\n",
    "student_dictnr['marital_status'] = 'Single'\n",
    "student_dictnr['skills'] = ['HTML', 'CSS', 'Js', 'Python',]\n",
    "student_dictnr['country'] = 'Nigeria'\n",
    "student_dictnr['city'] = 'Abuja'\n",
    "student_dictnr['address'] = 'Sreet 4 Nuber.433 Garki Abuja'"
   ]
  },
  {
   "cell_type": "code",
   "execution_count": 4,
   "metadata": {},
   "outputs": [
    {
     "data": {
      "text/plain": [
       "{'first_name': \"Al'amin\",\n",
       " 'last_name': 'Nababa',\n",
       " 'gender': 'Male',\n",
       " 'age': 19,\n",
       " 'marital_status': 'Single',\n",
       " 'skills': ['HTML', 'CSS', 'Js', 'Python'],\n",
       " 'country': 'Nigeria',\n",
       " 'city': 'Abuja',\n",
       " 'address': 'Sreet 4 Nuber.433 Garki Abuja'}"
      ]
     },
     "execution_count": 4,
     "metadata": {},
     "output_type": "execute_result"
    }
   ],
   "source": [
    "student_dictnr"
   ]
  },
  {
   "cell_type": "code",
   "execution_count": 5,
   "metadata": {},
   "outputs": [
    {
     "data": {
      "text/plain": [
       "9"
      ]
     },
     "execution_count": 5,
     "metadata": {},
     "output_type": "execute_result"
    }
   ],
   "source": [
    "len(student_dictnr)"
   ]
  },
  {
   "cell_type": "code",
   "execution_count": null,
   "metadata": {},
   "outputs": [],
   "source": [
    "\n",
    "print(\"Length of Student Dictionary:\", )\n",
    "print()\n",
    "# Exercise num5\n",
    "skills = student_dictnr['skills']\n",
    "print('Student Skills: ', skills)\n",
    "print(\"Data type of skills:\", type(skills))\n",
    "print()\n",
    "# Exercise num6\n",
    "student_dictnr['skills'].extend(['Data Science'])\n",
    "print('Modified student Skills: ', student_dictnr['skills'])\n",
    "print()\n",
    "# Exercise num7\n",
    "keys = list(student_dictnr.keys())\n",
    "print(\"Dictionary Keys:\", keys)\n",
    "print()\n",
    "# Exercise num8\n",
    "values = list(student_dictnr.values())\n",
    "print(\"Dictionary Values:\", values)\n",
    "print()\n",
    "# Exercise num9\n",
    "items = list(student_dictnr.items())\n",
    "print('Tuple: ', items)\n",
    "print()\n",
    "# Exercise num10\n",
    "del student_dictnr['address']\n",
    "print(\"Dictionary after deletion:\", student_dictnr)\n",
    "print()\n",
    "# Exercise num11\n",
    "del student_dictnr\n"
   ]
  }
 ],
 "metadata": {
  "kernelspec": {
   "display_name": "Python 3",
   "language": "python",
   "name": "python3"
  },
  "language_info": {
   "codemirror_mode": {
    "name": "ipython",
    "version": 3
   },
   "file_extension": ".py",
   "mimetype": "text/x-python",
   "name": "python",
   "nbconvert_exporter": "python",
   "pygments_lexer": "ipython3",
   "version": "3.11.5"
  }
 },
 "nbformat": 4,
 "nbformat_minor": 2
}
