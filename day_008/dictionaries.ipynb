{
 "cells": [
  {
   "cell_type": "code",
   "execution_count": 17,
   "metadata": {},
   "outputs": [],
   "source": [
    "dog_dictnr = {}\n",
    "\n",
    "dog_dictnr['name'] = 'Police Dog'\n",
    "dog_dictnr['color'] = 'White'\n",
    "dog_dictnr['breed'] = 'German'\n",
    "dog_dictnr['legs'] = 4\n",
    "dog_dictnr['age'] = 2"
   ]
  },
  {
   "cell_type": "code",
   "execution_count": 18,
   "metadata": {},
   "outputs": [
    {
     "data": {
      "text/plain": [
       "{'name': 'Police Dog',\n",
       " 'color': 'White',\n",
       " 'breed': 'German',\n",
       " 'legs': 4,\n",
       " 'age': 2}"
      ]
     },
     "execution_count": 18,
     "metadata": {},
     "output_type": "execute_result"
    }
   ],
   "source": [
    "dog_dictnr"
   ]
  },
  {
   "cell_type": "code",
   "execution_count": 19,
   "metadata": {},
   "outputs": [],
   "source": [
    "student_dictnr = {}\n",
    "student_dictnr['first_name'] = \"Al'amin\"\n",
    "student_dictnr['last_name'] = 'Nababa'\n",
    "student_dictnr['gender'] = 'Male'\n",
    "student_dictnr['age'] = 19\n",
    "student_dictnr['marital_status'] = 'Single'\n",
    "student_dictnr['skills'] = ['HTML', 'CSS', 'Js', 'Python',]\n",
    "student_dictnr['country'] = 'Nigeria'\n",
    "student_dictnr['city'] = 'Abuja'\n",
    "student_dictnr['address'] = 'Sreet 4 Nuber.433 Garki Abuja'"
   ]
  },
  {
   "cell_type": "code",
   "execution_count": 20,
   "metadata": {},
   "outputs": [
    {
     "data": {
      "text/plain": [
       "{'first_name': \"Al'amin\",\n",
       " 'last_name': 'Nababa',\n",
       " 'gender': 'Male',\n",
       " 'age': 19,\n",
       " 'marital_status': 'Single',\n",
       " 'skills': ['HTML', 'CSS', 'Js', 'Python'],\n",
       " 'country': 'Nigeria',\n",
       " 'city': 'Abuja',\n",
       " 'address': 'Sreet 4 Nuber.433 Garki Abuja'}"
      ]
     },
     "execution_count": 20,
     "metadata": {},
     "output_type": "execute_result"
    }
   ],
   "source": [
    "student_dictnr"
   ]
  },
  {
   "cell_type": "code",
   "execution_count": 21,
   "metadata": {},
   "outputs": [
    {
     "data": {
      "text/plain": [
       "9"
      ]
     },
     "execution_count": 21,
     "metadata": {},
     "output_type": "execute_result"
    }
   ],
   "source": [
    "len(student_dictnr)"
   ]
  },
  {
   "cell_type": "code",
   "execution_count": 22,
   "metadata": {},
   "outputs": [],
   "source": [
    "skills = student_dictnr['skills']"
   ]
  },
  {
   "cell_type": "code",
   "execution_count": 23,
   "metadata": {},
   "outputs": [
    {
     "data": {
      "text/plain": [
       "['HTML', 'CSS', 'Js', 'Python']"
      ]
     },
     "execution_count": 23,
     "metadata": {},
     "output_type": "execute_result"
    }
   ],
   "source": [
    "skills"
   ]
  },
  {
   "cell_type": "code",
   "execution_count": 24,
   "metadata": {},
   "outputs": [
    {
     "data": {
      "text/plain": [
       "list"
      ]
     },
     "execution_count": 24,
     "metadata": {},
     "output_type": "execute_result"
    }
   ],
   "source": [
    "type(skills)"
   ]
  },
  {
   "cell_type": "code",
   "execution_count": 25,
   "metadata": {},
   "outputs": [],
   "source": [
    "student_dictnr['skills'].extend(['Data Science'])"
   ]
  },
  {
   "cell_type": "code",
   "execution_count": 27,
   "metadata": {},
   "outputs": [
    {
     "name": "stdout",
     "output_type": "stream",
     "text": [
      "Modified student Skills:  ['HTML', 'CSS', 'Js', 'Python', 'Data Science']\n"
     ]
    }
   ],
   "source": [
    "print('Modified student Skills: ', student_dictnr['skills'])"
   ]
  },
  {
   "cell_type": "code",
   "execution_count": 28,
   "metadata": {},
   "outputs": [],
   "source": [
    "keys = list(student_dictnr.keys())"
   ]
  },
  {
   "cell_type": "code",
   "execution_count": 29,
   "metadata": {},
   "outputs": [
    {
     "data": {
      "text/plain": [
       "['first_name',\n",
       " 'last_name',\n",
       " 'gender',\n",
       " 'age',\n",
       " 'marital_status',\n",
       " 'skills',\n",
       " 'country',\n",
       " 'city',\n",
       " 'address']"
      ]
     },
     "execution_count": 29,
     "metadata": {},
     "output_type": "execute_result"
    }
   ],
   "source": [
    "keys"
   ]
  },
  {
   "cell_type": "code",
   "execution_count": null,
   "metadata": {},
   "outputs": [
    {
     "name": "stdout",
     "output_type": "stream",
     "text": [
      "Student Skills:  ['HTML', 'CSS', 'Js', 'Python']\n",
      "Data type of skills: <class 'list'>\n",
      "\n",
      "Modified student Skills:  ['HTML', 'CSS', 'Js', 'Python', 'Data Science']\n",
      "\n",
      "Dictionary Keys: ['first_name', 'last_name', 'gender', 'age', 'marital_status', 'skills', 'country', 'city', 'address']\n",
      "\n",
      "Dictionary Values: [\"Al'amin\", 'Nababa', 'Male', 19, 'Single', ['HTML', 'CSS', 'Js', 'Python', 'Data Science'], 'Nigeria', 'Abuja', 'Sreet 4 Nuber.433 Garki Abuja']\n",
      "\n",
      "Tuple:  [('first_name', \"Al'amin\"), ('last_name', 'Nababa'), ('gender', 'Male'), ('age', 19), ('marital_status', 'Single'), ('skills', ['HTML', 'CSS', 'Js', 'Python', 'Data Science']), ('country', 'Nigeria'), ('city', 'Abuja'), ('address', 'Sreet 4 Nuber.433 Garki Abuja')]\n",
      "\n",
      "Dictionary after deletion: {'first_name': \"Al'amin\", 'last_name': 'Nababa', 'gender': 'Male', 'age': 19, 'marital_status': 'Single', 'skills': ['HTML', 'CSS', 'Js', 'Python', 'Data Science'], 'country': 'Nigeria', 'city': 'Abuja'}\n",
      "\n"
     ]
    }
   ],
   "source": [
    "\n",
    "\n",
    "print(\"Dictionary Keys:\", keys)\n",
    "print()\n",
    "# Exercise num8\n",
    "values = list(student_dictnr.values())\n",
    "print(\"Dictionary Values:\", values)\n",
    "print()\n",
    "# Exercise num9\n",
    "items = list(student_dictnr.items())\n",
    "print('Tuple: ', items)\n",
    "print()\n",
    "# Exercise num10\n",
    "del student_dictnr['address']\n",
    "print(\"Dictionary after deletion:\", student_dictnr)\n",
    "print()\n",
    "# Exercise num11\n",
    "del student_dictnr\n"
   ]
  }
 ],
 "metadata": {
  "kernelspec": {
   "display_name": "Python 3",
   "language": "python",
   "name": "python3"
  },
  "language_info": {
   "codemirror_mode": {
    "name": "ipython",
    "version": 3
   },
   "file_extension": ".py",
   "mimetype": "text/x-python",
   "name": "python",
   "nbconvert_exporter": "python",
   "pygments_lexer": "ipython3",
   "version": "3.11.5"
  }
 },
 "nbformat": 4,
 "nbformat_minor": 2
}
