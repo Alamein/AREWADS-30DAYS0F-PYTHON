{
 "cells": [
  {
   "cell_type": "code",
   "execution_count": 95,
   "metadata": {},
   "outputs": [
    {
     "name": "stdout",
     "output_type": "stream",
     "text": [
      "List of fruits: ['Banana', 'Mango', 'Orange', 'Lemon']\n",
      "Number of fruits:  4\n"
     ]
    }
   ],
   "source": [
    "fruits = ['Banana','Mango','Orange','Lemon']\n",
    "vegetables = ['Tomato','Potato','Cabage','Onion','Carrot']\n",
    "animal_products = ['Milk','Meat','Yoghurt','Butter']\n",
    "web_techs = ['HTML','CSS','JavaScript','React','Redux','MongoDB','Node']\n",
    "countries = ['Finland','Sweden','Norway','Denmark','Estonia']\n",
    "\n",
    "# printing the list and it's lengh\n",
    "print(f'List of fruits: {fruits}')\n",
    "print(f'Number of fruits: ', len(fruits))"
   ]
  },
  {
   "cell_type": "code",
   "execution_count": 96,
   "metadata": {},
   "outputs": [
    {
     "name": "stdout",
     "output_type": "stream",
     "text": [
      "List of Vegetables: ['Tomato', 'Potato', 'Cabage', 'Onion', 'Carrot']\n",
      "Number of Vegetables:  5\n"
     ]
    }
   ],
   "source": [
    "print(f'List of Vegetables: {vegetables}')\n",
    "print(f'Number of Vegetables: ', len(vegetables))"
   ]
  },
  {
   "cell_type": "code",
   "execution_count": 97,
   "metadata": {},
   "outputs": [
    {
     "name": "stdout",
     "output_type": "stream",
     "text": [
      "List of Animals products: ['Milk', 'Meat', 'Yoghurt', 'Butter']\n",
      "Number of animals products:  4\n"
     ]
    }
   ],
   "source": [
    "print(f'List of Animals products: {animal_products}')\n",
    "print(f'Number of animals products: ', len(animal_products))"
   ]
  },
  {
   "cell_type": "code",
   "execution_count": 98,
   "metadata": {},
   "outputs": [
    {
     "name": "stdout",
     "output_type": "stream",
     "text": [
      "List of Web Development Technologies: ['HTML', 'CSS', 'JavaScript', 'React', 'Redux', 'MongoDB', 'Node']\n",
      "Number of Web Development Technologies:  7\n"
     ]
    }
   ],
   "source": [
    "print(f'List of Web Development Technologies: {web_techs}')\n",
    "print(f'Number of Web Development Technologies: ', len(web_techs))"
   ]
  },
  {
   "cell_type": "code",
   "execution_count": 99,
   "metadata": {},
   "outputs": [
    {
     "name": "stdout",
     "output_type": "stream",
     "text": [
      "List of contries: ['Finland', 'Sweden', 'Norway', 'Denmark', 'Estonia']\n",
      "Number of countries in the list:  5\n"
     ]
    }
   ],
   "source": [
    "print(f'List of contries: {countries}')\n",
    "print(f'Number of countries in the list: ', len(countries))"
   ]
  },
  {
   "cell_type": "code",
   "execution_count": 100,
   "metadata": {},
   "outputs": [
    {
     "name": "stdout",
     "output_type": "stream",
     "text": [
      "List of different data types: [\"Al'amin\", 21, True, {'country': 'Nigeria', 'city': 'Abuja'}]\n"
     ]
    }
   ],
   "source": [
    "# Lists can have items of different data types\n",
    "lst = ['Al\\'amin', 21, True, {'country':'Nigeria', 'city':'Abuja'}] # list containing different data types\n",
    "print(f'List of different data types: {lst}')"
   ]
  },
  {
   "cell_type": "markdown",
   "metadata": {},
   "source": [
    "### Accessing List Items Using Positive Indexing"
   ]
  },
  {
   "cell_type": "code",
   "execution_count": 101,
   "metadata": {},
   "outputs": [
    {
     "name": "stdout",
     "output_type": "stream",
     "text": [
      "First fruit in the list: Banana\n",
      "Second Fruit in the list: Mango\n",
      "Third fruit in the list: Orange\n",
      "Last fruit in the list is: Lemon\n"
     ]
    }
   ],
   "source": [
    "# Accessing List Items Using Positive Indexing\n",
    "print(f'First fruit in the list: {fruits[0]}\\nSecond Fruit in the list: {fruits[1]}\\nThird fruit in the list: {fruits[2]}\\nLast fruit in the list is: {fruits[3]}')"
   ]
  },
  {
   "cell_type": "code",
   "execution_count": 102,
   "metadata": {},
   "outputs": [
    {
     "name": "stdout",
     "output_type": "stream",
     "text": [
      "Last fruit in the list: Lemon\n"
     ]
    }
   ],
   "source": [
    "last_fruit = len(fruits) - 1\n",
    "print(f'Last fruit in the list: {fruits[last_fruit]}')"
   ]
  },
  {
   "cell_type": "markdown",
   "metadata": {},
   "source": [
    "#### Accessing List Items Using Negative Indexing\n"
   ]
  },
  {
   "cell_type": "code",
   "execution_count": 103,
   "metadata": {},
   "outputs": [
    {
     "name": "stdout",
     "output_type": "stream",
     "text": [
      "First fruit in the list: Banana\n",
      "Second Fruit in the list: Mango\n",
      "Third fruit in the list: Orange\n",
      "Last fruit in the list is: Lemon\n"
     ]
    }
   ],
   "source": [
    "# Accessing List Items Using Negative Indexing\n",
    "print(f'First fruit in the list: {fruits[-4]}\\nSecond Fruit in the list: {fruits[-3]}\\nThird fruit in the list: {fruits[-2]}\\nLast fruit in the list is: {fruits[-1]}')"
   ]
  },
  {
   "cell_type": "markdown",
   "metadata": {},
   "source": [
    "### Unpacking List Items"
   ]
  },
  {
   "cell_type": "code",
   "execution_count": 104,
   "metadata": {},
   "outputs": [],
   "source": [
    "fruit = ['banana', 'orange', 'mango', 'lemon','lime','apple']\n",
    "first_fruit, second_fruit, third_fruit, *rest = fruit"
   ]
  },
  {
   "cell_type": "code",
   "execution_count": 105,
   "metadata": {},
   "outputs": [
    {
     "name": "stdout",
     "output_type": "stream",
     "text": [
      "banana\n",
      "orange\n",
      "mango\n",
      "['lemon', 'lime', 'apple']\n"
     ]
    }
   ],
   "source": [
    "print(first_fruit)\n",
    "print(second_fruit)\n",
    "print(third_fruit)\n",
    "print(rest)"
   ]
  },
  {
   "cell_type": "code",
   "execution_count": 106,
   "metadata": {},
   "outputs": [],
   "source": [
    "first, second, third, *digits, tenthe = [1,2,3,4,5,6,7,8,9,10]"
   ]
  },
  {
   "cell_type": "code",
   "execution_count": 107,
   "metadata": {},
   "outputs": [
    {
     "name": "stdout",
     "output_type": "stream",
     "text": [
      "1\n",
      "2\n",
      "3\n",
      "[4, 5, 6, 7, 8, 9]\n",
      "10\n"
     ]
    }
   ],
   "source": [
    "print(first)\n",
    "print(second)\n",
    "print(third)\n",
    "print(digits)\n",
    "print(tenthe)"
   ]
  },
  {
   "cell_type": "code",
   "execution_count": 108,
   "metadata": {},
   "outputs": [],
   "source": [
    "countries = ['Germany', 'France','Belgium','Sweden','Denmark','Finland','Norway','Iceland','Estonia']\n",
    "gr, fr, bg, sw, *scandic, es = countries"
   ]
  },
  {
   "cell_type": "code",
   "execution_count": 109,
   "metadata": {},
   "outputs": [
    {
     "name": "stdout",
     "output_type": "stream",
     "text": [
      "Germany\n",
      "France\n",
      "Belgium\n",
      "Sweden\n",
      "['Denmark', 'Finland', 'Norway', 'Iceland']\n",
      "Estonia\n"
     ]
    }
   ],
   "source": [
    "print(gr)\n",
    "print(fr)\n",
    "print(bg)\n",
    "print(sw)\n",
    "print(scandic)\n",
    "print(es)"
   ]
  },
  {
   "cell_type": "code",
   "execution_count": 110,
   "metadata": {},
   "outputs": [],
   "source": [
    "all_fruits = fruits[0:4] # it returns all the fruits\n",
    "# this will also give the same result as the one above\n",
    "all_fruits = fruits[0:] # if we don't set where to stop it takes all the rest\n",
    "orange_and_mango = fruits[1:3] # it does not include the first index\n",
    "orange_mango_lemon = fruits[1:]\n",
    "orange_and_lemon = fruits[::2]"
   ]
  },
  {
   "cell_type": "code",
   "execution_count": 111,
   "metadata": {},
   "outputs": [
    {
     "name": "stdout",
     "output_type": "stream",
     "text": [
      "['Banana', 'Mango', 'Orange', 'Lemon']\n",
      "['Mango', 'Orange']\n",
      "['Mango', 'Orange', 'Lemon']\n",
      "['Banana', 'Orange']\n"
     ]
    }
   ],
   "source": [
    "print(all_fruits)\n",
    "print(orange_and_mango)\n",
    "print(orange_mango_lemon)\n",
    "print(orange_and_lemon)"
   ]
  },
  {
   "cell_type": "code",
   "execution_count": 112,
   "metadata": {},
   "outputs": [],
   "source": [
    "all_fruits = fruits[-4:] # it returns all the fruits\n",
    "orange_and_mango = fruits[-3:-1] # it does not include the last index,['orange', 'mango']\n",
    "orange_mango_lemon = fruits[-3:] # this will give starting from -3 to the end,['orange', 'mango', 'lemon']\n",
    "reverse_fruits = fruits[::-1]"
   ]
  },
  {
   "cell_type": "code",
   "execution_count": 113,
   "metadata": {},
   "outputs": [
    {
     "name": "stdout",
     "output_type": "stream",
     "text": [
      "['Mango', 'Orange']\n",
      "['Mango', 'Orange', 'Lemon']\n",
      "['Lemon', 'Orange', 'Mango', 'Banana']\n"
     ]
    }
   ],
   "source": [
    "print(orange_and_mango)\n",
    "print(orange_mango_lemon)\n",
    "print(reverse_fruits)"
   ]
  },
  {
   "cell_type": "markdown",
   "metadata": {},
   "source": [
    "### Modifying Lists"
   ]
  },
  {
   "cell_type": "code",
   "execution_count": 114,
   "metadata": {},
   "outputs": [
    {
     "name": "stdout",
     "output_type": "stream",
     "text": [
      "['Banana', 'Mango', 'Orange', 'Lemon']\n"
     ]
    }
   ],
   "source": [
    "print(fruits)"
   ]
  },
  {
   "cell_type": "code",
   "execution_count": 115,
   "metadata": {},
   "outputs": [],
   "source": [
    "fruits[0] = 'Avocado'"
   ]
  },
  {
   "cell_type": "code",
   "execution_count": 116,
   "metadata": {},
   "outputs": [
    {
     "name": "stdout",
     "output_type": "stream",
     "text": [
      "Modified list: ['Avocado', 'Mango', 'Orange', 'Lemon']\n"
     ]
    }
   ],
   "source": [
    "print(f'Modified list: {fruits}')"
   ]
  },
  {
   "cell_type": "code",
   "execution_count": 117,
   "metadata": {},
   "outputs": [],
   "source": [
    "fruits[1] = 'Apple'\n",
    "last_index = len(fruits) - 1\n",
    "fruits[last_index] = 'Lime'"
   ]
  },
  {
   "cell_type": "code",
   "execution_count": 118,
   "metadata": {},
   "outputs": [
    {
     "name": "stdout",
     "output_type": "stream",
     "text": [
      "['Avocado', 'Apple', 'Orange', 'Lime']\n"
     ]
    }
   ],
   "source": [
    "print(fruits)"
   ]
  },
  {
   "cell_type": "markdown",
   "metadata": {},
   "source": [
    "### Checking Items in a List"
   ]
  },
  {
   "cell_type": "code",
   "execution_count": 119,
   "metadata": {},
   "outputs": [
    {
     "name": "stdout",
     "output_type": "stream",
     "text": [
      "is Banana in the modified list?: False\n"
     ]
    }
   ],
   "source": [
    "chk = 'Banana' in fruits\n",
    "print(f'is Banana in the modified list?: {chk}')"
   ]
  },
  {
   "cell_type": "code",
   "execution_count": 120,
   "metadata": {},
   "outputs": [
    {
     "name": "stdout",
     "output_type": "stream",
     "text": [
      "Avocado is in the modified list: True\n"
     ]
    }
   ],
   "source": [
    "chk_a = 'Avocado' in fruits\n",
    "print(f'Avocado is in the modified list: {chk_a}')"
   ]
  },
  {
   "cell_type": "markdown",
   "metadata": {},
   "source": [
    "### Adding Items to a List"
   ]
  },
  {
   "cell_type": "code",
   "execution_count": 121,
   "metadata": {},
   "outputs": [
    {
     "name": "stdout",
     "output_type": "stream",
     "text": [
      "['Avocado', 'Apple', 'Orange', 'Lime']\n"
     ]
    }
   ],
   "source": [
    "print(fruits)"
   ]
  },
  {
   "cell_type": "code",
   "execution_count": 122,
   "metadata": {},
   "outputs": [
    {
     "name": "stdout",
     "output_type": "stream",
     "text": [
      "['Avocado', 'Apple', 'Orange', 'Lime', 'Banana']\n"
     ]
    }
   ],
   "source": [
    "fruits.append('Banana')\n",
    "print(fruits)"
   ]
  }
 ],
 "metadata": {
  "kernelspec": {
   "display_name": "Python 3",
   "language": "python",
   "name": "python3"
  },
  "language_info": {
   "codemirror_mode": {
    "name": "ipython",
    "version": 3
   },
   "file_extension": ".py",
   "mimetype": "text/x-python",
   "name": "python",
   "nbconvert_exporter": "python",
   "pygments_lexer": "ipython3",
   "version": "3.11.5"
  },
  "orig_nbformat": 4
 },
 "nbformat": 4,
 "nbformat_minor": 2
}
