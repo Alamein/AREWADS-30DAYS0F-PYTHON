{
 "cells": [
  {
   "cell_type": "code",
   "execution_count": 3,
   "metadata": {},
   "outputs": [
    {
     "name": "stdout",
     "output_type": "stream",
     "text": [
      "List of fruits: ['Banana', 'Mango', 'Orange', 'Lemon']\n",
      "Number of fruits:  4\n"
     ]
    }
   ],
   "source": [
    "fruits = ['Banana','Mango','Orange','Lemon']\n",
    "vegetables = ['Tomato','Potato','Cabage','Onion','Carrot']\n",
    "animal_products = ['Milk','Meat','Yoghurt','Butter']\n",
    "web_techs = ['HTML','CSS','JavaScript','React','Redux','MongoDB','Node']\n",
    "countries = ['Finland','Sweden','Norway','Denmark','Estonia']\n",
    "\n",
    "# printing the list and it's lengh\n",
    "print(f'List of fruits: {fruits}')\n",
    "print(f'Number of fruits: ', len(fruits))"
   ]
  },
  {
   "cell_type": "code",
   "execution_count": 4,
   "metadata": {},
   "outputs": [
    {
     "name": "stdout",
     "output_type": "stream",
     "text": [
      "List of Vegetables: ['Tomato', 'Potato', 'Cabage', 'Onion', 'Carrot']\n",
      "Number of Vegetables:  5\n"
     ]
    }
   ],
   "source": [
    "print(f'List of Vegetables: {vegetables}')\n",
    "print(f'Number of Vegetables: ', len(vegetables))"
   ]
  },
  {
   "cell_type": "code",
   "execution_count": 5,
   "metadata": {},
   "outputs": [
    {
     "name": "stdout",
     "output_type": "stream",
     "text": [
      "List of Animals products: ['Milk', 'Meat', 'Yoghurt', 'Butter']\n",
      "Number of animals products:  4\n"
     ]
    }
   ],
   "source": [
    "print(f'List of Animals products: {animal_products}')\n",
    "print(f'Number of animals products: ', len(animal_products))"
   ]
  },
  {
   "cell_type": "code",
   "execution_count": 7,
   "metadata": {},
   "outputs": [
    {
     "name": "stdout",
     "output_type": "stream",
     "text": [
      "List of Web Development Technologies: ['HTML', 'CSS', 'JavaScript', 'React', 'Redux', 'MongoDB', 'Node']\n",
      "Number of Web Development Technologies:  7\n"
     ]
    }
   ],
   "source": [
    "print(f'List of Web Development Technologies: {web_techs}')\n",
    "print(f'Number of Web Development Technologies: ', len(web_techs))"
   ]
  },
  {
   "cell_type": "code",
   "execution_count": 8,
   "metadata": {},
   "outputs": [
    {
     "name": "stdout",
     "output_type": "stream",
     "text": [
      "List of contries: ['Finland', 'Sweden', 'Norway', 'Denmark', 'Estonia']\n",
      "Number of countries in the list:  5\n"
     ]
    }
   ],
   "source": [
    "print(f'List of contries: {countries}')\n",
    "print(f'Number of countries in the list: ', len(countries))"
   ]
  },
  {
   "cell_type": "code",
   "execution_count": 22,
   "metadata": {},
   "outputs": [
    {
     "name": "stdout",
     "output_type": "stream",
     "text": [
      "List of different data types: [\"Al'amin\", 21, True, {'country': 'Nigeria', 'city': 'Abuja'}]\n"
     ]
    }
   ],
   "source": [
    "# Lists can have items of different data types\n",
    "lst = ['Al\\'amin', 21, True, {'country':'Nigeria', 'city':'Abuja'}] # list containing different data types\n",
    "print(f'List of different data types: {lst}')"
   ]
  },
  {
   "cell_type": "markdown",
   "metadata": {},
   "source": [
    "### Accessing List Items Using Positive Indexing"
   ]
  },
  {
   "cell_type": "code",
   "execution_count": 27,
   "metadata": {},
   "outputs": [
    {
     "name": "stdout",
     "output_type": "stream",
     "text": [
      "First fruit in the list: Banana\n",
      "Second Fruit in the list: Mango\n",
      "Third fruit in the list: Orange\n",
      "Last fruit in the list is: Lemon\n"
     ]
    }
   ],
   "source": [
    "# Accessing List Items Using Positive Indexing\n",
    "print(f'First fruit in the list: {fruits[0]}\\nSecond Fruit in the list: {fruits[1]}\\nThird fruit in the list: {fruits[2]}\\nLast fruit in the list is: {fruits[3]}')"
   ]
  },
  {
   "cell_type": "code",
   "execution_count": 29,
   "metadata": {},
   "outputs": [
    {
     "name": "stdout",
     "output_type": "stream",
     "text": [
      "Last fruit in the list: Lemon\n"
     ]
    }
   ],
   "source": [
    "last_fruit = len(fruits) - 1\n",
    "print(f'Last fruit in the list: {fruits[last_fruit]}')"
   ]
  },
  {
   "cell_type": "markdown",
   "metadata": {},
   "source": [
    "#### Accessing List Items Using Negative Indexing\n"
   ]
  },
  {
   "cell_type": "code",
   "execution_count": 32,
   "metadata": {},
   "outputs": [
    {
     "name": "stdout",
     "output_type": "stream",
     "text": [
      "First fruit in the list: Banana\n",
      "Second Fruit in the list: Mango\n",
      "Third fruit in the list: Orange\n",
      "Last fruit in the list is: Lemon\n"
     ]
    }
   ],
   "source": [
    "# Accessing List Items Using Negative Indexing\n",
    "print(f'First fruit in the list: {fruits[-4]}\\nSecond Fruit in the list: {fruits[-3]}\\nThird fruit in the list: {fruits[-2]}\\nLast fruit in the list is: {fruits[-1]}')"
   ]
  },
  {
   "cell_type": "markdown",
   "metadata": {},
   "source": [
    "### Unpacking List Items"
   ]
  },
  {
   "cell_type": "code",
   "execution_count": 33,
   "metadata": {},
   "outputs": [],
   "source": [
    "fruit = ['banana', 'orange', 'mango', 'lemon','lime','apple']\n",
    "first_fruit, second_fruit, third_fruit, *rest = fruit"
   ]
  }
 ],
 "metadata": {
  "kernelspec": {
   "display_name": "Python 3",
   "language": "python",
   "name": "python3"
  },
  "language_info": {
   "codemirror_mode": {
    "name": "ipython",
    "version": 3
   },
   "file_extension": ".py",
   "mimetype": "text/x-python",
   "name": "python",
   "nbconvert_exporter": "python",
   "pygments_lexer": "ipython3",
   "version": "3.11.5"
  },
  "orig_nbformat": 4
 },
 "nbformat": 4,
 "nbformat_minor": 2
}
