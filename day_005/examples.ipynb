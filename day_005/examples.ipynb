{
 "cells": [
  {
   "cell_type": "code",
   "execution_count": 3,
   "metadata": {},
   "outputs": [
    {
     "name": "stdout",
     "output_type": "stream",
     "text": [
      "List of fruits: ['Banana', 'Mango', 'Orange', 'Lemon']\n",
      "Number of fruits:  4\n"
     ]
    }
   ],
   "source": [
    "fruits = ['Banana','Mango','Orange','Lemon']\n",
    "vegetables = ['Tomato','Potato','Cabage','Onion','Carrot']\n",
    "animal_products = ['Milk','Meat','Yoghurt','Butter']\n",
    "web_techs = ['HTML','CSS','JavaScript','React','Redux','MongoDB','Node']\n",
    "countries = ['Finland','Sweden','Norway','Denmark','Estonia']\n",
    "\n",
    "# printing the list and it's lengh\n",
    "print(f'List of fruits: {fruits}')\n",
    "print(f'Number of fruits: ', len(fruits))"
   ]
  },
  {
   "cell_type": "code",
   "execution_count": 4,
   "metadata": {},
   "outputs": [
    {
     "name": "stdout",
     "output_type": "stream",
     "text": [
      "List of Vegetables: ['Tomato', 'Potato', 'Cabage', 'Onion', 'Carrot']\n",
      "Number of Vegetables:  5\n"
     ]
    }
   ],
   "source": [
    "print(f'List of Vegetables: {vegetables}')\n",
    "print(f'Number of Vegetables: ', len(vegetables))"
   ]
  },
  {
   "cell_type": "code",
   "execution_count": 5,
   "metadata": {},
   "outputs": [
    {
     "name": "stdout",
     "output_type": "stream",
     "text": [
      "List of Animals products: ['Milk', 'Meat', 'Yoghurt', 'Butter']\n",
      "Number of animals products:  4\n"
     ]
    }
   ],
   "source": [
    "print(f'List of Animals products: {animal_products}')\n",
    "print(f'Number of animals products: ', len(animal_products))"
   ]
  },
  {
   "cell_type": "code",
   "execution_count": 7,
   "metadata": {},
   "outputs": [
    {
     "name": "stdout",
     "output_type": "stream",
     "text": [
      "List of Web Development Technologies: ['HTML', 'CSS', 'JavaScript', 'React', 'Redux', 'MongoDB', 'Node']\n",
      "Number of Web Development Technologies:  7\n"
     ]
    }
   ],
   "source": [
    "print(f'List of Web Development Technologies: {web_techs}')\n",
    "print(f'Number of Web Development Technologies: ', len(web_techs))"
   ]
  },
  {
   "cell_type": "code",
   "execution_count": 8,
   "metadata": {},
   "outputs": [
    {
     "name": "stdout",
     "output_type": "stream",
     "text": [
      "List of contries: ['Finland', 'Sweden', 'Norway', 'Denmark', 'Estonia']\n",
      "Number of countries in the list:  5\n"
     ]
    }
   ],
   "source": [
    "print(f'List of contries: {countries}')\n",
    "print(f'Number of countries in the list: ', len(countries))"
   ]
  },
  {
   "cell_type": "code",
   "execution_count": null,
   "metadata": {},
   "outputs": [],
   "source": [
    "print(f'List of fruits: {fruits}')\n",
    "print(f'Number of fruits: ', len(fruits))print(f'List of fruits: {fruits}')\n",
    "print(f'Number of fruits: ', len(fruits))print(f'List of fruits: {fruits}')\n",
    "print(f'Number of fruits: ', len(fruits))print(f'List of fruits: {fruits}')\n",
    "print(f'Number of fruits: ', len(fruits))print(f'List of fruits: {fruits}')\n",
    "print(f'Number of fruits: ', len(fruits))print(f'List of fruits: {fruits}')\n",
    "print(f'Number of fruits: ', len(fruits))print(f'List of fruits: {fruits}')\n",
    "print(f'Number of fruits: ', len(fruits))print(f'List of fruits: {fruits}')\n",
    "print(f'Number of fruits: ', len(fruits))print(f'List of fruits: {fruits}')\n",
    "print(f'Number of fruits: ', len(fruits))print(f'List of fruits: {fruits}')\n",
    "print(f'Number of fruits: ', len(fruits))print(f'List of fruits: {fruits}')\n",
    "print(f'Number of fruits: ', len(fruits))print(f'List of fruits: {fruits}')\n",
    "print(f'Number of fruits: ', len(fruits))print(f'List of fruits: {fruits}')\n",
    "print(f'Number of fruits: ', len(fruits))print(f'List of fruits: {fruits}')\n",
    "print(f'Number of fruits: ', len(fruits))print(f'List of fruits: {fruits}')\n",
    "print(f'Number of fruits: ', len(fruits))print(f'List of fruits: {fruits}')\n",
    "print(f'Number of fruits: ', len(fruits))print(f'List of fruits: {fruits}')\n",
    "print(f'Number of fruits: ', len(fruits))print(f'List of fruits: {fruits}')\n",
    "print(f'Number of fruits: ', len(fruits))print(f'List of fruits: {fruits}')\n",
    "print(f'Number of fruits: ', len(fruits))print(f'List of fruits: {fruits}')\n",
    "print(f'Number of fruits: ', len(fruits))print(f'List of fruits: {fruits}')\n",
    "print(f'Number of fruits: ', len(fruits))print(f'List of fruits: {fruits}')\n",
    "print(f'Number of fruits: ', len(fruits))print(f'List of fruits: {fruits}')\n",
    "print(f'Number of fruits: ', len(fruits))print(f'List of fruits: {fruits}')\n",
    "print(f'Number of fruits: ', len(fruits))"
   ]
  }
 ],
 "metadata": {
  "kernelspec": {
   "display_name": "Python 3",
   "language": "python",
   "name": "python3"
  },
  "language_info": {
   "codemirror_mode": {
    "name": "ipython",
    "version": 3
   },
   "file_extension": ".py",
   "mimetype": "text/x-python",
   "name": "python",
   "nbconvert_exporter": "python",
   "pygments_lexer": "ipython3",
   "version": "3.11.5"
  },
  "orig_nbformat": 4
 },
 "nbformat": 4,
 "nbformat_minor": 2
}
