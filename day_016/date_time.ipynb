{
 "cells": [
  {
   "cell_type": "markdown",
   "metadata": {},
   "source": [
    "#                                    DATE AND TIME "
   ]
  },
  {
   "cell_type": "markdown",
   "metadata": {},
   "source": [
    "# EXERCISES"
   ]
  },
  {
   "cell_type": "markdown",
   "metadata": {},
   "source": [
    "#### EXERCISE 1"
   ]
  },
  {
   "cell_type": "code",
   "execution_count": 1,
   "metadata": {},
   "outputs": [
    {
     "name": "stdout",
     "output_type": "stream",
     "text": [
      "now: 2023-02-21 14:24:09.607075\n",
      "day: 21\n",
      "year: 2023\n",
      "hour: 14 minute: 24\n",
      "timestamp:<built-in method timestamp of datetime.datetime object at 0x000001F2252881B0>\n"
     ]
    }
   ],
   "source": [
    "# Exercise num1\n",
    "\n",
    "# importing the functions\n",
    "\n",
    "from datetime import datetime,date,time,timedelta\n",
    "now = datetime.now()\n",
    "day = now.day\n",
    "month = now.month\n",
    "year = now.year\n",
    "hour = now.hour\n",
    "minute = now.minute\n",
    "timestamp = now.timestamp()\n",
    "print(f'now: {now}\\nday: {now.day}\\nyear: {now.year}\\nhour: {now.hour} minute: {now.minute}\\ntimestamp:{now.timestamp}')"
   ]
  },
  {
   "cell_type": "markdown",
   "metadata": {},
   "source": [
    "#### EXERCISE 2"
   ]
  },
  {
   "cell_type": "code",
   "execution_count": 2,
   "metadata": {},
   "outputs": [
    {
     "name": "stdout",
     "output_type": "stream",
     "text": [
      "date: 21/02/2023\t time: 14:24:09\n"
     ]
    }
   ],
   "source": [
    "# Formating the current date using : \"%m/%d/%Y, %H:%M:%S\")\n",
    "\n",
    "td = now.strftime(\"date: %d/%m/%Y\\t time: %H:%M:%S\")\n",
    "print(td)"
   ]
  },
  {
   "cell_type": "markdown",
   "metadata": {},
   "source": [
    "#### EXERCISE 3"
   ]
  },
  {
   "cell_type": "code",
   "execution_count": 3,
   "metadata": {},
   "outputs": [
    {
     "name": "stdout",
     "output_type": "stream",
     "text": [
      "Date_string = {'5 December, 2019'}\n",
      "date_object = 2019-12-05 00:00:00\n"
     ]
    }
   ],
   "source": [
    "date_string = \"5 December, 2019\"\n",
    "print(f'Date_string =', {date_string})\n",
    "date_object = datetime.strptime(date_string, \"%d %B, %Y\")\n",
    "print(\"date_object =\", date_object)"
   ]
  },
  {
   "cell_type": "markdown",
   "metadata": {},
   "source": [
    "#### EXERCISE 4"
   ]
  },
  {
   "cell_type": "code",
   "execution_count": 4,
   "metadata": {},
   "outputs": [
    {
     "name": "stdout",
     "output_type": "stream",
     "text": [
      "The time difference between now and new year is: 315 days, 0:00:00 \n"
     ]
    }
   ],
   "source": [
    "today = date(2023,2,20)\n",
    "new_year = date(2024,1,1)\n",
    "today_to_new_year = new_year - today\n",
    "print(f'The time difference between now and new year is: {today_to_new_year} ')"
   ]
  },
  {
   "cell_type": "markdown",
   "metadata": {},
   "source": [
    "#### EXERCISE 5"
   ]
  },
  {
   "cell_type": "code",
   "execution_count": 8,
   "metadata": {},
   "outputs": [
    {
     "name": "stdout",
     "output_type": "stream",
     "text": [
      "The time difference between 1970-01-01 to to date is: 19409 days, 0:00:00\n"
     ]
    }
   ],
   "source": [
    "print(f'The time difference between 1970-01-01 to to date is: {date(year,month,day) - date(1970,1,1)}',sep='')"
   ]
  },
  {
   "cell_type": "markdown",
   "metadata": {},
   "source": [
    "#### EXERCISE 6"
   ]
  },
  {
   "cell_type": "markdown",
   "metadata": {},
   "source": [
    "1.Get current date and Time\n",
    "\n",
    "2.Date object Represntation\n",
    "\n",
    "3.Time series analysis\n",
    "\n",
    "4.To get a timestamp of any activities in an application e.t.c"
   ]
  },
  {
   "cell_type": "code",
   "execution_count": null,
   "metadata": {},
   "outputs": [],
   "source": [
    "       # Aminu Hamza Nababa (al'amin), 'indeed python is awesome'"
   ]
  }
 ],
 "metadata": {
  "interpreter": {
   "hash": "4e880a7f5f27ad91acd9cec33fbf0d93d234c7ab08dff5f8487ebbcd75c6e380"
  },
  "kernelspec": {
   "display_name": "Python 3.10.0 64-bit",
   "language": "python",
   "name": "python3"
  },
  "language_info": {
   "codemirror_mode": {
    "name": "ipython",
    "version": 3
   },
   "file_extension": ".py",
   "mimetype": "text/x-python",
   "name": "python",
   "nbconvert_exporter": "python",
   "pygments_lexer": "ipython3",
   "version": "3.10.0"
  },
  "orig_nbformat": 4
 },
 "nbformat": 4,
 "nbformat_minor": 2
}
