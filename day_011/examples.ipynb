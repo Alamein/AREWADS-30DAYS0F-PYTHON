{
 "cells": [
  {
   "cell_type": "code",
   "execution_count": 9,
   "metadata": {},
   "outputs": [
    {
     "name": "stdout",
     "output_type": "stream",
     "text": [
      "This is my fullname: Al'amin Hamza Nababa\n"
     ]
    }
   ],
   "source": [
    "def generate_full_name():\n",
    "    first_name = \"Al'amin\"\n",
    "    last_name ='Hamza Nababa'\n",
    "    space = ' '\n",
    "    full_name = first_name + space + last_name\n",
    "    print(f'This is my fullname: {full_name}')\n",
    "generate_full_name()"
   ]
  },
  {
   "cell_type": "code",
   "execution_count": 11,
   "metadata": {},
   "outputs": [
    {
     "name": "stdout",
     "output_type": "stream",
     "text": [
      "This function will solve 10 + 16: 26\n"
     ]
    }
   ],
   "source": [
    "def add_numbers():\n",
    "    num1 = 10\n",
    "    num2 = 16\n",
    "    total = num1 + num2\n",
    "    print(f'This function will solve 10 + 16: {total}')\n",
    "add_numbers()"
   ]
  },
  {
   "cell_type": "code",
   "execution_count": 13,
   "metadata": {},
   "outputs": [
    {
     "name": "stdout",
     "output_type": "stream",
     "text": [
      "Al'amin Hamza Nababa\n"
     ]
    }
   ],
   "source": [
    "def n():\n",
    "    FirstName = \"Al'amin\"\n",
    "    LastName = 'Hamza Nababa'\n",
    "    Space = ' '\n",
    "    FullName = FirstName + Space + LastName\n",
    "    return FullName\n",
    "print(n())"
   ]
  },
  {
   "cell_type": "code",
   "execution_count": 15,
   "metadata": {},
   "outputs": [
    {
     "name": "stdout",
     "output_type": "stream",
     "text": [
      "56\n"
     ]
    }
   ],
   "source": [
    "def i():\n",
    "    num_one = 24\n",
    "    num_two = 32\n",
    "    Total = num_one + num_two\n",
    "    return Total\n",
    "print(f'{i()}')"
   ]
  },
  {
   "cell_type": "code",
   "execution_count": 27,
   "metadata": {},
   "outputs": [
    {
     "name": "stdout",
     "output_type": "stream",
     "text": [
      "Good Day Al'amin Nababa, Welcome to Python for every one\n"
     ]
    }
   ],
   "source": [
    "def Greeting(name):\n",
    "    message = name + ', Welcome to Python for every one'\n",
    "    return message\n",
    "print('Good Day', Greeting(\"Al'amin Nababa\"))"
   ]
  },
  {
   "cell_type": "code",
   "execution_count": 28,
   "metadata": {},
   "outputs": [
    {
     "name": "stdout",
     "output_type": "stream",
     "text": [
      "100\n"
     ]
    }
   ],
   "source": [
    "def ad_num(num):\n",
    "    ten = 10\n",
    "    return num + ten\n",
    "print(ad_num(90))"
   ]
  },
  {
   "cell_type": "code",
   "execution_count": 29,
   "metadata": {},
   "outputs": [
    {
     "name": "stdout",
     "output_type": "stream",
     "text": [
      "400\n"
     ]
    }
   ],
   "source": [
    "def squarenum(n):\n",
    "    square = n ** 2\n",
    "    return square\n",
    "print(squarenum(20))"
   ]
  },
  {
   "cell_type": "code",
   "execution_count": 31,
   "metadata": {},
   "outputs": [
    {
     "name": "stdout",
     "output_type": "stream",
     "text": [
      "The area of cycle with 10cm radius is: 314.2cm^2\n"
     ]
    }
   ],
   "source": [
    "def area_of_circle (r):\n",
    "    pi = 3.142\n",
    "    area = pi * r**2\n",
    "    return area\n",
    "print('The area of cycle with 10cm radius is: ', area_of_circle(10), 'cm^2', sep='')"
   ]
  },
  {
   "cell_type": "code",
   "execution_count": 40,
   "metadata": {},
   "outputs": [
    {
     "name": "stdout",
     "output_type": "stream",
     "text": [
      "55\n",
      "None\n",
      "5050\n",
      "None\n"
     ]
    }
   ],
   "source": [
    "def sum_of_numbers(n):\n",
    "    total = 0\n",
    "    for i in range(n+1):\n",
    "        total+=i\n",
    "    print(total)\n",
    "print(sum_of_numbers(10)) # 55\n",
    "print(sum_of_numbers(100))"
   ]
  },
  {
   "cell_type": "code",
   "execution_count": 42,
   "metadata": {},
   "outputs": [
    {
     "name": "stdout",
     "output_type": "stream",
     "text": [
      "Full Name:  Al'amin Nababa\n"
     ]
    }
   ],
   "source": [
    "def generate_full_name(fst_name, lst_name):\n",
    "    sep  = ' '\n",
    "    full_Name = fst_name + sep + lst_name\n",
    "    return full_Name\n",
    "print('Full Name: ', generate_full_name(\"Al'amin\", 'Nababa'))"
   ]
  },
  {
   "cell_type": "code",
   "execution_count": 43,
   "metadata": {},
   "outputs": [
    {
     "name": "stdout",
     "output_type": "stream",
     "text": [
      "38\n"
     ]
    }
   ],
   "source": [
    "def sum_n(n1, n2):\n",
    "    sm = n1 + n2\n",
    "    return sm\n",
    "print(sum_n(10, 28))"
   ]
  },
  {
   "cell_type": "code",
   "execution_count": 46,
   "metadata": {},
   "outputs": [
    {
     "name": "stdout",
     "output_type": "stream",
     "text": [
      "Age: 21\n"
     ]
    }
   ],
   "source": [
    "def age_calculator(birth_year, current_year):\n",
    "    age = current_year - birth_year\n",
    "    return age\n",
    "print('Age:', age_calculator(2002, 2023))"
   ]
  },
  {
   "cell_type": "code",
   "execution_count": 55,
   "metadata": {},
   "outputs": [
    {
     "name": "stdout",
     "output_type": "stream",
     "text": [
      "The weight of object is: 980N\n"
     ]
    }
   ],
   "source": [
    "def weight_of_object(mass, acceleration):\n",
    "    weight = format(mass*acceleration, '.0f')\n",
    "    return weight\n",
    "print('The weight of object is: ', weight_of_object(100, 9.8), 'N', sep='')"
   ]
  },
  {
   "cell_type": "code",
   "execution_count": 57,
   "metadata": {},
   "outputs": [
    {
     "name": "stdout",
     "output_type": "stream",
     "text": [
      "Fullname:  Al'amin Nababa\n"
     ]
    }
   ],
   "source": [
    "def flnm(f, l):\n",
    "    sepc = ' '\n",
    "    fllnm = f + sepc + l\n",
    "    return fllnm\n",
    "print('Fullname: ', flnm(f = \"Al'amin\", l = 'Nababa'))"
   ]
  },
  {
   "cell_type": "code",
   "execution_count": 61,
   "metadata": {},
   "outputs": [
    {
     "name": "stdout",
     "output_type": "stream",
     "text": [
      "Even\n",
      "10 is even number: True\n",
      "7 is even number: False\n"
     ]
    }
   ],
   "source": [
    "def ev (n):\n",
    "    if n % 2 == 0:\n",
    "        print('Even')\n",
    "        return True\n",
    "    return False\n",
    "print(f'10 is even number: {ev(10)}')\n",
    "print(f'7 is even number: {ev(7)}')"
   ]
  },
  {
   "cell_type": "code",
   "execution_count": 64,
   "metadata": {},
   "outputs": [
    {
     "name": "stdout",
     "output_type": "stream",
     "text": [
      "[0, 2, 4, 6, 8, 10]\n"
     ]
    }
   ],
   "source": [
    "def lst_f_evn (n):\n",
    "    evens = []\n",
    "    for i in range(n + 1):\n",
    "        if i % 2 == 0:\n",
    "            evens.append(i)\n",
    "    return evens\n",
    "print(lst_f_evn(10))"
   ]
  },
  {
   "cell_type": "code",
   "execution_count": 68,
   "metadata": {},
   "outputs": [
    {
     "name": "stdout",
     "output_type": "stream",
     "text": [
      "Daniel, Welcome to Python for everypone!\n",
      "Al'amin, Welcome to Python for everypone!\n"
     ]
    }
   ],
   "source": [
    "def greeting (name = \"Daniel\"):\n",
    "    message = name + ', Welcome to Python for everypone!'\n",
    "    return message\n",
    "print(greeting())\n",
    "print(greeting(\"Al'amin\"))"
   ]
  },
  {
   "cell_type": "code",
   "execution_count": 72,
   "metadata": {},
   "outputs": [
    {
     "name": "stdout",
     "output_type": "stream",
     "text": [
      "Wells Jaha Welcome to Python For Everyone\n"
     ]
    }
   ],
   "source": [
    "def Fllnm (Frst = \"Al'amin\", lstnm = 'Nababa'):\n",
    "    spac = ' '\n",
    "    fullname = Frst + spac + lstnm\n",
    "    message = fullname + ' Welcome to Python For Everyone'\n",
    "    return message\n",
    "print(Fllnm('Wells', 'Jaha'))"
   ]
  },
  {
   "cell_type": "code",
   "execution_count": 75,
   "metadata": {},
   "outputs": [
    {
     "name": "stdout",
     "output_type": "stream",
     "text": [
      " Hi You are 21, years old\n"
     ]
    }
   ],
   "source": [
    "def age_calculator(birth_year, current_year= 2023):\n",
    "    age = current_year - birth_year\n",
    "    return age\n",
    "print(f' Hi You are {age_calculator(2002)}, years old')"
   ]
  },
  {
   "cell_type": "code",
   "execution_count": 80,
   "metadata": {},
   "outputs": [
    {
     "name": "stdout",
     "output_type": "stream",
     "text": [
      "Weight of an object in newton: 10.0N\n",
      "Weight of an object in moon with 100kg is: 162.0N\n"
     ]
    }
   ],
   "source": [
    "def weight_of_object(mass, gravity = 9.8):\n",
    "    weight = float(format(mass*gravity, '.0f'))\n",
    "    return weight\n",
    "print(f'Weight of an object in newton: {weight_of_object(1)}N')\n",
    "print(f'Weight of an object in moon with 100kg is: {weight_of_object(100, 1.62)}N')"
   ]
  },
  {
   "cell_type": "code",
   "execution_count": 81,
   "metadata": {},
   "outputs": [
    {
     "name": "stdout",
     "output_type": "stream",
     "text": [
      "12\n"
     ]
    }
   ],
   "source": [
    "def s_m (*nums):\n",
    "    total = 0\n",
    "    for num in nums:\n",
    "        total += num\n",
    "    return total\n",
    "print(s_m(3,4,5))"
   ]
  },
  {
   "cell_type": "code",
   "execution_count": 84,
   "metadata": {},
   "outputs": [
    {
     "name": "stdout",
     "output_type": "stream",
     "text": [
      "Team-1\n",
      "Al'amin\n",
      "Daniel\n",
      "John\n",
      "Wells\n",
      "David\n",
      "None\n"
     ]
    }
   ],
   "source": [
    "def generate_groups(team,*grps):\n",
    "    print(team)\n",
    "    for i in grps:\n",
    "        print(i)\n",
    "print(generate_groups('Team-1',\"Al'amin\",'Daniel','John','Wells','David'))"
   ]
  },
  {
   "cell_type": "code",
   "execution_count": 85,
   "metadata": {},
   "outputs": [
    {
     "name": "stdout",
     "output_type": "stream",
     "text": [
      "16\n"
     ]
    }
   ],
   "source": [
    "def square_num (n):\n",
    "    return n * n\n",
    "def do_something(f,x):\n",
    "    return f(x)\n",
    "print(do_something(square_num,4))"
   ]
  }
 ],
 "metadata": {
  "kernelspec": {
   "display_name": "Python 3",
   "language": "python",
   "name": "python3"
  },
  "language_info": {
   "codemirror_mode": {
    "name": "ipython",
    "version": 3
   },
   "file_extension": ".py",
   "mimetype": "text/x-python",
   "name": "python",
   "nbconvert_exporter": "python",
   "pygments_lexer": "ipython3",
   "version": "3.11.5"
  }
 },
 "nbformat": 4,
 "nbformat_minor": 2
}
