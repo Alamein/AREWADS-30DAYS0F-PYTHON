{
 "cells": [
  {
   "cell_type": "code",
   "execution_count": 2,
   "metadata": {},
   "outputs": [
    {
     "name": "stdout",
     "output_type": "stream",
     "text": [
      "14\n",
      "\n",
      "The area of circle is:  254.34\n",
      "\n",
      "97\n",
      "<class 'function'>\n",
      "0\n"
     ]
    }
   ],
   "source": [
    "def add_two_numbers(par1, par2):\n",
    "    sum = par1 + par2\n",
    "    return sum\n",
    "print(add_two_numbers(5,9))\n",
    "print()\n",
    "\n",
    "# exercise 2\n",
    "def area_of_circle(r):\n",
    "    pi = 3.14\n",
    "    area = pi*r*r\n",
    "    print('The area of circle is: ', area)\n",
    "area_of_circle(9)\n",
    "print()\n",
    "\n",
    "# exercise 3\n",
    "def add_all_nums(*args):\n",
    "    sum = 0\n",
    "    for arg in args:\n",
    "        sum+=arg\n",
    "    return sum\n",
    "print(add_all_nums(9,4,2,3,64,8,7))\n",
    "print(type(add_all_nums))\n",
    "\n",
    "# this is not a number type it is function because the variable is def as function\n",
    "print(0)"
   ]
  }
 ],
 "metadata": {
  "kernelspec": {
   "display_name": "Python 3",
   "language": "python",
   "name": "python3"
  },
  "language_info": {
   "codemirror_mode": {
    "name": "ipython",
    "version": 3
   },
   "file_extension": ".py",
   "mimetype": "text/x-python",
   "name": "python",
   "nbconvert_exporter": "python",
   "pygments_lexer": "ipython3",
   "version": "3.11.5"
  }
 },
 "nbformat": 4,
 "nbformat_minor": 2
}
