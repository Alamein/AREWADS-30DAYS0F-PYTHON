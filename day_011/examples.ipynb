{
 "cells": [
  {
   "cell_type": "code",
   "execution_count": 9,
   "metadata": {},
   "outputs": [
    {
     "name": "stdout",
     "output_type": "stream",
     "text": [
      "This is my fullname: Al'amin Hamza Nababa\n"
     ]
    }
   ],
   "source": [
    "def generate_full_name():\n",
    "    first_name = \"Al'amin\"\n",
    "    last_name ='Hamza Nababa'\n",
    "    space = ' '\n",
    "    full_name = first_name + space + last_name\n",
    "    print(f'This is my fullname: {full_name}')\n",
    "generate_full_name()"
   ]
  },
  {
   "cell_type": "code",
   "execution_count": 11,
   "metadata": {},
   "outputs": [
    {
     "name": "stdout",
     "output_type": "stream",
     "text": [
      "This function will solve 10 + 16: 26\n"
     ]
    }
   ],
   "source": [
    "def add_numbers():\n",
    "    num1 = 10\n",
    "    num2 = 16\n",
    "    total = num1 + num2\n",
    "    print(f'This function will solve 10 + 16: {total}')\n",
    "add_numbers()"
   ]
  },
  {
   "cell_type": "code",
   "execution_count": 13,
   "metadata": {},
   "outputs": [
    {
     "name": "stdout",
     "output_type": "stream",
     "text": [
      "Al'amin Hamza Nababa\n"
     ]
    }
   ],
   "source": [
    "def n():\n",
    "    FirstName = \"Al'amin\"\n",
    "    LastName = 'Hamza Nababa'\n",
    "    Space = ' '\n",
    "    FullName = FirstName + Space + LastName\n",
    "    return FullName\n",
    "print(n())"
   ]
  },
  {
   "cell_type": "code",
   "execution_count": 15,
   "metadata": {},
   "outputs": [
    {
     "name": "stdout",
     "output_type": "stream",
     "text": [
      "56\n"
     ]
    }
   ],
   "source": [
    "def i():\n",
    "    num_one = 24\n",
    "    num_two = 32\n",
    "    Total = num_one + num_two\n",
    "    return Total\n",
    "print(f'{i()}')"
   ]
  },
  {
   "cell_type": "code",
   "execution_count": 27,
   "metadata": {},
   "outputs": [
    {
     "name": "stdout",
     "output_type": "stream",
     "text": [
      "Good Day Al'amin Nababa, Welcome to Python for every one\n"
     ]
    }
   ],
   "source": [
    "def Greeting(name):\n",
    "    message = name + ', Welcome to Python for every one'\n",
    "    return message\n",
    "print('Good Day', Greeting(\"Al'amin Nababa\"))"
   ]
  },
  {
   "cell_type": "code",
   "execution_count": 28,
   "metadata": {},
   "outputs": [
    {
     "name": "stdout",
     "output_type": "stream",
     "text": [
      "100\n"
     ]
    }
   ],
   "source": [
    "def ad_num(num):\n",
    "    ten = 10\n",
    "    return num + ten\n",
    "print(ad_num(90))"
   ]
  },
  {
   "cell_type": "code",
   "execution_count": 29,
   "metadata": {},
   "outputs": [
    {
     "name": "stdout",
     "output_type": "stream",
     "text": [
      "400\n"
     ]
    }
   ],
   "source": [
    "def squarenum(n):\n",
    "    square = n ** 2\n",
    "    return square\n",
    "print(squarenum(20))"
   ]
  },
  {
   "cell_type": "code",
   "execution_count": 31,
   "metadata": {},
   "outputs": [
    {
     "name": "stdout",
     "output_type": "stream",
     "text": [
      "The area of cycle with 10cm radius is: 314.2cm^2\n"
     ]
    }
   ],
   "source": [
    "def area_of_circle (r):\n",
    "    pi = 3.142\n",
    "    area = pi * r**2\n",
    "    return area\n",
    "print('The area of cycle with 10cm radius is: ', area_of_circle(10), 'cm^2', sep='')"
   ]
  },
  {
   "cell_type": "code",
   "execution_count": 40,
   "metadata": {},
   "outputs": [
    {
     "name": "stdout",
     "output_type": "stream",
     "text": [
      "55\n",
      "None\n",
      "5050\n",
      "None\n"
     ]
    }
   ],
   "source": [
    "def sum_of_numbers(n):\n",
    "    total = 0\n",
    "    for i in range(n+1):\n",
    "        total+=i\n",
    "    print(total)\n",
    "print(sum_of_numbers(10)) # 55\n",
    "print(sum_of_numbers(100))"
   ]
  },
  {
   "cell_type": "code",
   "execution_count": 42,
   "metadata": {},
   "outputs": [
    {
     "name": "stdout",
     "output_type": "stream",
     "text": [
      "Full Name:  Al'amin Nababa\n"
     ]
    }
   ],
   "source": [
    "def generate_full_name(fst_name, lst_name):\n",
    "    sep  = ' '\n",
    "    full_Name = fst_name + sep + lst_name\n",
    "    return full_Name\n",
    "print('Full Name: ', generate_full_name(\"Al'amin\", 'Nababa'))"
   ]
  },
  {
   "cell_type": "code",
   "execution_count": 43,
   "metadata": {},
   "outputs": [
    {
     "name": "stdout",
     "output_type": "stream",
     "text": [
      "38\n"
     ]
    }
   ],
   "source": [
    "def sum_n(n1, n2):\n",
    "    sm = n1 + n2\n",
    "    return sm\n",
    "print(sum_n(10, 28))"
   ]
  },
  {
   "cell_type": "code",
   "execution_count": 46,
   "metadata": {},
   "outputs": [
    {
     "name": "stdout",
     "output_type": "stream",
     "text": [
      "Age: 21\n"
     ]
    }
   ],
   "source": [
    "def age_calculator(birth_year, current_year):\n",
    "    age = current_year - birth_year\n",
    "    return age\n",
    "print('Age:', age_calculator(2002, 2023))"
   ]
  },
  {
   "cell_type": "code",
   "execution_count": 55,
   "metadata": {},
   "outputs": [
    {
     "name": "stdout",
     "output_type": "stream",
     "text": [
      "The weight of object is: 980N\n"
     ]
    }
   ],
   "source": [
    "def weight_of_object(mass, acceleration):\n",
    "    weight = format(mass*acceleration, '.0f')\n",
    "    return weight\n",
    "print('The weight of object is: ', weight_of_object(100, 9.8), 'N', sep='')"
   ]
  },
  {
   "cell_type": "code",
   "execution_count": 57,
   "metadata": {},
   "outputs": [
    {
     "name": "stdout",
     "output_type": "stream",
     "text": [
      "Fullname:  Al'amin Nababa\n"
     ]
    }
   ],
   "source": [
    "def flnm(f, l):\n",
    "    sepc = ' '\n",
    "    fllnm = f + sepc + l\n",
    "    return fllnm\n",
    "print('Fullname: ', flnm(f = \"Al'amin\", l = 'Nababa'))"
   ]
  }
 ],
 "metadata": {
  "kernelspec": {
   "display_name": "Python 3",
   "language": "python",
   "name": "python3"
  },
  "language_info": {
   "codemirror_mode": {
    "name": "ipython",
    "version": 3
   },
   "file_extension": ".py",
   "mimetype": "text/x-python",
   "name": "python",
   "nbconvert_exporter": "python",
   "pygments_lexer": "ipython3",
   "version": "3.11.5"
  }
 },
 "nbformat": 4,
 "nbformat_minor": 2
}
