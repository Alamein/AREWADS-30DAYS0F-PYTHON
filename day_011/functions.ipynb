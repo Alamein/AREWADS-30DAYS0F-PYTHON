{
 "cells": [
  {
   "cell_type": "code",
   "execution_count": 3,
   "metadata": {},
   "outputs": [
    {
     "name": "stdout",
     "output_type": "stream",
     "text": [
      "23\n"
     ]
    }
   ],
   "source": [
    "# Declare a function add_two_numbers. It takes two parameters and it returns a sum.\n",
    "\n",
    "def add_two_numbers (num1, num2):\n",
    "    sum_of_two_numbers = num1 + num2\n",
    "    return  sum_of_two_numbers\n",
    "print(add_two_numbers(9, 14))"
   ]
  },
  {
   "cell_type": "code",
   "execution_count": 1,
   "metadata": {},
   "outputs": [
    {
     "name": "stdout",
     "output_type": "stream",
     "text": [
      "7855.0\n"
     ]
    }
   ],
   "source": [
    "# Area of a circle is calculated as follows: area = π x r x r. Write a function that calculates area_of_circle.\n",
    "\n",
    "def area_of_cicle(r):\n",
    "    pi = 3.142\n",
    "    area = pi * r * r\n",
    "    return area\n",
    "print(area_of_cicle(50))"
   ]
  },
  {
   "cell_type": "code",
   "execution_count": 3,
   "metadata": {},
   "outputs": [
    {
     "name": "stdout",
     "output_type": "stream",
     "text": [
      "190\n",
      "<class 'int'>\n"
     ]
    }
   ],
   "source": [
    "# Write a function called add_all_nums \n",
    "# which takes arbitrary number of arguments and sums all the arguments.\n",
    "# Check if all the list items are number types. If not do give a reasonable feedback.\n",
    "\n",
    "def add_all_nums(*args):\n",
    "    sum_of_args = 0\n",
    "    for arg in args:\n",
    "        sum_of_args += arg\n",
    "    return sum_of_args\n",
    "print(add_all_nums(12, 23, 34, 54, 67))\n",
    "print(type(add_all_nums()))"
   ]
  },
  {
   "cell_type": "code",
   "execution_count": 6,
   "metadata": {},
   "outputs": [
    {
     "name": "stdout",
     "output_type": "stream",
     "text": [
      "F = 89.6f\n"
     ]
    }
   ],
   "source": [
    "# Temperature in °C can be converted to °F using this formula: °F = (°C x 9/5) + 32. \n",
    "# Write a function which converts °C to °F, convert_celsius_to-fahrenheit.\n",
    "\n",
    "def convert_celsius_to_fahrenheit(c):\n",
    "    f = float(format((c * 9/5) + 32, '.1f'))\n",
    "    return f\n",
    "print(f'F = {convert_celsius_to_fahrenheit(32)}f')"
   ]
  },
  {
   "cell_type": "code",
   "execution_count": 13,
   "metadata": {},
   "outputs": [
    {
     "name": "stdout",
     "output_type": "stream",
     "text": [
      "The season is: Autumn season\n",
      "november\n"
     ]
    }
   ],
   "source": [
    "# Write a function called check-season, it takes a month parameter and returns the season: \n",
    "# Autumn, Winter, Spring or Summer.\n",
    "\n",
    "def check_season(season):\n",
    "    spring = ['march', 'april', 'may']\n",
    "    summer = ['june', 'july', 'august']\n",
    "    autumn = ['september', 'october', 'november']\n",
    "    winter = ['december', 'january', 'february']\n",
    "    if season in spring:\n",
    "        print('The season is: Spring season')\n",
    "    elif season in summer:\n",
    "        print('The season is: Summer season')\n",
    "    elif season in autumn:\n",
    "        print('The season is: Autumn season')\n",
    "    else:\n",
    "        print('The season is: Winter season')\n",
    "    return season\n",
    "print(check_season(input('the month is ?: ')))"
   ]
  }
 ],
 "metadata": {
  "kernelspec": {
   "display_name": "Python 3",
   "language": "python",
   "name": "python3"
  },
  "language_info": {
   "codemirror_mode": {
    "name": "ipython",
    "version": 3
   },
   "file_extension": ".py",
   "mimetype": "text/x-python",
   "name": "python",
   "nbconvert_exporter": "python",
   "pygments_lexer": "ipython3",
   "version": "3.11.5"
  }
 },
 "nbformat": 4,
 "nbformat_minor": 2
}
