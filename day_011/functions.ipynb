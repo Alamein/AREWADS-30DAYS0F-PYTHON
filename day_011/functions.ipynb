{
 "cells": [
  {
   "cell_type": "code",
   "execution_count": 3,
   "metadata": {},
   "outputs": [
    {
     "name": "stdout",
     "output_type": "stream",
     "text": [
      "23\n"
     ]
    }
   ],
   "source": [
    "# Declare a function add_two_numbers. It takes two parameters and it returns a sum.\n",
    "\n",
    "def add_two_numbers (num1, num2):\n",
    "    sum_of_two_numbers = num1 + num2\n",
    "    return  sum_of_two_numbers\n",
    "print(add_two_numbers(9, 14))"
   ]
  },
  {
   "cell_type": "code",
   "execution_count": 1,
   "metadata": {},
   "outputs": [
    {
     "name": "stdout",
     "output_type": "stream",
     "text": [
      "7855.0\n"
     ]
    }
   ],
   "source": [
    "# Area of a circle is calculated as follows: area = π x r x r. Write a function that calculates area_of_circle.\n",
    "\n",
    "def area_of_cicle(r):\n",
    "    pi = 3.142\n",
    "    area = pi * r * r\n",
    "    return area\n",
    "print(area_of_cicle(50))"
   ]
  },
  {
   "cell_type": "code",
   "execution_count": 3,
   "metadata": {},
   "outputs": [
    {
     "name": "stdout",
     "output_type": "stream",
     "text": [
      "190\n",
      "<class 'int'>\n"
     ]
    }
   ],
   "source": [
    "# Write a function called add_all_nums \n",
    "# which takes arbitrary number of arguments and sums all the arguments.\n",
    "# Check if all the list items are number types. If not do give a reasonable feedback.\n",
    "\n",
    "def add_all_nums(*args):\n",
    "    sum_of_args = 0\n",
    "    for arg in args:\n",
    "        sum_of_args += arg\n",
    "    return sum_of_args\n",
    "print(add_all_nums(12, 23, 34, 54, 67))\n",
    "print(type(add_all_nums()))"
   ]
  },
  {
   "cell_type": "code",
   "execution_count": 6,
   "metadata": {},
   "outputs": [
    {
     "name": "stdout",
     "output_type": "stream",
     "text": [
      "F = 89.6f\n"
     ]
    }
   ],
   "source": [
    "# Temperature in °C can be converted to °F using this formula: °F = (°C x 9/5) + 32. \n",
    "# Write a function which converts °C to °F, convert_celsius_to-fahrenheit.\n",
    "\n",
    "def convert_celsius_to_fahrenheit(c):\n",
    "    f = float(format((c * 9/5) + 32, '.1f'))\n",
    "    return f\n",
    "print(f'F = {convert_celsius_to_fahrenheit(32)}f')"
   ]
  },
  {
   "cell_type": "code",
   "execution_count": 13,
   "metadata": {},
   "outputs": [
    {
     "name": "stdout",
     "output_type": "stream",
     "text": [
      "The season is: Autumn season\n",
      "november\n"
     ]
    }
   ],
   "source": [
    "# Write a function called check-season, it takes a month parameter and returns the season: \n",
    "# Autumn, Winter, Spring or Summer.\n",
    "\n",
    "def check_season(season):\n",
    "    spring = ['march', 'april', 'may']\n",
    "    summer = ['june', 'july', 'august']\n",
    "    autumn = ['september', 'october', 'november']\n",
    "    winter = ['december', 'january', 'february']\n",
    "    if season in spring:\n",
    "        print('The season is: Spring season')\n",
    "    elif season in summer:\n",
    "        print('The season is: Summer season')\n",
    "    elif season in autumn:\n",
    "        print('The season is: Autumn season')\n",
    "    else:\n",
    "        print('The season is: Winter season')\n",
    "    return season\n",
    "print(check_season(input('the month is ?: ')))"
   ]
  },
  {
   "cell_type": "code",
   "execution_count": 16,
   "metadata": {},
   "outputs": [
    {
     "name": "stdout",
     "output_type": "stream",
     "text": [
      "The slope is: 0.67\n"
     ]
    }
   ],
   "source": [
    "# Write a function called calculate_slope which return the slope of a linear equation\n",
    "\n",
    "def calculate_slope(y1,y2,x1,x2):\n",
    "    slope = float(format((y2-y1)/(x2-x1), '.2f'))\n",
    "    return slope\n",
    "print(f'The slope is: {calculate_slope(3,7,2,8)}')"
   ]
  },
  {
   "cell_type": "code",
   "execution_count": 33,
   "metadata": {},
   "outputs": [],
   "source": [
    "# Quadratic equation is calculated as follows: ax² + bx + c = 0. \n",
    "# Write a function which calculates solution set of a quadratic equation, solve_quadratic_eqn.\n",
    "import math\n",
    "def quadratic_calculator(a, b, c):\n",
    "    d = b**2-4*a*c\n",
    "    x = (-b + math.sqrt(d))/(2 * a)\n",
    "    if d < 0:\n",
    "         print('this')\n",
    "    elif d == 0:\n",
    "        print (\"This equation has one solutions: \", x)\n",
    "    else:\n",
    "        x1 = (-b + math.sqrt(d))/(2 * a)\n",
    "        x2 = (-b + math.sqrt(d))/(2 * a)\n",
    "        print (\"This equation has two solutions: \", x1, \" or\", x2)\n",
    "    return x"
   ]
  },
  {
   "cell_type": "code",
   "execution_count": 34,
   "metadata": {},
   "outputs": [
    {
     "name": "stdout",
     "output_type": "stream",
     "text": [
      "['Laptop', 'Coders', 'techies', 'ArewaDs']\n"
     ]
    }
   ],
   "source": [
    "# Declare a function named print_list. It takes a list as a parameter and it prints out each element of the list.\n",
    "\n",
    "def print_list(*par):\n",
    "    lst = []\n",
    "    for i in par:\n",
    "        lst.append(i)\n",
    "    return lst\n",
    "print(print_list('Laptop','Coders','techies','ArewaDs'))"
   ]
  },
  {
   "cell_type": "code",
   "execution_count": 35,
   "metadata": {},
   "outputs": [
    {
     "name": "stdout",
     "output_type": "stream",
     "text": [
      "[5, 6, 7, 8, 9]\n",
      "['T', 'Y', 'P']\n"
     ]
    }
   ],
   "source": [
    "def reverse_list(par):\n",
    "    lst=par\n",
    "    for i in lst:\n",
    "        lst.reverse()\n",
    "    return lst\n",
    "print(reverse_list([9, 8, 7, 6, 5]))\n",
    "print(reverse_list(['P','Y','T']))"
   ]
  },
  {
   "cell_type": "code",
   "execution_count": 36,
   "metadata": {},
   "outputs": [
    {
     "name": "stdout",
     "output_type": "stream",
     "text": [
      "['A MATHEMATICIAN', 'PHYSICIST', 'AKA', 'ENGINEER']\n"
     ]
    }
   ],
   "source": [
    "def capitalize_list_items(par):\n",
    "    lst = []\n",
    "    for i in par:\n",
    "        lst.append(i.upper())\n",
    "    return lst\n",
    "print(capitalize_list_items(['A mathematician','Physicist','aka','Engineer']))"
   ]
  },
  {
   "cell_type": "code",
   "execution_count": 37,
   "metadata": {},
   "outputs": [
    {
     "name": "stdout",
     "output_type": "stream",
     "text": [
      "['penApple', 'banana', 'Water melon']\n"
     ]
    }
   ],
   "source": [
    "def add_item(list,item):\n",
    "    lst=list\n",
    "    lst.append(item)\n",
    "    return lst\n",
    "print(add_item([\"penApple\",\"banana\"],'Water melon'))"
   ]
  },
  {
   "cell_type": "code",
   "execution_count": 38,
   "metadata": {},
   "outputs": [
    {
     "name": "stdout",
     "output_type": "stream",
     "text": [
      "['Caps', 'Shoes']\n"
     ]
    }
   ],
   "source": [
    "def remove_item(list,item):\n",
    "    lst=list\n",
    "    lst.remove(item)\n",
    "    return lst\n",
    "print(remove_item(['Caps','Shoes','Watch'],'Watch'))"
   ]
  },
  {
   "cell_type": "code",
   "execution_count": 39,
   "metadata": {},
   "outputs": [
    {
     "name": "stdout",
     "output_type": "stream",
     "text": [
      "10\n",
      "45\n",
      "4950\n"
     ]
    }
   ],
   "source": [
    "def sum_of_numbers(num):\n",
    "    sum=0\n",
    "    for i in range(num):\n",
    "        sum=sum+i\n",
    "    return sum\n",
    "print(sum_of_numbers(5))\n",
    "print(sum_of_numbers(10))\n",
    "print(sum_of_numbers(100))"
   ]
  },
  {
   "cell_type": "code",
   "execution_count": 40,
   "metadata": {},
   "outputs": [
    {
     "name": "stdout",
     "output_type": "stream",
     "text": [
      "the sum of odd numbers in the range of 9 is:  16\n"
     ]
    }
   ],
   "source": [
    "def sum_of_odds(num):\n",
    "    sum=0\n",
    "    for i in range(num):\n",
    "        if i%2 == 1:\n",
    "            sum=sum+i\n",
    "    print(f\"the sum of odd numbers in the range of {num} is: \",sum)\n",
    "sum_of_odds(9)"
   ]
  },
  {
   "cell_type": "code",
   "execution_count": 41,
   "metadata": {},
   "outputs": [
    {
     "name": "stdout",
     "output_type": "stream",
     "text": [
      "the sum of even numbers in the range of 5 is:  6\n"
     ]
    }
   ],
   "source": [
    "def sum_of_evens(num):\n",
    "    sum=0\n",
    "    for i in range(num):\n",
    "        if i%2==0:\n",
    "            sum=sum+i\n",
    "    print(f\"the sum of even numbers in the range of {num} is: \",sum)\n",
    "sum_of_evens(5)"
   ]
  },
  {
   "cell_type": "code",
   "execution_count": 42,
   "metadata": {},
   "outputs": [
    {
     "name": "stdout",
     "output_type": "stream",
     "text": [
      "For 100, The odd numbers are: 50 \n",
      "The even numbers are: 51\n"
     ]
    }
   ],
   "source": [
    "def evens_and_odds(int):\n",
    "  num_even = 0\n",
    "  num_odd = 0\n",
    "  for i in range(int + 1):\n",
    "    if i % 2 == 0:\n",
    "      num_even += 1\n",
    "    else:\n",
    "      num_odd += 1\n",
    "  return f'The odd numbers are: {num_odd} \\nThe even numbers are: {num_even}'\n",
    "print(f'For 100, {evens_and_odds(100)}')"
   ]
  },
  {
   "cell_type": "code",
   "execution_count": 45,
   "metadata": {},
   "outputs": [
    {
     "name": "stdout",
     "output_type": "stream",
     "text": [
      "6 factorial is: 720\n"
     ]
    }
   ],
   "source": [
    "def factorial(x):\n",
    "    fact = 1\n",
    "    for i in range(1, x + 1):\n",
    "        fact *= i\n",
    "    return fact\n",
    "print(f'6 factorial is: {factorial(6)}')"
   ]
  },
  {
   "cell_type": "code",
   "execution_count": 47,
   "metadata": {},
   "outputs": [
    {
     "name": "stdout",
     "output_type": "stream",
     "text": [
      "not emppty\n"
     ]
    }
   ],
   "source": [
    "def is_empty(x):\n",
    "    if len(x) == 0:\n",
    "        lst = 'empty'\n",
    "    else:\n",
    "        lst = 'not emppty'\n",
    "    return lst\n",
    "print(is_empty(['']))"
   ]
  },
  {
   "cell_type": "code",
   "execution_count": 52,
   "metadata": {},
   "outputs": [
    {
     "name": "stdout",
     "output_type": "stream",
     "text": [
      "The mean of [9,8,7,6,5] is: 7.0\n"
     ]
    }
   ],
   "source": [
    "def calculate_mean(lst):\n",
    "  sum_n = 0\n",
    "  for i in range(len(lst)):\n",
    "    sum_n += lst[i]\n",
    "  mean = sum_n / len(lst)\n",
    "  return mean\n",
    "print(f'The mean of [9,8,7,6,5] is: {calculate_mean([9,8,7,6,5])}')"
   ]
  },
  {
   "cell_type": "code",
   "execution_count": 55,
   "metadata": {},
   "outputs": [
    {
     "name": "stdout",
     "output_type": "stream",
     "text": [
      "The median of [9,8,7,6,5] is: 56\n"
     ]
    }
   ],
   "source": [
    "def calculate_median(lst):\n",
    "  lst_length = len(lst)\n",
    "  lst.sort()\n",
    "  if lst_length % 2 == 0:\n",
    "    median = (lst[lst_length//2] + lst[lst_length// 2 - 1])/2\n",
    "  else:\n",
    "    median = lst[lst_length//2]\n",
    "  return median\n",
    "print(f'The median of [9,8,7,6,5] is: {calculate_median([98, 32, 56, 23, 57])}')"
   ]
  },
  {
   "cell_type": "code",
   "execution_count": 56,
   "metadata": {},
   "outputs": [
    {
     "name": "stdout",
     "output_type": "stream",
     "text": [
      "The mode of [2,1,1,3,4,5,6,9,9,8,8,1,1] is: [1]\n"
     ]
    }
   ],
   "source": [
    "def calculate_mode(list):\n",
    "   dic = {}\n",
    "   for i in list:\n",
    "      dic[i] = dic.get(i,0) + 1\n",
    "   return [i for i,j in dic.items() if j == max(dic.values())]\n",
    "print(f'The mode of [2,1,1,3,4,5,6,9,9,8,8,1,1] is: {calculate_mode([2,1,1,3,4,5,6,9,9,8,8,1,1])}')"
   ]
  },
  {
   "cell_type": "code",
   "execution_count": null,
   "metadata": {},
   "outputs": [],
   "source": []
  }
 ],
 "metadata": {
  "kernelspec": {
   "display_name": "Python 3",
   "language": "python",
   "name": "python3"
  },
  "language_info": {
   "codemirror_mode": {
    "name": "ipython",
    "version": 3
   },
   "file_extension": ".py",
   "mimetype": "text/x-python",
   "name": "python",
   "nbconvert_exporter": "python",
   "pygments_lexer": "ipython3",
   "version": "3.11.5"
  }
 },
 "nbformat": 4,
 "nbformat_minor": 2
}
