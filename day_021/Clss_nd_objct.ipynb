{
 "cells": [
  {
   "cell_type": "markdown",
   "metadata": {},
   "source": [
    "### CLASSES AND OBJECTS"
   ]
  },
  {
   "cell_type": "markdown",
   "metadata": {},
   "source": [
    "#### EXERCISES"
   ]
  },
  {
   "cell_type": "markdown",
   "metadata": {},
   "source": [
    "#### EXERCISE LEVEL 1"
   ]
  },
  {
   "cell_type": "code",
   "execution_count": null,
   "metadata": {},
   "outputs": [],
   "source": [
    "# Exercise num1\n",
    "\n",
    "import statistics as stats\n",
    "ages = [31, 26, 34, 37, 27, 26, 32, 32, 26, 27, 27, 24, 32, 33, 27, 25, 26, 38, 37, 31, 34, 24, 33, 29, 26]\n",
    "class Statistics:\n",
    "    def __init__(self, D):\n",
    "        self.D = D\n",
    "    def count(self):\n",
    "        return len(self.D)\n",
    "    \n",
    "    def sum(self):\n",
    "        return sum(self.D)\n",
    "    \n",
    "    def min(self):\n",
    "        return min(self.D)\n",
    "    \n",
    "    def max(self):\n",
    "        return max(self.D)\n",
    "\n",
    "    def range(self):\n",
    "        return self.max() - self.min()\n",
    "    \n",
    "    def mean(self):\n",
    "        return stats.mean(self.D)\n",
    "\n",
    "    def median(self):\n",
    "        return stats.median(self.D)\n",
    "    \n",
    "    def mode(self):\n",
    "        '''Returns the mode and the count of the data'''\n",
    "        mode = stats.mode(self.D)\n",
    "        count = self.D.count(mode)\n",
    "        return (mode, count)\n",
    "\n",
    "    def var(self):\n",
    "        '''Returns the variance'''\n",
    "        return stats.variance(self.D)\n",
    "\n",
    "    def std(self):\n",
    "        '''Returns the standard deviation'''\n",
    "        return stats.stdev(self.D)\n",
    "\n",
    "    def freq_dist(self):\n",
    "        frequency_dict = {}\n",
    "        for i in self.D:\n",
    "            if i in frequency_dict:\n",
    "                frequency_dict[i] += 1\n",
    "            else:\n",
    "                frequency_dict[i] = 1\n",
    "        frequency_list = [(value, key) for key, value in frequency_dict.items()]\n",
    "        frequency_list.sort(reverse=True)\n",
    "        return frequency_list\n",
    "\n",
    "    def describe(self):\n",
    "        print('Count:', self.count())\n",
    "        print('Sum: ', self.sum())\n",
    "        print('Min: ', self.min())\n",
    "        print('Max: ', self.max())\n",
    "        print('Range: ', self.range())\n",
    "        print('Mean: ', self.mean())\n",
    "        print('Median: ', self.median())\n",
    "        print('Mode: ', self.mode())\n",
    "        print('Variance: ', self.var())\n",
    "        print('Standard Deviation: ', self.std())\n",
    "        print('Frequency Distribution: ', self.freq_dist())\n",
    "# implmnttn\n",
    "data = Statistics(ages)\n",
    "data.describe()"
   ]
  },
  {
   "cell_type": "markdown",
   "metadata": {},
   "source": [
    "#### EXERCISE LEVEL 2"
   ]
  },
  {
   "cell_type": "code",
   "execution_count": 2,
   "metadata": {},
   "outputs": [
    {
     "name": "stdout",
     "output_type": "stream",
     "text": [
      "Full_name: Aminu H  Nababa\n",
      "Incomes:  [(70000, 'money_1'), (50000, 'money_2')]\n",
      "Expenses:  [(30000, 'services'), (8000, 'Transport')]\n",
      "Total Income:  120000\n",
      "Total Expense:  38000\n",
      "Account Balance:  82000\n"
     ]
    }
   ],
   "source": [
    "# Exercise num1\n",
    "\n",
    "class PersonAccount:\n",
    "    def __init__(self, first_name, last_name):\n",
    "      self.first_name = first_name\n",
    "      self.last_name = last_name\n",
    "      self.incomes = []\n",
    "      self.expense = []\n",
    "      \n",
    "    def add_income(self, amount, discription):\n",
    "     self.incomes.append((amount, discription))\n",
    "     \n",
    "    def add_expense(self, amount, discription):\n",
    "      self.expense.append((amount, discription))\n",
    "      \n",
    "    def total_income(self):\n",
    "      total = 0\t\n",
    "      for income in self.incomes:\n",
    "        total += income[0]\n",
    "      return total\n",
    "      \n",
    "\t  \n",
    "      \n",
    "    def total_expense(self):\n",
    "      total = 0\n",
    "      for expense in self.expense:\n",
    "        total += expense[0]\n",
    "      return total\n",
    "      \n",
    " \n",
    "    def account_balance(self):\n",
    "      return self.total_income() - self.total_expense()\n",
    "    \n",
    "    def acount_info(self):\n",
    "      print(f\"Full_name: {self.first_name}  {self.last_name}\")\n",
    "      print(\"Incomes: \", self.incomes)\n",
    "      print(\"Expenses: \", self.expense)\n",
    "      print(\"Total Income: \", self.total_income())\n",
    "      print(\"Total Expense: \", self.total_expense())\n",
    "      print(\"Account Balance: \", self.account_balance())\n",
    "      \n",
    "account = PersonAccount('Aminu H', 'Nababa' )\n",
    "account.add_income(70000, 'money_1')\n",
    "account.add_income(50000, 'money_2')\n",
    "\n",
    "account.add_expense(30000, 'services')\n",
    "account.add_expense(8000, 'Transport')\n",
    "\n",
    "account.acount_info()"
   ]
  }
 ],
 "metadata": {
  "interpreter": {
   "hash": "4e880a7f5f27ad91acd9cec33fbf0d93d234c7ab08dff5f8487ebbcd75c6e380"
  },
  "kernelspec": {
   "display_name": "Python 3.10.0 64-bit",
   "language": "python",
   "name": "python3"
  },
  "language_info": {
   "codemirror_mode": {
    "name": "ipython",
    "version": 3
   },
   "file_extension": ".py",
   "mimetype": "text/x-python",
   "name": "python",
   "nbconvert_exporter": "python",
   "pygments_lexer": "ipython3",
   "version": "3.10.0"
  },
  "orig_nbformat": 4
 },
 "nbformat": 4,
 "nbformat_minor": 2
}
