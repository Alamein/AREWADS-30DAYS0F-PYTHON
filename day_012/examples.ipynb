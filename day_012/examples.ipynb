{
 "cells": [
  {
   "cell_type": "code",
   "execution_count": 1,
   "metadata": {},
   "outputs": [
    {
     "name": "stdout",
     "output_type": "stream",
     "text": [
      "My name is: Al'amin Nababa\n"
     ]
    }
   ],
   "source": [
    "import mymodules\n",
    "\n",
    "print('My name is:',mymodules.generate_fullname(\"Al'amin\", 'Nababa'))"
   ]
  },
  {
   "cell_type": "code",
   "execution_count": 3,
   "metadata": {},
   "outputs": [
    {
     "name": "stdout",
     "output_type": "stream",
     "text": [
      "50\n"
     ]
    }
   ],
   "source": [
    "print(mymodules.addition(23, 27))"
   ]
  },
  {
   "cell_type": "code",
   "execution_count": 11,
   "metadata": {},
   "outputs": [
    {
     "name": "stdout",
     "output_type": "stream",
     "text": [
      "\n",
      "Please wait a moment while I gather a list of all available modules...\n",
      "\n",
      "test_sqlite3: testing with version '2.6.0', sqlite_version '3.42.0'\n"
     ]
    },
    {
     "name": "stderr",
     "output_type": "stream",
     "text": [
      "c:\\Users\\USER\\AppData\\Local\\Programs\\Python\\Python311\\Lib\\site-packages\\_distutils_hack\\__init__.py:33: UserWarning: Setuptools is replacing distutils.\n",
      "  warnings.warn(\"Setuptools is replacing distutils.\")\n"
     ]
    },
    {
     "name": "stdout",
     "output_type": "stream",
     "text": [
      "IPython             asyncore            math                sunau\n",
      "__future__          atexit              matplotlib_inline   symtable\n",
      "__hello__           audioop             mimetypes           sys\n",
      "__phello__          backcall            mmap                sysconfig\n",
      "_abc                base64              mmapfile            tabnanny\n",
      "_aix_support        bdb                 mmsystem            tarfile\n",
      "_ast                binascii            modulefinder        telnetlib\n",
      "_asyncio            bisect              modules             tempfile\n",
      "_bisect             builtins            msilib              test\n",
      "_blake2             bz2                 msvcrt              textwrap\n",
      "_bootsubprocess     cProfile            multiprocessing     this\n",
      "_bz2                calendar            mymodules           threading\n",
      "_codecs             cgi                 nest_asyncio        time\n",
      "_codecs_cn          cgitb               netbios             timeit\n",
      "_codecs_hk          chunk               netrc               timer\n",
      "_codecs_iso2022     cmath               nntplib             tkinter\n",
      "_codecs_jp          cmd                 nt                  token\n",
      "_codecs_kr          code                ntpath              tokenize\n",
      "_codecs_tw          codecs              ntsecuritycon       tomllib\n",
      "_collections        codeop              nturl2path          tornado\n",
      "_collections_abc    collections         numbers             trace\n",
      "_compat_pickle      colorama            odbc                traceback\n",
      "_compression        colorsys            opcode              tracemalloc\n",
      "_contextvars        comm                operator            traitlets\n",
      "_csv                commctrl            optparse            tty\n",
      "_ctypes             compileall          os                  turtle\n",
      "_ctypes_test        concurrent          packaging           turtledemo\n",
      "_datetime           configparser        parso               types\n",
      "_decimal            contextlib          pathlib             typing\n",
      "_distutils_hack     contextvars         pdb                 unicodedata\n",
      "_elementtree        copy                perfmon             unittest\n",
      "_functools          copyreg             pickle              urllib\n",
      "_hashlib            crypt               pickleshare         uu\n",
      "_heapq              csv                 pickletools         uuid\n",
      "_imp                ctypes              pip                 venv\n",
      "_io                 curses              pipes               warnings\n",
      "_json               customtkinter       pkg_resources       wave\n",
      "_locale             darkdetect          pkgutil             wcwidth\n",
      "_lsprof             dataclasses         platform            weakref\n",
      "_lzma               datetime            platformdirs        webbrowser\n",
      "_markupbase         dateutil            plistlib            win2kras\n",
      "_md5                dbi                 poplib              win32api\n",
      "_msi                dbm                 posixpath           win32clipboard\n",
      "_multibytecodec     dde                 pprint              win32com\n",
      "_multiprocessing    debugpy             profile             win32con\n",
      "_opcode             decimal             prompt_toolkit      win32console\n",
      "_operator           decorator           pstats              win32cred\n",
      "_osx_support        difflib             psutil              win32crypt\n",
      "_overlapped         dis                 pty                 win32cryptcon\n",
      "_pickle             distutils           pure_eval           win32event\n",
      "_py_abc             doctest             py_compile          win32evtlog\n",
      "_pydecimal          email               pyclbr              win32evtlogutil\n",
      "_pyio               encodings           pydoc               win32file\n",
      "_queue              ensurepip           pydoc_data          win32gui\n",
      "_random             enum                pyexpat             win32gui_struct\n",
      "_sha1               errno               pygments            win32help\n",
      "_sha256             executing           pythoncom           win32inet\n",
      "_sha3               faulthandler        pywin               win32inetcon\n",
      "_sha512             filecmp             pywin32_bootstrap   win32job\n",
      "_signal             fileinput           pywin32_testutil    win32lz\n",
      "_sitebuiltins       fnmatch             pywintypes          win32net\n",
      "_socket             fractions           queue               win32netcon\n",
      "_sqlite3            ftplib              quopri              win32pdh\n",
      "_sre                functools           random              win32pdhquery\n",
      "_ssl                gc                  rasutil             win32pdhutil\n",
      "_stat               genericpath         re                  win32pipe\n",
      "_statistics         getopt              regcheck            win32print\n",
      "_string             getpass             regutil             win32process\n",
      "_strptime           gettext             reprlib             win32profile\n",
      "_struct             glob                rlcompleter         win32ras\n",
      "_symtable           graphlib            runpy               win32rcparser\n",
      "_testbuffer         gzip                sched               win32security\n",
      "_testcapi           hashlib             secrets             win32service\n",
      "_testconsole        heapq               select              win32serviceutil\n",
      "_testimportmultiple hmac                selectors           win32timezone\n",
      "_testinternalcapi   html                servicemanager      win32trace\n",
      "_testmultiphase     http                setuptools          win32traceutil\n",
      "_thread             idlelib             shelve              win32transaction\n",
      "_threading_local    imaplib             shlex               win32ts\n",
      "_tkinter            imghdr              shutil              win32ui\n",
      "_tokenize           imp                 signal              win32uiole\n",
      "_tracemalloc        importlib           site                win32verstamp\n",
      "_typing             inspect             six                 win32wnet\n",
      "_uuid               io                  smtpd               winerror\n",
      "_warnings           ipaddress           smtplib             winioctlcon\n",
      "_weakref            ipykernel           sndhdr              winnt\n",
      "_weakrefset         ipykernel_launcher  socket              winperf\n",
      "_win32sysloader     isapi               socketserver        winreg\n",
      "_winapi             itertools           sqlite3             winsound\n",
      "_winxptheme         jedi                sre_compile         winxpgui\n",
      "_xxsubinterpreters  json                sre_constants       winxptheme\n",
      "_zoneinfo           jupyter             sre_parse           wsgiref\n",
      "abc                 jupyter_client      ssl                 xdrlib\n",
      "adodbapi            jupyter_core        sspi                xml\n",
      "afxres              keyword             sspicon             xmlrpc\n",
      "aifc                lib2to3             stack_data          xxsubtype\n",
      "antigravity         linecache           start_pythonwin     zipapp\n",
      "argparse            locale              stat                zipfile\n",
      "array               logging             statistics          zipimport\n",
      "ast                 lzma                string              zlib\n",
      "asttokens           mailbox             stringprep          zmq\n",
      "asynchat            mailcap             struct              zoneinfo\n",
      "asyncio             marshal             subprocess          \n",
      "\n",
      "Enter any module name to get more help.  Or, type \"modules spam\" to search\n",
      "for modules whose name or summary contain the string \"spam\".\n",
      "\n",
      "None\n"
     ]
    }
   ],
   "source": [
    "print(help('modules'))"
   ]
  },
  {
   "cell_type": "code",
   "execution_count": 22,
   "metadata": {},
   "outputs": [],
   "source": [
    "import os\n",
    "\n",
    "# creating directory\n",
    "os.mkdir('test_directory')"
   ]
  },
  {
   "cell_type": "code",
   "execution_count": 21,
   "metadata": {},
   "outputs": [],
   "source": [
    "os.rmdir('test_directory')"
   ]
  },
  {
   "cell_type": "code",
   "execution_count": 25,
   "metadata": {},
   "outputs": [
    {
     "data": {
      "text/plain": [
       "'c:\\\\Users\\\\USER\\\\Documents\\\\GitHub\\\\AREWADS-30DAYS0F-PYTHON\\\\day_012'"
      ]
     },
     "execution_count": 25,
     "metadata": {},
     "output_type": "execute_result"
    }
   ],
   "source": [
    "os.getcwd()"
   ]
  },
  {
   "cell_type": "code",
   "execution_count": 26,
   "metadata": {},
   "outputs": [
    {
     "name": "stdout",
     "output_type": "stream",
     "text": [
      "Welcome --ip=127.0.0.1, Enjoy --stdin=9003 challenge\n"
     ]
    }
   ],
   "source": [
    "import sys\n",
    "\n",
    "print(f'Welcome {sys.argv[1]}, Enjoy {sys.argv[2]} challenge')"
   ]
  },
  {
   "cell_type": "code",
   "execution_count": 28,
   "metadata": {},
   "outputs": [
    {
     "data": {
      "text/plain": [
       "9223372036854775807"
      ]
     },
     "execution_count": 28,
     "metadata": {},
     "output_type": "execute_result"
    }
   ],
   "source": [
    "sys.maxsize"
   ]
  },
  {
   "cell_type": "code",
   "execution_count": 29,
   "metadata": {},
   "outputs": [
    {
     "data": {
      "text/plain": [
       "'3.11.5 (tags/v3.11.5:cce6ba9, Aug 24 2023, 14:38:34) [MSC v.1936 64 bit (AMD64)]'"
      ]
     },
     "execution_count": 29,
     "metadata": {},
     "output_type": "execute_result"
    }
   ],
   "source": [
    "sys.version"
   ]
  },
  {
   "cell_type": "code",
   "execution_count": 30,
   "metadata": {},
   "outputs": [
    {
     "data": {
      "text/plain": [
       "['c:\\\\Users\\\\USER\\\\Documents\\\\GitHub\\\\AREWADS-30DAYS0F-PYTHON\\\\day_012',\n",
       " 'c:\\\\Users\\\\USER\\\\AppData\\\\Local\\\\Programs\\\\Python\\\\Python311\\\\python311.zip',\n",
       " 'c:\\\\Users\\\\USER\\\\AppData\\\\Local\\\\Programs\\\\Python\\\\Python311\\\\DLLs',\n",
       " 'c:\\\\Users\\\\USER\\\\AppData\\\\Local\\\\Programs\\\\Python\\\\Python311\\\\Lib',\n",
       " 'c:\\\\Users\\\\USER\\\\AppData\\\\Local\\\\Programs\\\\Python\\\\Python311',\n",
       " '',\n",
       " 'C:\\\\Users\\\\USER\\\\AppData\\\\Roaming\\\\Python\\\\Python311\\\\site-packages',\n",
       " 'C:\\\\Users\\\\USER\\\\AppData\\\\Roaming\\\\Python\\\\Python311\\\\site-packages\\\\win32',\n",
       " 'C:\\\\Users\\\\USER\\\\AppData\\\\Roaming\\\\Python\\\\Python311\\\\site-packages\\\\win32\\\\lib',\n",
       " 'C:\\\\Users\\\\USER\\\\AppData\\\\Roaming\\\\Python\\\\Python311\\\\site-packages\\\\Pythonwin',\n",
       " 'c:\\\\Users\\\\USER\\\\AppData\\\\Local\\\\Programs\\\\Python\\\\Python311\\\\Lib\\\\site-packages']"
      ]
     },
     "execution_count": 30,
     "metadata": {},
     "output_type": "execute_result"
    }
   ],
   "source": [
    "sys.path"
   ]
  },
  {
   "cell_type": "code",
   "execution_count": 33,
   "metadata": {},
   "outputs": [
    {
     "data": {
      "text/plain": [
       "<function sys.exit(status=None, /)>"
      ]
     },
     "execution_count": 33,
     "metadata": {},
     "output_type": "execute_result"
    }
   ],
   "source": [
    "sys.exit"
   ]
  },
  {
   "cell_type": "code",
   "execution_count": 37,
   "metadata": {},
   "outputs": [
    {
     "name": "stdout",
     "output_type": "stream",
     "text": [
      "21.09090909090909\n",
      "20\n",
      "22\n",
      "6.106628291529549\n"
     ]
    }
   ],
   "source": [
    "from statistics import *\n",
    "ages = [20, 20, 4, 24, 25, 22, 26, 20, 23, 22, 26]\n",
    "print(mean(ages))\n",
    "print(mode(ages))\n",
    "print(median(ages))\n",
    "print(stdev(ages))"
   ]
  },
  {
   "cell_type": "code",
   "execution_count": 39,
   "metadata": {},
   "outputs": [
    {
     "name": "stdout",
     "output_type": "stream",
     "text": [
      "3.141592653589793\n",
      "2.0\n",
      "4.0\n",
      "8\n",
      "31\n",
      "2.0\n"
     ]
    }
   ],
   "source": [
    "from math import *\n",
    "print(pi)\n",
    "print(sqrt(4))\n",
    "print(pow(2,2))\n",
    "print(floor(8.345))\n",
    "print(ceil(30.98))\n",
    "print(log10(100))"
   ]
  }
 ],
 "metadata": {
  "kernelspec": {
   "display_name": "Python 3",
   "language": "python",
   "name": "python3"
  },
  "language_info": {
   "codemirror_mode": {
    "name": "ipython",
    "version": 3
   },
   "file_extension": ".py",
   "mimetype": "text/x-python",
   "name": "python",
   "nbconvert_exporter": "python",
   "pygments_lexer": "ipython3",
   "version": "3.11.5"
  }
 },
 "nbformat": 4,
 "nbformat_minor": 2
}
