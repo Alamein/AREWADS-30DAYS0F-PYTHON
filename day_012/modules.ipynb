{
 "cells": [
  {
   "cell_type": "code",
   "execution_count": 3,
   "metadata": {},
   "outputs": [
    {
     "name": "stdout",
     "output_type": "stream",
     "text": [
      "Your current code is:  fdTJKB\n"
     ]
    }
   ],
   "source": [
    "import random\n",
    "import string\n",
    "x = string.ascii_letters + string.digits\n",
    "lst = []\n",
    "lst[:0] = x\n",
    "\n",
    "def random_user_id():\n",
    "    y = ' '\n",
    "    for i in range(6):\n",
    "        y += random.choice(lst)\n",
    "    return y\n",
    "print(f'Your current code is: {random_user_id()}')"
   ]
  },
  {
   "cell_type": "code",
   "execution_count": 5,
   "metadata": {},
   "outputs": [
    {
     "name": "stdout",
     "output_type": "stream",
     "text": [
      "n g d H i k x t P x J 7 L e f m e\n",
      "J A 6 K y F e s r C 2 e p c y u p\n",
      "F V j w N K l p d Q D D L 3 8 F q\n",
      "Y 2 w O 2 m 0 z J W A q 3 L v v K\n",
      "Q 3 I G c T C M y U 6 6 q Y 9 a H\n",
      " \n"
     ]
    }
   ],
   "source": [
    "def user_id_gen_by_user():\n",
    "    y = int(input('Enter the number of characters in user ID: '))\n",
    "    x = int(input('Enter the number of user  ID to be generated: '))\n",
    "    for i in range(x):\n",
    "        z = ' '.join([random.choice(lst) for i in range(y)])\n",
    "        print(z)\n",
    "    return ' '\n",
    "print(user_id_gen_by_user())"
   ]
  },
  {
   "cell_type": "code",
   "execution_count": 6,
   "metadata": {},
   "outputs": [
    {
     "name": "stdout",
     "output_type": "stream",
     "text": [
      "rgb(225,195,62)\n"
     ]
    }
   ],
   "source": [
    "def rgb_color_gen():\n",
    "    r = str(random.randint(0, 255))\n",
    "    g = str(random.randint(0, 255))\n",
    "    b = str(random.randint(0, 255))\n",
    "    return \"rgb(\" + r + \",\" + g + \",\" + b + \")\"\n",
    "print(rgb_color_gen())"
   ]
  },
  {
   "cell_type": "code",
   "execution_count": 7,
   "metadata": {},
   "outputs": [
    {
     "name": "stdout",
     "output_type": "stream",
     "text": [
      "['#a80af7', '#c0395d', '#4c0ad5']\n"
     ]
    }
   ],
   "source": [
    "def list_of_hexa_colors(many=0):\n",
    "    if many == 0:\n",
    "        many = random.randint(1, 10)\n",
    "    hexas = \"1,2,3,4,5,6,7,8,9,0,a,b,c,d,e,f\".split(\",\")\n",
    "    hexCodes = []\n",
    "    for _ in range(many):\n",
    "        hexCodes.append(\"#\" + ''.join([random.choice(hexas) for _ in range(6)]))\n",
    "    return hexCodes\n",
    "print(list_of_hexa_colors(many=0))"
   ]
  },
  {
   "cell_type": "code",
   "execution_count": 8,
   "metadata": {},
   "outputs": [
    {
     "name": "stdout",
     "output_type": "stream",
     "text": [
      "None\n"
     ]
    }
   ],
   "source": [
    "def list_of_rgb_colors(many=0):\n",
    "   def rgb_color_gen():\n",
    "    r = str(random.randint(0, 255))\n",
    "    g = str(random.randint(0, 255))\n",
    "    b =str(random.randint(0, 255))\n",
    "    return \"rgb(\" + r + \",\" + g + \",\" + b + \")\"\n",
    "    if many == 0:\n",
    "        many = random.randint(1, 10)\n",
    "    rgbs = []\n",
    "    for _ in range(many):\n",
    "        rgbs.append(rgb_color_gen())\n",
    "    return rgbs\n",
    "print(list_of_rgb_colors(many=0))"
   ]
  },
  {
   "cell_type": "code",
   "execution_count": 9,
   "metadata": {},
   "outputs": [
    {
     "name": "stdout",
     "output_type": "stream",
     "text": [
      "['#3da032']\n"
     ]
    }
   ],
   "source": [
    "def generate_colors(col_type,many):\n",
    "    if col_type == 'hexa':\n",
    "        return list_of_hexa_colors(many)\n",
    "    elif col_type == 'rgb':\n",
    "        return list_of_rgb_colors(many)\n",
    "    else:\n",
    "        return \"Invalid Input\"\n",
    "print(generate_colors(\"hexa\",0))"
   ]
  },
  {
   "cell_type": "code",
   "execution_count": 14,
   "metadata": {},
   "outputs": [
    {
     "name": "stdout",
     "output_type": "stream",
     "text": [
      "[0, 5, 6, 6]\n"
     ]
    }
   ],
   "source": [
    "import random\n",
    "def shuffled_list(array):\n",
    "    return random.sample(array, len(array))\n",
    "print(shuffled_list([0,5,6,6]))"
   ]
  },
  {
   "cell_type": "code",
   "execution_count": 17,
   "metadata": {},
   "outputs": [
    {
     "name": "stdout",
     "output_type": "stream",
     "text": [
      "[9, 1, 6, 0, 8, 3, 2, 5]\n"
     ]
    }
   ],
   "source": [
    "def seven_random():\n",
    "    arr = []\n",
    "    length = -1\n",
    "    while length <= 7:\n",
    "        num = random.randint(0, 9)\n",
    "        if num not in arr:\n",
    "            arr.append(num)\n",
    "            length = len(arr)\n",
    "    return arr\n",
    "print(seven_random())"
   ]
  }
 ],
 "metadata": {
  "kernelspec": {
   "display_name": "Python 3",
   "language": "python",
   "name": "python3"
  },
  "language_info": {
   "codemirror_mode": {
    "name": "ipython",
    "version": 3
   },
   "file_extension": ".py",
   "mimetype": "text/x-python",
   "name": "python",
   "nbconvert_exporter": "python",
   "pygments_lexer": "ipython3",
   "version": "3.11.5"
  }
 },
 "nbformat": 4,
 "nbformat_minor": 2
}
