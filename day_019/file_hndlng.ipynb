{
 "cells": [
  {
   "cell_type": "markdown",
   "metadata": {},
   "source": [
    "### File Handling"
   ]
  },
  {
   "cell_type": "markdown",
   "metadata": {},
   "source": [
    "### Exercise level 1"
   ]
  },
  {
   "cell_type": "code",
   "execution_count": 1,
   "metadata": {},
   "outputs": [
    {
     "name": "stdout",
     "output_type": "stream",
     "text": [
      "Number of  lines: 66 and Number of  words: 2377\n",
      "Number of  lines: 48 and Number of  words: 1259\n",
      "Number of  lines: 83 and Number of  words: 2203\n",
      "Number of  lines: 33 and Number of  words: 1375\n"
     ]
    }
   ],
   "source": [
    "# exercise num1\n",
    "\n",
    "import re\n",
    "import json\n",
    "import csv\n",
    "def count_words_lines(file):\n",
    "    '''Counts the number of lines and words in a file'''\n",
    "    with open(file) as f:\n",
    "        lines = f.readlines()\n",
    "        words = []\n",
    "        for line in lines:\n",
    "            # removing all characters that are not alphanumeric using regex\n",
    "            line = re.sub(r'[^\\w\\s]','',line)\n",
    "            words.extend(line.split())\n",
    "    print(f'Number of  lines: {len(lines)} and Number of  words: {len(words)}')\n",
    "\n",
    "\n",
    "count_words_lines('obama_speech.txt')\n",
    "count_words_lines('donald_speech.txt')\n",
    "count_words_lines('michelle_obama_speech.txt')\n",
    "count_words_lines('melania_trump_speech.txt')"
   ]
  },
  {
   "cell_type": "code",
   "execution_count": null,
   "metadata": {},
   "outputs": [],
   "source": []
  },
  {
   "cell_type": "code",
   "execution_count": null,
   "metadata": {},
   "outputs": [],
   "source": [
    "# Exercise num3\n",
    "def most_populated_countries(filename,n):\n",
    "    '''\n",
    "    Takes a file path and an integer,n as arguments and returns the n most populated countries in the world\n",
    "    '''\n",
    "    with open(filename) as f:\n",
    "        dic_list = json.loads(f.read())\n",
    "    population = dict()\n",
    "    for i in range(len(dic_list)):\n",
    "        keys = dic_list[i]['name']\n",
    "        values = dic_list[i]['population']\n",
    "        population[keys] = values\n",
    "    # sorting by values of the population\n",
    "    sorted_lt = sorted(population.items(), key= lambda x:x[1],reverse=True)\n",
    "    final_list = [{'country':item[0],'population':item[1]} for item in sorted_lt]\n",
    "    return final_list[:n]\n",
    "\n",
    "most_populated_countries('countries_data.json',10)"
   ]
  },
  {
   "cell_type": "markdown",
   "metadata": {},
   "source": [
    "### Exercise Level 2"
   ]
  },
  {
   "cell_type": "code",
   "execution_count": null,
   "metadata": {},
   "outputs": [],
   "source": [
    "# exercise num1\n",
    "with open('email_exchanges_big.txt') as f:\n",
    "    lines = f.readlines()\n",
    "email_addresses = []\n",
    "for line in lines:\n",
    "    #using regex to get alphanumeric characters before and after and @ symbol. \\S is non-whitespace characters\n",
    "    email_addresses.extend(re.findall('[a-zA-Z0-9]\\S*@\\S*[a-zA-Z]', line))\n",
    "email_addresses[:]"
   ]
  },
  {
   "cell_type": "code",
   "execution_count": null,
   "metadata": {},
   "outputs": [],
   "source": [
    "# Exercise num2\n",
    "def find_most_common_words(file,n=10):\n",
    "    '''\n",
    "    Returns a list of tuples showing the count of the n most common words in the document, file\n",
    "    '''\n",
    "    with open(file) as f:\n",
    "        lines = f.readlines()\n",
    "    words = []\n",
    "    for line in lines:\n",
    "        # removing all characters that are not whitespace or alphanumeric using regex\n",
    "        line = re.sub(r'[^\\w\\s]','',line)\n",
    "        words.extend(line.split())\n",
    "    words_dict = {}\n",
    "    for word in words:\n",
    "        words_dict[word] = words_dict.get(word,0) + 1\n",
    "    words_sorted = sorted(words_dict.items(),key=lambda x:x[1],reverse=True)\n",
    "    result = [(word[1],word[0]) for word in words_sorted]\n",
    "    return result[:n]\n",
    "\n",
    "find_most_common_words('donald_speech.txt',5)"
   ]
  },
  {
   "cell_type": "code",
   "execution_count": null,
   "metadata": {},
   "outputs": [],
   "source": [
    "# Exercise num3\n",
    "# The ten most frequent words used in Obama's speech\n",
    "print('Obama: ',find_most_common_words('obama_speech.txt')) \n",
    "# The ten most frequent words used in Michelle's speech \n",
    "print('Michelle Obama: ',find_most_common_words('michelle_obama_speech.txt'))\n",
    "# The ten most frequent words used in Trump's speech \n",
    "print('Donald Trump: ',find_most_common_words('donald_speech.txt'))\n",
    "# The ten most frequent words used in Melina's speech\n",
    "print('Melania Trump: ',find_most_common_words('melania_trump_speech.txt'))"
   ]
  },
  {
   "cell_type": "code",
   "execution_count": null,
   "metadata": {},
   "outputs": [],
   "source": [
    "# Exercise num4\n",
    "def clean_text(file):\n",
    "    '''\n",
    "    Returns all the words in a text after removing the punctuations and others\n",
    "    '''\n",
    "    with open(file) as f:\n",
    "        lines = f.readlines()\n",
    "        words = []\n",
    "        for line in lines:\n",
    "            # removing all characters that are not whitespace or alphanumeric using regex\n",
    "            line = re.sub(r'[^\\w\\s]','',line)\n",
    "            words.extend(line.split())\n",
    "    return words\n",
    "clean_text('michelle_obama_speech.txt')"
   ]
  },
  {
   "cell_type": "code",
   "execution_count": null,
   "metadata": {},
   "outputs": [],
   "source": [
    "# importing stop_words list from stop_words.py\n",
    "from stop_words import stop_words\n",
    "\n",
    "def remove_stop_words(list):\n",
    "    return [word for word in list if word.lower() not in stop_words]\n",
    "remove_stop_words(clean_text('michelle_obama_speech.txt'))"
   ]
  },
  {
   "cell_type": "code",
   "execution_count": null,
   "metadata": {},
   "outputs": [],
   "source": [
    "def check_text_similarity(list_one,list_two):\n",
    "    res = [x for x in (list_one + list_two) if x in list_one and x in list_two]\n",
    "    similar_words_percent = (len(res)/(len(list_one) + len(list_two))) * 100\n",
    "    return similar_words_percent\n",
    "check_text_similarity(['apple','banana','mango','pawpaw'],['apple','mango','pear'])"
   ]
  },
  {
   "cell_type": "code",
   "execution_count": null,
   "metadata": {},
   "outputs": [],
   "source": [
    "# combining the function for a big one: biggest I have tried so far:\n",
    "def comparing_text_in_file_similarity(file_one,file_two):\n",
    "    file_one_words = remove_stop_words(clean_text(file_one))\n",
    "    file_two_words = remove_stop_words(clean_text(file_two))\n",
    "    return check_text_similarity(file_one_words,file_two_words)\n",
    "\n",
    "comparing_text_in_file_similarity('michelle_obama_speech.txt','melania_trump_speech.txt')"
   ]
  },
  {
   "cell_type": "code",
   "execution_count": null,
   "metadata": {},
   "outputs": [],
   "source": [
    "# Exercise num5\n",
    "print('10 most common words in romeo and juliet: ',find_most_common_words('romeo_and_juliet.txt'))"
   ]
  },
  {
   "cell_type": "code",
   "execution_count": null,
   "metadata": {},
   "outputs": [],
   "source": [
    "with open('hacker_news.csv',newline='') as f:\n",
    "    csv_reader = csv.reader(f,delimiter=',')\n",
    "    python_rows = 0\n",
    "    javascript_rows = 0\n",
    "    java_rows = 0\n",
    "    for row in csv_reader:\n",
    "        for i in range(len(row)):\n",
    "            if re.findall(r'[Pp]ython',row[i]):\n",
    "                python_rows += 1\n",
    "            elif re.findall(r'[Jj]ava[Ss]cript',row[i]):\n",
    "                javascript_rows +=1\n",
    "            elif re.findall(r'Java$',row[i]):\n",
    "                java_rows +=1\n",
    "print(f'the number of lines containing a,b and c respectively are: {python_rows}, {javascript_rows} and {java_rows}')"
   ]
  },
  {
   "cell_type": "code",
   "execution_count": null,
   "metadata": {},
   "outputs": [],
   "source": [
    "from collections import Counter\n",
    "with open('donald_speech.txt') as f:\n",
    "    lines = f.readlines()\n",
    "    words = []\n",
    "    for line in lines:\n",
    "        # removing all characters that are not whitespace or alphanumeric using regex, don't want punctuation affecting count\n",
    "        line = re.sub(r'[^\\w\\s]','',line)\n",
    "        words.extend(line.split())\n",
    "Count = Counter(words)\n",
    "Count.most_common(5)"
   ]
  }
 ],
 "metadata": {
  "interpreter": {
   "hash": "4e880a7f5f27ad91acd9cec33fbf0d93d234c7ab08dff5f8487ebbcd75c6e380"
  },
  "kernelspec": {
   "display_name": "Python 3.10.0 64-bit",
   "language": "python",
   "name": "python3"
  },
  "language_info": {
   "codemirror_mode": {
    "name": "ipython",
    "version": 3
   },
   "file_extension": ".py",
   "mimetype": "text/x-python",
   "name": "python",
   "nbconvert_exporter": "python",
   "pygments_lexer": "ipython3",
   "version": "3.11.5"
  },
  "orig_nbformat": 4
 },
 "nbformat": 4,
 "nbformat_minor": 2
}
