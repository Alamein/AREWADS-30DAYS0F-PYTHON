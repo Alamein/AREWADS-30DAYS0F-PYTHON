{
 "cells": [
  {
   "cell_type": "code",
   "execution_count": 1,
   "metadata": {},
   "outputs": [
    {
     "name": "stdout",
     "output_type": "stream",
     "text": [
      "This is empty turple:  ()\n"
     ]
    }
   ],
   "source": [
    "empty_tuple = ()\n",
    "print('This is empty turple: ', empty_tuple)"
   ]
  },
  {
   "cell_type": "code",
   "execution_count": null,
   "metadata": {},
   "outputs": [],
   "source": [
    "# EXERCISE LEVEL1\n",
    "# I am using print() to have newline to the next code\n",
    "# execise num 1\n",
    "\n",
    "# execise num2\n",
    "sisters_tuple = ('Shahidat', 'Hafsat', 'Fatima', 'Bara atu', 'Baby', 'Afnan')\n",
    "brothers_tuple = ('Muddassir', 'Sabir')\n",
    "# execise num3\n",
    "sibilings_tuple = brothers_tuple + sisters_tuple\n",
    "# execise num4\n",
    "print('I have ', len(sibilings_tuple), ' siblings')\n",
    "# execise num5\n",
    "modify_siblngs_tuple = list(sibilings_tuple)\n",
    "print('Here are my siblings: ', modify_siblngs_tuple)\n",
    "print()\n",
    "family_members = ['Hamza', 'Sadiya' ] + modify_siblngs_tuple\n",
    "print('Here are my family members', family_members, ' including me')\n",
    "print()\n",
    "\n",
    "# EXERCISE LEVEL2\n",
    "# execise num1\n",
    "family_members = ['Hamza', 'Sadiya' ] + modify_siblngs_tuple\n",
    "*father,sblng1,sblng2,sblng3sblng4,sblng5,sblng,sblng7,sblng8 = family_members\n",
    "print('Unpack tuple: ', *father,sblng1,sblng2,sblng3sblng4,sblng5,sblng,sblng7,sblng8)\n",
    "print()\n",
    "# execise num2\n",
    "fruits = ('Lemon', 'water melon', 'Banana', 'Apple')\n",
    "vegetables = ('Carrot', 'Lattuse', 'Tomato')\n",
    "animal = ('Duck', 'Hen', 'Ram')\n",
    "food_stuff_tp = fruits + vegetables + animal\n",
    "print('Tuple joining sample: ', food_stuff_tp)\n",
    "print()\n",
    "# execise num3\n",
    "food_stuff_lt = list(food_stuff_tp)\n",
    "print()\n",
    "# execise num4\n",
    "print(food_stuff_tp[4:6])\n",
    "print()\n",
    "# execise num5\n",
    "print(food_stuff_lt[0:4])\n",
    "print(food_stuff_lt[7:10])\n",
    "# execise num6\n",
    "# since food stuff it is the samething as food stuff tp \n",
    "food_stuff_lt = list(food_stuff_tp)\n",
    "del food_stuff_lt\n",
    "# execise num7\n",
    "nordic_countries = ('Denmark', 'Finland', 'Iceland', 'Norway', 'Sweden')\n",
    "check_if_a = 'Estonia' in nordic_countries\n",
    "check_if_b = 'Iceland' in nordic_countries\n",
    "print('Estonia is in nordic countries: ', check_if_a)\n",
    "print('Iceland is in nordic countries: ', check_if_b)\n",
    "\n",
    "\n",
    "\n"
   ]
  }
 ],
 "metadata": {
  "kernelspec": {
   "display_name": "Python 3",
   "language": "python",
   "name": "python3"
  },
  "language_info": {
   "codemirror_mode": {
    "name": "ipython",
    "version": 3
   },
   "file_extension": ".py",
   "mimetype": "text/x-python",
   "name": "python",
   "nbconvert_exporter": "python",
   "pygments_lexer": "ipython3",
   "version": "3.11.5"
  }
 },
 "nbformat": 4,
 "nbformat_minor": 2
}
