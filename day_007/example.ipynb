{
 "cells": [
  {
   "cell_type": "markdown",
   "metadata": {},
   "source": [
    "## Sets"
   ]
  },
  {
   "cell_type": "code",
   "execution_count": 21,
   "metadata": {},
   "outputs": [],
   "source": [
    "# Creating a Set\n",
    "st = {}\n",
    "# or\n",
    "st = set()"
   ]
  },
  {
   "cell_type": "code",
   "execution_count": 22,
   "metadata": {},
   "outputs": [],
   "source": [
    "fruits = {'Banana', 'Orange', 'Mango', 'Lemon'}"
   ]
  },
  {
   "cell_type": "code",
   "execution_count": 23,
   "metadata": {},
   "outputs": [
    {
     "name": "stdout",
     "output_type": "stream",
     "text": [
      "This is a set of fruits: {'Banana', 'Mango', 'Lemon', 'Orange'}\n"
     ]
    }
   ],
   "source": [
    "print(f'This is a set of fruits: {fruits}')"
   ]
  },
  {
   "cell_type": "code",
   "execution_count": 24,
   "metadata": {},
   "outputs": [
    {
     "name": "stdout",
     "output_type": "stream",
     "text": [
      "4\n"
     ]
    }
   ],
   "source": [
    "print(len(fruits))"
   ]
  },
  {
   "cell_type": "code",
   "execution_count": 25,
   "metadata": {},
   "outputs": [
    {
     "name": "stdout",
     "output_type": "stream",
     "text": [
      "Mango is in set of fruits: True\n"
     ]
    }
   ],
   "source": [
    "mng = 'Mango' in fruits\n",
    "print(f'Mango is in set of fruits: {mng}')"
   ]
  },
  {
   "cell_type": "code",
   "execution_count": 26,
   "metadata": {},
   "outputs": [
    {
     "name": "stdout",
     "output_type": "stream",
     "text": [
      "{'Banana', 'Mango', 'Lemon', 'Orange', 'Apple'}\n"
     ]
    }
   ],
   "source": [
    "fruits.add('Apple')\n",
    "print(fruits)"
   ]
  },
  {
   "cell_type": "code",
   "execution_count": 27,
   "metadata": {},
   "outputs": [
    {
     "name": "stdout",
     "output_type": "stream",
     "text": [
      "{'Banana', 'Mango', 'Lemon', 'Strawberry', 'Avocado', 'Orange', 'Apple'}\n"
     ]
    }
   ],
   "source": [
    "fruits.update(['Avocado', 'Strawberry'])\n",
    "print(fruits)"
   ]
  },
  {
   "cell_type": "code",
   "execution_count": 28,
   "metadata": {},
   "outputs": [],
   "source": [
    "vegetables = ('tomato', 'potato', 'cabbage','onion', 'carrot')"
   ]
  },
  {
   "cell_type": "code",
   "execution_count": 31,
   "metadata": {},
   "outputs": [],
   "source": [
    "fruits.update(vegetables)"
   ]
  },
  {
   "cell_type": "code",
   "execution_count": 33,
   "metadata": {},
   "outputs": [
    {
     "name": "stdout",
     "output_type": "stream",
     "text": [
      "Set of Fruits and Vegetables: {'potato', 'Banana', 'Mango', 'cabbage', 'Lemon', 'Strawberry', 'Avocado', 'tomato', 'Orange', 'carrot', 'Apple', 'onion'}\n"
     ]
    }
   ],
   "source": [
    "print(f'Set of Fruits and Vegetables: {fruits}')"
   ]
  },
  {
   "cell_type": "code",
   "execution_count": 34,
   "metadata": {},
   "outputs": [
    {
     "name": "stdout",
     "output_type": "stream",
     "text": [
      "{'potato', 'Banana', 'Mango', 'cabbage', 'Lemon', 'Strawberry', 'Avocado', 'Orange', 'carrot', 'Apple', 'onion'}\n"
     ]
    }
   ],
   "source": [
    "fruits.remove('tomato')\n",
    "print(fruits)"
   ]
  },
  {
   "cell_type": "code",
   "execution_count": 35,
   "metadata": {},
   "outputs": [
    {
     "name": "stdout",
     "output_type": "stream",
     "text": [
      "{'Banana', 'Mango', 'cabbage', 'Lemon', 'Strawberry', 'Avocado', 'Orange', 'carrot', 'Apple', 'onion'}\n"
     ]
    }
   ],
   "source": [
    "fruits.pop()\n",
    "print(fruits)"
   ]
  },
  {
   "cell_type": "code",
   "execution_count": null,
   "metadata": {},
   "outputs": [],
   "source": []
  }
 ],
 "metadata": {
  "kernelspec": {
   "display_name": "Python 3",
   "language": "python",
   "name": "python3"
  },
  "language_info": {
   "codemirror_mode": {
    "name": "ipython",
    "version": 3
   },
   "file_extension": ".py",
   "mimetype": "text/x-python",
   "name": "python",
   "nbconvert_exporter": "python",
   "pygments_lexer": "ipython3",
   "version": "3.11.5"
  }
 },
 "nbformat": 4,
 "nbformat_minor": 2
}
