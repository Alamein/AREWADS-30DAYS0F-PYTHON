{
 "cells": [
  {
   "cell_type": "code",
   "execution_count": 28,
   "metadata": {},
   "outputs": [],
   "source": [
    "it_companies = {'Facebook', 'Google', 'Microsoft', 'Apple', 'IBM', 'Oracle', 'Amazon'}\n",
    "A = {19, 22, 24, 20, 25, 26}\n",
    "B = {19, 22, 20, 25, 26, 24, 28, 27}\n",
    "age = [22, 19, 24, 25, 26, 24, 25, 24]"
   ]
  },
  {
   "cell_type": "code",
   "execution_count": 29,
   "metadata": {},
   "outputs": [
    {
     "name": "stdout",
     "output_type": "stream",
     "text": [
      "Lenght of the set in IT companies is:  7\n"
     ]
    }
   ],
   "source": [
    "print('Lenght of the set in IT companies is: ', len(it_companies))"
   ]
  },
  {
   "cell_type": "code",
   "execution_count": 30,
   "metadata": {},
   "outputs": [
    {
     "name": "stdout",
     "output_type": "stream",
     "text": [
      "Twitter is added to the IT companies: {'Oracle', 'Apple', 'Google', 'Twitter', 'IBM', 'Facebook', 'Microsoft', 'Amazon'}\n"
     ]
    }
   ],
   "source": [
    "it_companies.add('Twitter')\n",
    "print(f'Twitter is added to the IT companies: {it_companies}')"
   ]
  },
  {
   "cell_type": "code",
   "execution_count": 31,
   "metadata": {},
   "outputs": [
    {
     "name": "stdout",
     "output_type": "stream",
     "text": [
      "New set of IT Companies: {'Alphabet', 'Apple', 'Google', 'Twitter', 'Tesla', 'Amazon', 'Oracle', 'Facebook', 'SpaceX', 'IBM', 'Microsoft'}\n"
     ]
    }
   ],
   "source": [
    "it_companies.update(['Tesla', 'SpaceX', 'Alphabet'])\n",
    "print(f'New set of IT Companies: {it_companies}')"
   ]
  },
  {
   "cell_type": "code",
   "execution_count": 32,
   "metadata": {},
   "outputs": [
    {
     "name": "stdout",
     "output_type": "stream",
     "text": [
      "Microsoft is removed from the list of IT companies: {'Alphabet', 'Apple', 'Google', 'Twitter', 'Tesla', 'Amazon', 'Oracle', 'Facebook', 'SpaceX', 'IBM'}\n"
     ]
    }
   ],
   "source": [
    "it_companies.remove('Microsoft')\n",
    "print(f'Microsoft is removed from the list of IT companies: {it_companies}')"
   ]
  },
  {
   "cell_type": "code",
   "execution_count": 33,
   "metadata": {},
   "outputs": [
    {
     "name": "stdout",
     "output_type": "stream",
     "text": [
      "The discard method is different from the remove () method,\n",
      "because the remove () method will raise an error if the specified item does not exist,\n",
      "and the discard () method will not.\n"
     ]
    }
   ],
   "source": [
    "difference = '''The discard method is different from the remove () method,\\nbecause the remove () method will raise an error if the specified item does not exist,\\nand the discard () method will not.'''                  \n",
    "print(difference)"
   ]
  },
  {
   "cell_type": "code",
   "execution_count": 34,
   "metadata": {},
   "outputs": [
    {
     "name": "stdout",
     "output_type": "stream",
     "text": [
      "{19, 20, 22, 24, 25, 26, 27, 28}\n"
     ]
    }
   ],
   "source": [
    "union = A.union(B)\n",
    "print(union)"
   ]
  },
  {
   "cell_type": "code",
   "execution_count": null,
   "metadata": {},
   "outputs": [],
   "source": []
  },
  {
   "cell_type": "code",
   "execution_count": 35,
   "metadata": {},
   "outputs": [
    {
     "name": "stdout",
     "output_type": "stream",
     "text": [
      "\n",
      "Join of set A and B:  {19, 20, 22, 24, 25, 26, 27, 28}\n",
      "\n",
      "The intersection between Set A and Set B is:  {19, 20, 22, 24, 25, 26}\n",
      "\n",
      "Is A subset of B:  True\n",
      "\n",
      "Are A and B disjoint sets:  False\n",
      "\n",
      "Join A with B:  {19, 20, 22, 24, 25, 26, 27, 28}\n",
      "Join B with A:  {19, 20, 22, 24, 25, 26, 27, 28}\n",
      "\n",
      "The Symmetric difference between Set A and set B is:  {27, 28}\n",
      "\n",
      "The length of list age is:  8\n",
      "The length of set age as set is:  5\n",
      "Set comparison, set A is  greater than set B:  True\n",
      "\n",
      "Stirn is any character uyoucan write on the keyboard written as \"strn64/j2\", \n",
      "list is a collection which is ordered and changeable(modifiable). Allows duplicate members, \n",
      "and Tuple is a collection which is ordered and unchangeable or unmodifiable(immutable). Allows duplicate members, \n",
      "while Set is a collection which is unordered, un-indexed and unmodifiable, but we can add new items to the set. Duplicate members are not allowed\n",
      "\n",
      "the Unique words are:  {'I', 'teacher', 'inspire', 'love', 'teach', 'to', 'am', 'and', 'a', 'people.'}\n",
      "The number of unique words are:  10\n"
     ]
    }
   ],
   "source": [
    "\n",
    "# difference between remove and discard method\n",
    "\n",
    "print()\n",
    "\n",
    "# EXERCISE LEVEL 2\n",
    "\n",
    "# Join of set\n",
    "Union = A.union(B)\n",
    "print('Join of set A and B: ', Union)\n",
    "print()\n",
    "\n",
    "# intersection of set\n",
    "ineter_section = A.intersection(B)\n",
    "print('The intersection between Set A and Set B is: ', ineter_section)\n",
    "print()\n",
    "# subset of set\n",
    "Sub_set = A.issubset(B)\n",
    "print('Is A subset of B: ', Sub_set)\n",
    "print()\n",
    "# Disjoint of set\n",
    "print('Are A and B disjoint sets: ', A.isdisjoint(B))\n",
    "print()\n",
    "# Join A with B and B with A\n",
    "A_B = A.union(B)\n",
    "B_A = B.union(A)\n",
    "print('Join A with B: ', A_B)\n",
    "print('Join B with A: ', B_A)\n",
    "print()\n",
    "# Symmetric difference of set\n",
    "Symtrc_dffrnc = A.symmetric_difference(B)\n",
    "print('The Symmetric difference between Set A and set B is: ', Symtrc_dffrnc)\n",
    "print()\n",
    "# Deleting of sets\n",
    "del it_companies\n",
    "del A\n",
    "del B\n",
    "\n",
    "\n",
    "# EXERCISE LEVEL 3\n",
    "# converting of set\n",
    "age = [22, 19, 24, 25, 26, 24, 25, 24]\n",
    "age_set = set(age)\n",
    "print('The length of list age is: ', len(age))\n",
    "print('The length of set age as set is: ', len(age_set))\n",
    "print('Set comparison, set A is  greater than set B: ', len(age)>len(age_set))\n",
    "print()\n",
    "# differences between data types\n",
    "diference_btwn_data_tp = 'Stirn is any character uyoucan write on the keyboard written as \"strn64/j2\", \\nlist is a collection which is ordered and changeable(modifiable). Allows duplicate members, \\nand Tuple is a collection which is ordered and unchangeable or unmodifiable(immutable). Allows duplicate members, \\nwhile Set is a collection which is unordered, un-indexed and unmodifiable, but we can add new items to the set. Duplicate members are not allowed'''\n",
    "print(diference_btwn_data_tp)\n",
    "print()\n",
    "sentence = \"I am a teacher and I love to inspire and teach people.\"\n",
    "words = sentence.split()\n",
    "unique_words = set(words)\n",
    "print('the Unique words are: ', unique_words)\n",
    "print('The number of unique words are: ', len(unique_words))\n",
    "\n"
   ]
  }
 ],
 "metadata": {
  "kernelspec": {
   "display_name": "Python 3",
   "language": "python",
   "name": "python3"
  },
  "language_info": {
   "codemirror_mode": {
    "name": "ipython",
    "version": 3
   },
   "file_extension": ".py",
   "mimetype": "text/x-python",
   "name": "python",
   "nbconvert_exporter": "python",
   "pygments_lexer": "ipython3",
   "version": "3.11.5"
  }
 },
 "nbformat": 4,
 "nbformat_minor": 2
}
