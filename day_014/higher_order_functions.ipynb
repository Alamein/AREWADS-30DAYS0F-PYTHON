{
 "cells": [
  {
   "attachments": {},
   "cell_type": "markdown",
   "metadata": {},
   "source": [
    "EXERCISE LEVEL 1\n",
    "\n",
    "Exercise num1"
   ]
  },
  {
   "attachments": {},
   "cell_type": "markdown",
   "metadata": {},
   "source": [
    "Map, Filter, and Reduce are paradigms of functional programming. They allow you as a programmer to write simpler, shorter code, without neccessarily needing to bother about intricacies like loops and branching.\n",
    "Essentially, these three functions allow you to apply a function across a number of iterables, in one fell swoop. map and filter come built-in with Python (in the __builtins__ module) and require no importing. reduce, however, needs to be imported as it resides in the functools module. Let's get a better understanding of how they all work, starting with map."
   ]
  },
  {
   "attachments": {},
   "cell_type": "markdown",
   "metadata": {},
   "source": [
    "1. Map in Python is a function that works as an iterator to return a result after applying a function to every item of an iterable (tuple, lists, etc.). It is used when you want to apply a single transformation function to all the iterable elements. The iterable and function are passed as arguments to the map in Python.\n",
    "2. Filter() is a built-in function in Python. The filter function can be applied to an iterable such as a list or a dictionary and create a new iterator. This new iterator can filter out certain specific elements based on the condition that you provide very efficiently. \n",
    "\n",
    "\tNote: An iterable in Python is an object that you can iterate over. It is possible to loop over an iterable and return items that are in it.\n",
    "3. Reduce() is a function that implements a mathematical technique called folding or reduction. reduce() is useful when you need to apply a function to an iterable and reduce it to a single cumulative value. Python’s reduce() is popular among developers with a functional programming background, but Python has more to offer."
   ]
  },
  {
   "attachments": {},
   "cell_type": "markdown",
   "metadata": {},
   "source": [
    "Exercise num2 and Exercise num3"
   ]
  },
  {
   "attachments": {},
   "cell_type": "markdown",
   "metadata": {},
   "source": [
    "1. A function in Python with another function as an argument or returns a function as an output is called the High order function. Let’s see the propertie −\n",
    "\n",
    "\tThe function can be stored in a variable.\n",
    "\n",
    "\tThe function can be passed as a parameter to another function.\n",
    "\n",
    "\tThe high order functions can be stored in the form of lists, hash tables, etc.\n",
    "\n",
    "\tFunction can be returned from a function.\n",
    "\n",
    "2. A Closure is a function object that remembers values in enclosing scopes even if they are not present in memory. \n",
    "\tLet us get to it step by step\n",
    "\n",
    "\tFirstly, a Nested Function is a function defined inside another function. It's very important to note that the nested functions can access the variables of the enclosing scope. However, at least in python, they are only readonly. However, one can use the \"nonlocal\" keyword explicitly with these variables in order to modify them.\n",
    "3. A decorator is a design pattern in Python that allows a user to add new functionality to an existing object \t\twithout modifying its structure. Decorators are usually called before the definition of a function you want to decorate."
   ]
  },
  {
   "cell_type": "code",
   "execution_count": 7,
   "metadata": {},
   "outputs": [],
   "source": [
    "countries = ['Estonia', 'Finland', 'Sweden', 'Denmark', 'Norway', 'Iceland']\n",
    "names = [\"Al'amin Nababa\", 'Farukh', 'Bash', 'Moses', 'Abraham']\n",
    "numbers = [1, 2, 3, 4, 5, 6, 7, 8, 9, 10]"
   ]
  },
  {
   "attachments": {},
   "cell_type": "markdown",
   "metadata": {},
   "source": [
    "Exercise num4"
   ]
  },
  {
   "cell_type": "code",
   "execution_count": 2,
   "metadata": {},
   "outputs": [
    {
     "name": "stdout",
     "output_type": "stream",
     "text": [
      "Estonia\n",
      "Finland\n",
      "Sweden\n",
      "Denmark\n",
      "Norway\n",
      "Iceland\n"
     ]
    }
   ],
   "source": [
    "for country in countries:\n",
    "    print(country)"
   ]
  },
  {
   "attachments": {},
   "cell_type": "markdown",
   "metadata": {},
   "source": [
    "Exercise num5"
   ]
  },
  {
   "cell_type": "code",
   "execution_count": 8,
   "metadata": {},
   "outputs": [
    {
     "name": "stdout",
     "output_type": "stream",
     "text": [
      "Al'amin Nababa\n",
      "Farukh\n",
      "Bash\n",
      "Moses\n",
      "Abraham\n"
     ]
    }
   ],
   "source": [
    "for name in names:\n",
    "    print(name)"
   ]
  },
  {
   "attachments": {},
   "cell_type": "markdown",
   "metadata": {},
   "source": [
    "Exercise num6"
   ]
  },
  {
   "cell_type": "code",
   "execution_count": 9,
   "metadata": {},
   "outputs": [
    {
     "name": "stdout",
     "output_type": "stream",
     "text": [
      "1\n",
      "2\n",
      "3\n",
      "4\n",
      "5\n",
      "6\n",
      "7\n",
      "8\n",
      "9\n",
      "10\n"
     ]
    }
   ],
   "source": [
    "for num in numbers:\n",
    "    print(num)"
   ]
  },
  {
   "attachments": {},
   "cell_type": "markdown",
   "metadata": {},
   "source": [
    "EXERCISE LEVEL 2\n",
    "\n",
    "Exercise num1"
   ]
  },
  {
   "cell_type": "code",
   "execution_count": 10,
   "metadata": {},
   "outputs": [
    {
     "name": "stdout",
     "output_type": "stream",
     "text": [
      "List countries in uppercase :\n",
      "\n",
      "['ESTONIA', 'FINLAND', 'SWEDEN', 'DENMARK', 'NORWAY', 'ICELAND']\n"
     ]
    }
   ],
   "source": [
    "def change_upper(country):\n",
    "    return country.upper()\n",
    "up_contry_list = map(change_upper, countries)\n",
    "print(f'List countries in uppercase :\\n\\n{list(up_contry_list)}')"
   ]
  },
  {
   "attachments": {},
   "cell_type": "markdown",
   "metadata": {},
   "source": [
    "Exercise num2"
   ]
  },
  {
   "cell_type": "code",
   "execution_count": 11,
   "metadata": {},
   "outputs": [
    {
     "name": "stdout",
     "output_type": "stream",
     "text": [
      "List of squared numbers:\n",
      "\n",
      "[1, 4, 9, 16, 25, 36, 49, 64, 81, 100]\n"
     ]
    }
   ],
   "source": [
    "def square(num):\n",
    "    return num **2\n",
    "to_square = map(square, numbers)\n",
    "print(f'List of squared numbers:\\n\\n{list(to_square)}')"
   ]
  },
  {
   "attachments": {},
   "cell_type": "markdown",
   "metadata": {},
   "source": [
    "Exercise num3"
   ]
  },
  {
   "cell_type": "code",
   "execution_count": 12,
   "metadata": {},
   "outputs": [
    {
     "name": "stdout",
     "output_type": "stream",
     "text": [
      "Uppercase of the names :\n",
      "\n",
      "[\"AL'AMIN NABABA\", 'FARUKH', 'BASH', 'MOSES', 'ABRAHAM'] \n"
     ]
    }
   ],
   "source": [
    "up_cs_names = list(map(lambda y:y.upper(), names))\n",
    "print(f'Uppercase of the names :\\n\\n{up_cs_names} ')"
   ]
  },
  {
   "attachments": {},
   "cell_type": "markdown",
   "metadata": {},
   "source": [
    "Exercise num4"
   ]
  },
  {
   "cell_type": "code",
   "execution_count": 8,
   "metadata": {},
   "outputs": [
    {
     "name": "stdout",
     "output_type": "stream",
     "text": [
      "Countries with land in their name:\n",
      "\n",
      "['Finland', 'Iceland']\n"
     ]
    }
   ],
   "source": [
    "contains_land = list(filter(lambda y:'land' in y,countries))\n",
    "print(f'Countries with land in their name:\\n\\n{contains_land}')"
   ]
  },
  {
   "attachments": {},
   "cell_type": "markdown",
   "metadata": {},
   "source": [
    "Exercise num5"
   ]
  },
  {
   "cell_type": "code",
   "execution_count": 9,
   "metadata": {},
   "outputs": [
    {
     "name": "stdout",
     "output_type": "stream",
     "text": [
      "Countries with six characters:\n",
      "\n",
      "['Sweden', 'Norway'] \n"
     ]
    }
   ],
   "source": [
    "_6chars = list(filter(lambda y:len(y)==6, countries))\n",
    "print(f'Countries with six characters:\\n\\n{_6chars} ')"
   ]
  },
  {
   "cell_type": "markdown",
   "metadata": {},
   "source": [
    "Exercise num6"
   ]
  },
  {
   "cell_type": "code",
   "execution_count": 10,
   "metadata": {},
   "outputs": [
    {
     "name": "stdout",
     "output_type": "stream",
     "text": [
      "Countries with six characters & more:['Estonia', 'Finland', 'Sweden', 'Denmark', 'Norway', 'Iceland']\n",
      "\n"
     ]
    }
   ],
   "source": [
    "def _6chars_more(y):\n",
    "    return len(y) >=6\n",
    "_6chars_nd_more = list(filter(_6chars_more, countries))\n",
    "print(f'Countries with six characters & more:{_6chars_nd_more}\\n') "
   ]
  },
  {
   "attachments": {},
   "cell_type": "markdown",
   "metadata": {},
   "source": [
    "Exercise num7 \n",
    "countries starting with an 'E'"
   ]
  },
  {
   "cell_type": "code",
   "execution_count": 11,
   "metadata": {},
   "outputs": [
    {
     "name": "stdout",
     "output_type": "stream",
     "text": [
      " Countries starting with E in the list are: ['Estonia']\n"
     ]
    }
   ],
   "source": [
    "def start_with_E(x):\n",
    "    return x.startswith('E')\n",
    "  \n",
    "start_with_E = list(filter(start_with_E, countries))\n",
    "print(f' Countries starting with E in the list are: {start_with_E}')"
   ]
  },
  {
   "attachments": {},
   "cell_type": "markdown",
   "metadata": {},
   "source": [
    "Exercise num8"
   ]
  },
  {
   "cell_type": "code",
   "execution_count": 12,
   "metadata": {},
   "outputs": [
    {
     "name": "stdout",
     "output_type": "stream",
     "text": [
      " Sum of squared even numbers:  264\n"
     ]
    }
   ],
   "source": [
    "from functools import reduce\n",
    "\n",
    "numberss = [3, 5, 8, 2, 14]\n",
    "sum_squared_even_numbers = reduce(lambda a, b: a + b, list(filter(lambda a: a % 2 == 0,\n",
    "                                \t\t\t\t\t\t\t\tmap(lambda a: a*a, numberss))))\n",
    "print(f' Sum of squared even numbers:  {sum_squared_even_numbers}')"
   ]
  },
  {
   "attachments": {},
   "cell_type": "markdown",
   "metadata": {},
   "source": [
    "Exercise num9"
   ]
  },
  {
   "cell_type": "code",
   "execution_count": 13,
   "metadata": {},
   "outputs": [
    {
     "name": "stdout",
     "output_type": "stream",
     "text": [
      "['1', '2', '3', '4', '5', '6', '7', '8', '9', '10']\n"
     ]
    }
   ],
   "source": [
    "def get_string_lists(list):\n",
    "   return [str(item) for item in list]\n",
    "        \n",
    "\n",
    "str_nums =(get_string_lists(numbers))\n",
    "print(str_nums)\n",
    "\n",
    "#return [str(item) for item in list]"
   ]
  },
  {
   "attachments": {},
   "cell_type": "markdown",
   "metadata": {},
   "source": [
    "Exercise num10"
   ]
  },
  {
   "cell_type": "code",
   "execution_count": 14,
   "metadata": {},
   "outputs": [
    {
     "name": "stdout",
     "output_type": "stream",
     "text": [
      "The sum of [1, 2, 3, 4, 5, 6, 7, 8, 9, 10] is =  55\n"
     ]
    }
   ],
   "source": [
    "from functools import reduce\n",
    "def add(x,y):\n",
    "    return x + y\n",
    "sum_all = reduce(add,numbers)\n",
    "print(f'The sum of {numbers} is =  {sum_all}')"
   ]
  },
  {
   "attachments": {},
   "cell_type": "markdown",
   "metadata": {},
   "source": [
    "Exercise num11"
   ]
  },
  {
   "cell_type": "code",
   "execution_count": 15,
   "metadata": {},
   "outputs": [
    {
     "name": "stdout",
     "output_type": "stream",
     "text": [
      "Estonia, Finland, Sweden, Denmark, Norway and Iceland are North European countries \n"
     ]
    }
   ],
   "source": [
    "c = ','\n",
    "sp = ' '\n",
    "concat = reduce(lambda a,b:a + c + sp + b,countries[:-1])\n",
    "print(f'{concat} and {countries[-1]} are North European countries ')"
   ]
  },
  {
   "attachments": {},
   "cell_type": "markdown",
   "metadata": {},
   "source": [
    "Exercise num12"
   ]
  },
  {
   "cell_type": "code",
   "execution_count": 16,
   "metadata": {},
   "outputs": [],
   "source": [
    "countries = [\n",
    "  'Afghanistan',\n",
    "  'Albania',\n",
    "  'Algeria',\n",
    "  'Andorra',\n",
    "  'Angola',\n",
    "  'Antigua and Barbuda',\n",
    "  'Argentina',\n",
    "  'Armenia',\n",
    "  'Australia',\n",
    "  'Austria',\n",
    "  'Azerbaijan',\n",
    "  'Bahamas',\n",
    "  'Bahrain',\n",
    "  'Bangladesh',\n",
    "  'Barbados',\n",
    "  'Belarus',\n",
    "  'Belgium',\n",
    "  'Belize',\n",
    "  'Benin',\n",
    "  'Bhutan',\n",
    "  'Bolivia',\n",
    "  'Bosnia and Herzegovina',\n",
    "  'Botswana',\n",
    "  'Brazil',\n",
    "  'Brunei',\n",
    "  'Bulgaria',\n",
    "  'Burkina Faso',\n",
    "  'Burundi',\n",
    "  'Cambodia',\n",
    "  'Cameroon',\n",
    "  'Canada',\n",
    "  'Cape Verde',\n",
    "  'Central African Republic',\n",
    "  'Chad',\n",
    "  'Chile',\n",
    "  'China',\n",
    "  'Colombi',\n",
    "  'Comoros',\n",
    "  'Congo (Brazzaville)',\n",
    "  'Congo',\n",
    "  'Costa Rica',\n",
    "  \"Cote d'Ivoire\",\n",
    "  'Croatia',\n",
    "  'Cuba',\n",
    "  'Cyprus',\n",
    "  'Czech Republic',\n",
    "  'Denmark',\n",
    "  'Djibouti',\n",
    "  'Dominica',\n",
    "  'Dominican Republic',\n",
    "  'East Timor (Timor Timur)',\n",
    "  'Ecuador',\n",
    "  'Egypt',\n",
    "  'El Salvador',\n",
    "  'Equatorial Guinea',\n",
    "  'Eritrea',\n",
    "  'Estonia',\n",
    "  'Ethiopia',\n",
    "  'Fiji',\n",
    "  'Finland',\n",
    "  'France',\n",
    "  'Gabon',\n",
    "  'Gambia, The',\n",
    "  'Georgia',\n",
    "  'Germany',\n",
    "  'Ghana',\n",
    "  'Greece',\n",
    "  'Grenada',\n",
    "  'Guatemala',\n",
    "  'Guinea',\n",
    "  'Guinea-Bissau',\n",
    "  'Guyana',\n",
    "  'Haiti',\n",
    "  'Honduras',\n",
    "  'Hungary',\n",
    "  'Iceland',\n",
    "  'India',\n",
    "  'Indonesia',\n",
    "  'Iran',\n",
    "  'Iraq',\n",
    "  'Ireland',\n",
    "  'Israel',\n",
    "  'Italy',\n",
    "  'Jamaica',\n",
    "  'Japan',\n",
    "  'Jordan',\n",
    "  'Kazakhstan',\n",
    "  'Kenya',\n",
    "  'Kiribati',\n",
    "  'Korea, North',\n",
    "  'Korea, South',\n",
    "  'Kuwait',\n",
    "  'Kyrgyzstan',\n",
    "  'Laos',\n",
    "  'Latvia',\n",
    "  'Lebanon',\n",
    "  'Lesotho',\n",
    "  'Liberia',\n",
    "  'Libya',\n",
    "  'Liechtenstein',\n",
    "  'Lithuania',\n",
    "  'Luxembourg',\n",
    "  'Macedonia',\n",
    "  'Madagascar',\n",
    "  'Malawi',\n",
    "  'Malaysia',\n",
    "  'Maldives',\n",
    "  'Mali',\n",
    "  'Malta',\n",
    "  'Marshall Islands',\n",
    "  'Mauritania',\n",
    "  'Mauritius',\n",
    "  'Mexico',\n",
    "  'Micronesia',\n",
    "  'Moldova',\n",
    "  'Monaco',\n",
    "  'Mongolia',\n",
    "  'Morocco',\n",
    "  'Mozambique',\n",
    "  'Myanmar',\n",
    "  'Namibia',\n",
    "  'Nauru',\n",
    "  'Nepal',\n",
    "  'Netherlands',\n",
    "  'New Zealand',\n",
    "  'Nicaragua',\n",
    "  'Niger',\n",
    "  'Nigeria',\n",
    "  'Norway',\n",
    "  'Oman',\n",
    "  'Pakistan',\n",
    "  'Palau',\n",
    "  'Panama',\n",
    "  'Papua New Guinea',\n",
    "  'Paraguay',\n",
    "  'Peru',\n",
    "  'Philippines',\n",
    "  'Poland',\n",
    "  'Portugal',\n",
    "  'Qatar',\n",
    "  'Romania',\n",
    "  'Russia',\n",
    "  'Rwanda',\n",
    "  'Saint Kitts and Nevis',\n",
    "  'Saint Lucia',\n",
    "  'Saint Vincent',\n",
    "  'Samoa',\n",
    "  'San Marino',\n",
    "  'Sao Tome and Principe',\n",
    "  'Saudi Arabia',\n",
    "  'Senegal',\n",
    "  'Serbia and Montenegro',\n",
    "  'Seychelles',\n",
    "  'Sierra Leone',\n",
    "  'Singapore',\n",
    "  'Slovakia',\n",
    "  'Slovenia',\n",
    "  'Solomon Islands',\n",
    "  'Somalia',\n",
    "  'South Africa',\n",
    "  'Spain',\n",
    "  'Sri Lanka',\n",
    "  'Sudan',\n",
    "  'Suriname',\n",
    "  'Swaziland',\n",
    "  'Sweden',\n",
    "  'Switzerland',\n",
    "  'Syria',\n",
    "  'Taiwan',\n",
    "  'Tajikistan',\n",
    "  'Tanzania',\n",
    "  'Thailand',\n",
    "  'Togo',\n",
    "  'Tonga',\n",
    "  'Trinidad and Tobago',\n",
    "  'Tunisia',\n",
    "  'Turkey',\n",
    "  'Turkmenistan',\n",
    "  'Tuvalu',\n",
    "  'Uganda',\n",
    "  'Ukraine',\n",
    "  'United Arab Emirates',\n",
    "  'United Kingdom',\n",
    "  'United States',\n",
    "  'Uruguay',\n",
    "  'Uzbekistan',\n",
    "  'Vanuatu',\n",
    "  'Vatican City',\n",
    "  'Venezuela',\n",
    "  'Vietnam',\n",
    "  'Yemen',\n",
    "  'Zambia',\n",
    "  'Zimbabwe',\n",
    "]"
   ]
  },
  {
   "cell_type": "code",
   "execution_count": 17,
   "metadata": {},
   "outputs": [
    {
     "name": "stdout",
     "output_type": "stream",
     "text": [
      "Countries with \"pattern\": \n",
      " ['Afghanistan', 'Kazakhstan', 'Kyrgyzstan', 'Pakistan', 'Tajikistan', 'Turkmenistan', 'Uzbekistan']\n",
      "\n",
      "Countries with \"pattern\":\n",
      " ['Albania', 'Algeria', 'Armenia', 'Australia', 'Austria', 'Bolivia', 'Bosnia and Herzegovina', 'Bulgaria', 'Cambodia', 'Croatia', 'Equatorial Guinea', 'Estonia', 'Ethiopia', 'Gambia, The', 'Georgia', 'India', 'Indonesia', 'Latvia', 'Liberia', 'Lithuania', 'Macedonia', 'Malaysia', 'Mauritania', 'Micronesia', 'Mongolia', 'Namibia', 'Nigeria', 'Romania', 'Russia', 'Saint Lucia', 'Saudi Arabia', 'Serbia and Montenegro', 'Slovakia', 'Slovenia', 'Somalia', 'Syria', 'Tanzania', 'Tunisia', 'Zambia']\n",
      "\n",
      "Countries with \"pattern\":\n",
      " ['Finland', 'Iceland', 'Ireland', 'Marshall Islands', 'Netherlands', 'New Zealand', 'Poland', 'Solomon Islands', 'Swaziland', 'Switzerland', 'Thailand']\n"
     ]
    }
   ],
   "source": [
    "def categorize_countries(pattern):\n",
    "    lst_countries = []\n",
    "    for country in countries:\n",
    "        if pattern.lower() in country:\n",
    "            lst_countries.append(country)\n",
    "           \n",
    "    return lst_countries\n",
    "\n",
    "print(f'Countries with \"pattern\": \\n',(categorize_countries('stan')))\n",
    "print(f'\\nCountries with \"pattern\":\\n',(categorize_countries('ia')))\n",
    "print(f'\\nCountries with \"pattern\":\\n',(categorize_countries('land')))"
   ]
  },
  {
   "attachments": {},
   "cell_type": "markdown",
   "metadata": {},
   "source": [
    "Exercise num13"
   ]
  },
  {
   "cell_type": "code",
   "execution_count": 18,
   "metadata": {},
   "outputs": [
    {
     "name": "stdout",
     "output_type": "stream",
     "text": [
      " Dictionary of number of countries per letter: {'A': 11, 'B': 17, 'C': 18, 'D': 4, 'E': 8, 'F': 3, 'G': 11, 'H': 3, 'I': 8, 'J': 3, 'K': 7, 'L': 9, 'M': 18, 'N': 9, 'O': 1, 'P': 9, 'Q': 1, 'R': 3, 'S': 25, 'T': 11, 'U': 7, 'V': 4, 'Y': 1, 'Z': 2}\n"
     ]
    }
   ],
   "source": [
    "def countries_dict():\n",
    "    dict_countries = {}\n",
    "    for country in countries:\n",
    "        dict_countries[country[0]] = dict_countries.get(country[0],0) + 1\n",
    "    return dict_countries\n",
    "print(f' Dictionary of number of countries per letter: {countries_dict()}')"
   ]
  },
  {
   "attachments": {},
   "cell_type": "markdown",
   "metadata": {},
   "source": [
    "Exercise num14"
   ]
  },
  {
   "cell_type": "code",
   "execution_count": 19,
   "metadata": {},
   "outputs": [
    {
     "name": "stdout",
     "output_type": "stream",
     "text": [
      " First 10 countries in the countries list:\n",
      "['Afghanistan', 'Albania', 'Algeria', 'Andorra', 'Angola', 'Antigua and Barbuda', 'Argentina', 'Armenia', 'Australia', 'Austria']\n"
     ]
    }
   ],
   "source": [
    "def get_first_ten_countries():\n",
    "    return countries[:10]\n",
    "\n",
    "print(f' First 10 countries in the countries list:\\n{get_first_ten_countries()}')"
   ]
  },
  {
   "attachments": {},
   "cell_type": "markdown",
   "metadata": {},
   "source": [
    "Exercise num15"
   ]
  },
  {
   "cell_type": "code",
   "execution_count": 20,
   "metadata": {},
   "outputs": [
    {
     "name": "stdout",
     "output_type": "stream",
     "text": [
      "The last 10 countries in the countries list:\n",
      "['United States', 'Uruguay', 'Uzbekistan', 'Vanuatu', 'Vatican City', 'Venezuela', 'Vietnam', 'Yemen', 'Zambia', 'Zimbabwe']\n"
     ]
    }
   ],
   "source": [
    "def get_last_ten_countries():\n",
    "    return countries[-10:]\n",
    "\n",
    "print(f'The last 10 countries in the countries list:\\n{get_last_ten_countries()}')"
   ]
  },
  {
   "attachments": {},
   "cell_type": "markdown",
   "metadata": {},
   "source": [
    "EXERCISE LEVEL 3\n",
    "Exercise num1, (i),(ii),(iii)"
   ]
  },
  {
   "cell_type": "code",
   "execution_count": 21,
   "metadata": {},
   "outputs": [
    {
     "data": {
      "text/plain": [
       "['China',\n",
       " 'India',\n",
       " 'United States of America',\n",
       " 'Indonesia',\n",
       " 'Brazil',\n",
       " 'Pakistan',\n",
       " 'Nigeria',\n",
       " 'Bangladesh',\n",
       " 'Russian Federation',\n",
       " 'Japan']"
      ]
     },
     "execution_count": 21,
     "metadata": {},
     "output_type": "execute_result"
    }
   ],
   "source": [
    "from country_data import countries_data\n",
    "# by name, capital and population\n",
    "\n",
    "# by name\n",
    "sorted_list_name = sorted(countries_data,key=lambda c: c['name'])\n",
    "sorted_list_name[-11:] # checking a subset as the list is too large\n",
    "\n",
    "# by capital\n",
    "sorted_list_cap = sorted(countries_data,key=lambda c:c['capital'])\n",
    "sorted_list_cap[-5:]  # checking subset\n",
    "\n",
    "# by population\n",
    "sorted_list_pop = sorted(countries_data,key=lambda c:c['population'])\n",
    "sorted_list_pop[-5:]\n",
    "\n",
    "\n",
    "lang_dict = dict()\n",
    "for i in range(len(countries_data)):\n",
    "    for language in countries_data[i]['languages']:\n",
    "        lang_dict[language] = lang_dict.get(language,0) + 1\n",
    "lang_tpl = sorted(lang_dict.items(),key= lambda y:y[1],reverse=True)\n",
    "lang_tpl[:10]\n",
    "\n",
    "# ten most populated countries = sorted_list_pop in descending order, getting a new list\n",
    "pop = sorted(countries_data,key= lambda c:c['population'],reverse=True)\n",
    "top_ten =  pop[:10]\n",
    "top_ten\n",
    "\n",
    "# getting the countries from the top ten\n",
    "top_pop_countries = []\n",
    "for i in range(len(top_ten)):\n",
    "    top_pop_countries.append(top_ten[i]['name'])\n",
    "top_pop_countries"
   ]
  }
 ],
 "metadata": {
  "kernelspec": {
   "display_name": "Python 3",
   "language": "python",
   "name": "python3"
  },
  "language_info": {
   "codemirror_mode": {
    "name": "ipython",
    "version": 3
   },
   "file_extension": ".py",
   "mimetype": "text/x-python",
   "name": "python",
   "nbconvert_exporter": "python",
   "pygments_lexer": "ipython3",
   "version": "3.11.5"
  },
  "orig_nbformat": 4,
  "vscode": {
   "interpreter": {
    "hash": "2f1a2eacb683bb06bd5c158a4e3bf200b129d414ee0e1c88e9c74e55ea9e8d37"
   }
  }
 },
 "nbformat": 4,
 "nbformat_minor": 2
}
