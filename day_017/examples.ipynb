{
 "cells": [
  {
   "cell_type": "code",
   "execution_count": 1,
   "metadata": {},
   "outputs": [
    {
     "name": "stdout",
     "output_type": "stream",
     "text": [
      "Something went wrong\n"
     ]
    }
   ],
   "source": [
    "try:\n",
    "    print(10 + '7')\n",
    "except:\n",
    "    print('Something went wrong')"
   ]
  },
  {
   "cell_type": "code",
   "execution_count": 2,
   "metadata": {},
   "outputs": [
    {
     "name": "stdout",
     "output_type": "stream",
     "text": [
      "Something went wrong\n"
     ]
    }
   ],
   "source": [
    "try:\n",
    "    name = input('Enter your name: ')\n",
    "    year_born = input('Year you were born: ')\n",
    "    age = 2023 - year_born\n",
    "    print(f'you are {name}. And your age is {age}.')\n",
    "except:\n",
    "    print('Something went wrong')"
   ]
  },
  {
   "cell_type": "code",
   "execution_count": 4,
   "metadata": {},
   "outputs": [
    {
     "name": "stdout",
     "output_type": "stream",
     "text": [
      "Type error occured\n"
     ]
    }
   ],
   "source": [
    "try:\n",
    "    name = input('Enter your name: ')\n",
    "    year_born = input('Year you were born: ')\n",
    "    age = 2023 - year_born\n",
    "    print(f'You are {name}. And your age is {age}.')\n",
    "except TypeError:\n",
    "    print('Type error occured')\n",
    "except ValueError:\n",
    "    print('Value error occured')\n",
    "except NameError:\n",
    "    print('Name error occured')\n",
    "except ZeroDivisionError:\n",
    "    print('Zero division error occured')\n",
    "else:\n",
    "    print('Something went wrong')"
   ]
  },
  {
   "cell_type": "code",
   "execution_count": 6,
   "metadata": {},
   "outputs": [
    {
     "name": "stdout",
     "output_type": "stream",
     "text": [
      "You are Al'amin Nababa. And your age is 20.\n",
      "I usually wrong with the try block\n",
      "I always run thanks.\n"
     ]
    }
   ],
   "source": [
    "try:\n",
    "    name = input('Enter your name: ')\n",
    "    year_born = input('Year you were born: ')\n",
    "    age = 2023 - int(year_born)\n",
    "    print(f'You are {name}. And your age is {age}.')\n",
    "except TypeError:\n",
    "    print('Type error occured')\n",
    "except ValueError:\n",
    "    print('Value error occured')\n",
    "except NameError:\n",
    "    print('Name error occured')\n",
    "except ZeroDivisionError:\n",
    "    print('Zero division error occured')\n",
    "else:\n",
    "    print('I usually wrong with the try block')\n",
    "finally:\n",
    "    print('I always run thanks.')"
   ]
  },
  {
   "cell_type": "code",
   "execution_count": 10,
   "metadata": {},
   "outputs": [
    {
     "name": "stdout",
     "output_type": "stream",
     "text": [
      "You are Al'amin H Nababa. And your age is 20.\n"
     ]
    }
   ],
   "source": [
    "try:\n",
    "    name = input('Enter your name:')\n",
    "    year_born = input('Year you born:')\n",
    "    age = 2023 - int(year_born)\n",
    "    print(f'You are {name}. And your age is {age}.')\n",
    "except Exception as e:\n",
    "    print('something went wrong: ',e)"
   ]
  },
  {
   "cell_type": "code",
   "execution_count": 11,
   "metadata": {},
   "outputs": [
    {
     "ename": "TypeError",
     "evalue": "sum_of_five_nums() missing 4 required positional arguments: 'b', 'c', 'd', and 'e'",
     "output_type": "error",
     "traceback": [
      "\u001b[1;31m---------------------------------------------------------------------------\u001b[0m",
      "\u001b[1;31mTypeError\u001b[0m                                 Traceback (most recent call last)",
      "\u001b[1;32mc:\\Users\\USER\\Documents\\GitHub\\AREWADS-30DAYS0F-PYTHON\\day_017\\examples.ipynb Cell 6\u001b[0m line \u001b[0;36m5\n\u001b[0;32m      <a href='vscode-notebook-cell:/c%3A/Users/USER/Documents/GitHub/AREWADS-30DAYS0F-PYTHON/day_017/examples.ipynb#W5sZmlsZQ%3D%3D?line=1'>2</a>\u001b[0m     \u001b[39mreturn\u001b[39;00m a \u001b[39m+\u001b[39m b \u001b[39m+\u001b[39m c \u001b[39m+\u001b[39m d \u001b[39m+\u001b[39m e\n\u001b[0;32m      <a href='vscode-notebook-cell:/c%3A/Users/USER/Documents/GitHub/AREWADS-30DAYS0F-PYTHON/day_017/examples.ipynb#W5sZmlsZQ%3D%3D?line=3'>4</a>\u001b[0m lst \u001b[39m=\u001b[39m [\u001b[39m1\u001b[39m, \u001b[39m2\u001b[39m, \u001b[39m3\u001b[39m, \u001b[39m4\u001b[39m, \u001b[39m5\u001b[39m]\n\u001b[1;32m----> <a href='vscode-notebook-cell:/c%3A/Users/USER/Documents/GitHub/AREWADS-30DAYS0F-PYTHON/day_017/examples.ipynb#W5sZmlsZQ%3D%3D?line=4'>5</a>\u001b[0m \u001b[39mprint\u001b[39m(sum_of_five_nums(lst)) \u001b[39m# TypeError: sum_of_five_nums() missing 4 required positional arguments: 'b', 'c', 'd', and 'e'\u001b[39;00m\n",
      "\u001b[1;31mTypeError\u001b[0m: sum_of_five_nums() missing 4 required positional arguments: 'b', 'c', 'd', and 'e'"
     ]
    }
   ],
   "source": [
    "def sum_of_five_nums(a, b, c, d, e):\n",
    "    return a + b + c + d + e\n",
    "\n",
    "lst = [1, 2, 3, 4, 5]\n",
    "print(sum_of_five_nums(lst)) # TypeError: sum_of_five_nums() missing 4 required positional arguments: 'b', 'c', 'd', and 'e'"
   ]
  },
  {
   "cell_type": "code",
   "execution_count": 12,
   "metadata": {},
   "outputs": [
    {
     "name": "stdout",
     "output_type": "stream",
     "text": [
      "15\n"
     ]
    }
   ],
   "source": [
    "def sum_of_five_nums(a, b, c, d, e):\n",
    "    return a + b + c + d + e\n",
    "\n",
    "lst = [1, 2, 3, 4, 5]\n",
    "print(sum_of_five_nums(*lst))  # 15"
   ]
  },
  {
   "cell_type": "code",
   "execution_count": 13,
   "metadata": {},
   "outputs": [
    {
     "name": "stdout",
     "output_type": "stream",
     "text": [
      "[2, 3, 4, 5, 6]\n",
      "range(2, 7)\n"
     ]
    }
   ],
   "source": [
    "numbers = range(2, 7)  # normal call with separate arguments\n",
    "print(list(numbers)) # [2, 3, 4, 5, 6]\n",
    "args = [2, 7]\n",
    "numbers = range(*args)  # call with arguments unpacked from a list\n",
    "print(numbers)      # [2, 3, 4, 5,6]"
   ]
  },
  {
   "cell_type": "code",
   "execution_count": null,
   "metadata": {},
   "outputs": [],
   "source": []
  }
 ],
 "metadata": {
  "kernelspec": {
   "display_name": "Python 3",
   "language": "python",
   "name": "python3"
  },
  "language_info": {
   "codemirror_mode": {
    "name": "ipython",
    "version": 3
   },
   "file_extension": ".py",
   "mimetype": "text/x-python",
   "name": "python",
   "nbconvert_exporter": "python",
   "pygments_lexer": "ipython3",
   "version": "3.11.5"
  }
 },
 "nbformat": 4,
 "nbformat_minor": 2
}
