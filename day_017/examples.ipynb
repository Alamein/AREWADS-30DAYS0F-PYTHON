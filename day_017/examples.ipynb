{
 "cells": [
  {
   "cell_type": "code",
   "execution_count": null,
   "metadata": {},
   "outputs": [],
   "source": [
    "try:\n",
    "    print(10 + '5')\n",
    "except:\n",
    "    print('Something went wrong')\n",
    "\n",
    "\n",
    "try:\n",
    "    print(10 + '7')\n",
    "except:\n",
    "    print('Something went wrong')"
   ]
  }
 ],
 "metadata": {
  "language_info": {
   "name": "python"
  }
 },
 "nbformat": 4,
 "nbformat_minor": 2
}
