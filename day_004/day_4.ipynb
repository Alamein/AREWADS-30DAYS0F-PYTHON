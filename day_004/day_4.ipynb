{
 "cells": [
  {
   "cell_type": "code",
   "execution_count": 7,
   "metadata": {},
   "outputs": [
    {
     "name": "stdout",
     "output_type": "stream",
     "text": [
      "Thirty Days of Python\n"
     ]
    }
   ],
   "source": [
    "a = 'Thirty '\n",
    "b= 'Days '\n",
    "c = 'of '\n",
    "d = 'Python'\n",
    "\n",
    "full = a + b + c + d\n",
    "print(full)"
   ]
  },
  {
   "cell_type": "code",
   "execution_count": 8,
   "metadata": {},
   "outputs": [
    {
     "name": "stdout",
     "output_type": "stream",
     "text": [
      "Coding for All\n"
     ]
    }
   ],
   "source": [
    "cd = 'Coding '\n",
    "fr = 'for '\n",
    "al = 'All'\n",
    "cd_fr_al = cd + fr + al\n",
    "print(cd_fr_al)"
   ]
  },
  {
   "cell_type": "code",
   "execution_count": 9,
   "metadata": {},
   "outputs": [
    {
     "name": "stdout",
     "output_type": "stream",
     "text": [
      "Coding for All\n",
      "14\n",
      "CODING FOR ALL\n",
      "coding for all\n",
      "Coding for all Coding For All cODING FOR aLL\n",
      "oding for All\n",
      "0\n",
      "Python for All\n"
     ]
    }
   ],
   "source": [
    "vrbl_for_nm = cd_fr_al\n",
    "print(vrbl_for_nm)\n",
    "print(len(vrbl_for_nm))\n",
    "print(vrbl_for_nm.upper())\n",
    "print(vrbl_for_nm.lower())\n",
    "print(vrbl_for_nm.capitalize(), vrbl_for_nm.title(), vrbl_for_nm.swapcase())\n",
    "print(vrbl_for_nm[1:])\n",
    "print(vrbl_for_nm.index('Coding'))\n",
    "print(vrbl_for_nm.replace('Coding', 'Python'))"
   ]
  },
  {
   "cell_type": "code",
   "execution_count": 11,
   "metadata": {},
   "outputs": [
    {
     "name": "stdout",
     "output_type": "stream",
     "text": [
      "Python For Everyone Python For All\n",
      "\n",
      "['Coding', 'for', 'All']\n"
     ]
    }
   ],
   "source": [
    "# replacing python for everyone to python for all\n",
    "pyth_fr_ev = 'Python For Everyone'\n",
    "print(pyth_fr_ev, pyth_fr_ev.replace('Everyone', 'All'))\n",
    "print()\n",
    "# spliting the sentence coding for all\n",
    "print(cd_fr_al.split( ))"
   ]
  },
  {
   "cell_type": "code",
   "execution_count": 12,
   "metadata": {},
   "outputs": [
    {
     "name": "stdout",
     "output_type": "stream",
     "text": [
      "['Facecook', 'Google', 'Microsoft', 'Apple', 'IBM', 'Oracle', 'Amazon']\n"
     ]
    }
   ],
   "source": [
    "# long string split\n",
    "F,G,M,A,I,O,Am = 'Facecook', ' Google', ' Microsoft', ' Apple', ' IBM', ' Oracle', ' Amazon'\n",
    "full_com = F+G+M+A+I+O+Am\n",
    "print(full_com.split( ))"
   ]
  },
  {
   "cell_type": "code",
   "execution_count": 14,
   "metadata": {},
   "outputs": [
    {
     "name": "stdout",
     "output_type": "stream",
     "text": [
      "The character at index 0 in the Coding For All is: C\n",
      "The last index of the string Coding For All is:  l\n",
      "11\n",
      "A\n"
     ]
    }
   ],
   "source": [
    "# showing the character on 0 in coding for all\n",
    "print('The character at index 0 in the Coding For All is:', vrbl_for_nm[0])\n",
    "print('The last index of the string Coding For All is: ', cd_fr_al[-1])\n",
    "print(cd_fr_al.index(al))\n",
    "print(cd_fr_al[11])"
   ]
  }
 ],
 "metadata": {
  "kernelspec": {
   "display_name": "Python 3",
   "language": "python",
   "name": "python3"
  },
  "language_info": {
   "codemirror_mode": {
    "name": "ipython",
    "version": 3
   },
   "file_extension": ".py",
   "mimetype": "text/x-python",
   "name": "python",
   "nbconvert_exporter": "python",
   "pygments_lexer": "ipython3",
   "version": "3.11.5"
  },
  "orig_nbformat": 4
 },
 "nbformat": 4,
 "nbformat_minor": 2
}
