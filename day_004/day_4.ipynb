{
 "cells": [
  {
   "cell_type": "code",
   "execution_count": 7,
   "metadata": {},
   "outputs": [
    {
     "name": "stdout",
     "output_type": "stream",
     "text": [
      "Thirty Days of Python\n"
     ]
    }
   ],
   "source": [
    "a = 'Thirty '\n",
    "b= 'Days '\n",
    "c = 'of '\n",
    "d = 'Python'\n",
    "\n",
    "full = a + b + c + d\n",
    "print(full)"
   ]
  },
  {
   "cell_type": "code",
   "execution_count": 8,
   "metadata": {},
   "outputs": [
    {
     "name": "stdout",
     "output_type": "stream",
     "text": [
      "Coding for All\n"
     ]
    }
   ],
   "source": [
    "cd = 'Coding '\n",
    "fr = 'for '\n",
    "al = 'All'\n",
    "cd_fr_al = cd + fr + al\n",
    "print(cd_fr_al)"
   ]
  },
  {
   "cell_type": "code",
   "execution_count": 9,
   "metadata": {},
   "outputs": [
    {
     "name": "stdout",
     "output_type": "stream",
     "text": [
      "Coding for All\n",
      "14\n",
      "CODING FOR ALL\n",
      "coding for all\n",
      "Coding for all Coding For All cODING FOR aLL\n",
      "oding for All\n",
      "0\n",
      "Python for All\n"
     ]
    }
   ],
   "source": [
    "vrbl_for_nm = cd_fr_al\n",
    "print(vrbl_for_nm)\n",
    "print(len(vrbl_for_nm))\n",
    "print(vrbl_for_nm.upper())\n",
    "print(vrbl_for_nm.lower())\n",
    "print(vrbl_for_nm.capitalize(), vrbl_for_nm.title(), vrbl_for_nm.swapcase())\n",
    "print(vrbl_for_nm[1:])\n",
    "print(vrbl_for_nm.index('Coding'))\n",
    "print(vrbl_for_nm.replace('Coding', 'Python'))"
   ]
  },
  {
   "cell_type": "code",
   "execution_count": 11,
   "metadata": {},
   "outputs": [
    {
     "name": "stdout",
     "output_type": "stream",
     "text": [
      "Python For Everyone Python For All\n",
      "\n",
      "['Coding', 'for', 'All']\n"
     ]
    }
   ],
   "source": [
    "# replacing python for everyone to python for all\n",
    "pyth_fr_ev = 'Python For Everyone'\n",
    "print(pyth_fr_ev, pyth_fr_ev.replace('Everyone', 'All'))\n",
    "print()\n",
    "# spliting the sentence coding for all\n",
    "print(cd_fr_al.split( ))"
   ]
  },
  {
   "cell_type": "code",
   "execution_count": 12,
   "metadata": {},
   "outputs": [
    {
     "name": "stdout",
     "output_type": "stream",
     "text": [
      "['Facecook', 'Google', 'Microsoft', 'Apple', 'IBM', 'Oracle', 'Amazon']\n"
     ]
    }
   ],
   "source": [
    "# long string split\n",
    "F,G,M,A,I,O,Am = 'Facecook', ' Google', ' Microsoft', ' Apple', ' IBM', ' Oracle', ' Amazon'\n",
    "full_com = F+G+M+A+I+O+Am\n",
    "print(full_com.split( ))"
   ]
  },
  {
   "cell_type": "code",
   "execution_count": 14,
   "metadata": {},
   "outputs": [
    {
     "name": "stdout",
     "output_type": "stream",
     "text": [
      "The character at index 0 in the Coding For All is: C\n",
      "The last index of the string Coding For All is:  l\n",
      "11\n",
      "A\n"
     ]
    }
   ],
   "source": [
    "# showing the character on 0 in coding for all\n",
    "print('The character at index 0 in the Coding For All is:', vrbl_for_nm[0])\n",
    "print('The last index of the string Coding For All is: ', cd_fr_al[-1])\n",
    "print(cd_fr_al.index(al))\n",
    "print(cd_fr_al[11])"
   ]
  },
  {
   "cell_type": "code",
   "execution_count": 24,
   "metadata": {},
   "outputs": [
    {
     "name": "stdout",
     "output_type": "stream",
     "text": [
      "31\n",
      "47\n",
      "because because because \n"
     ]
    }
   ],
   "source": [
    "long_sntnc = '''You cannot end a sentence with because because because is a conjunction'''\n",
    "print(long_sntnc.index('because'))\n",
    "print(long_sntnc.rindex('because'))\n",
    "print(long_sntnc[31:55])"
   ]
  },
  {
   "cell_type": "code",
   "execution_count": 25,
   "metadata": {},
   "outputs": [
    {
     "name": "stdout",
     "output_type": "stream",
     "text": [
      "Does CFA starts with Coding:  True\n",
      "Does CFA ends with Coding:  False\n"
     ]
    }
   ],
   "source": [
    "# checking startswith\n",
    "print('Does CFA starts with Coding: ', vrbl_for_nm.startswith('Coding'))\n",
    "print('Does CFA ends with Coding: ', vrbl_for_nm.endswith('Coding'))"
   ]
  },
  {
   "cell_type": "code",
   "execution_count": 26,
   "metadata": {},
   "outputs": [
    {
     "name": "stdout",
     "output_type": "stream",
     "text": [
      "Coding For All\n",
      "30DaysOfPython is identifier:  False\n",
      "thirty_days_of_python is identifier:  True\n"
     ]
    }
   ],
   "source": [
    "rmv = '   Coding For All      '\n",
    "print(rmv[3:17])\n",
    "dift1 = '30DaysOfPython'\n",
    "dift2 = 'thirty_days_of_python'\n",
    "print('30DaysOfPython is identifier: ', dift1.isidentifier())\n",
    "print('thirty_days_of_python is identifier: ', dift2.isidentifier())"
   ]
  },
  {
   "cell_type": "code",
   "execution_count": 27,
   "metadata": {},
   "outputs": [
    {
     "name": "stdout",
     "output_type": "stream",
     "text": [
      "Django# Flask# Bottle# Pyramid# Falcon\n"
     ]
    }
   ],
   "source": [
    "# Libraries\n",
    "libraries = ['Django', 'Flask', 'Bottle', 'Pyramid', 'Falcon']\n",
    "result_of_libry = '# '.join(libraries)\n",
    "print(result_of_libry)"
   ]
  },
  {
   "cell_type": "code",
   "execution_count": 28,
   "metadata": {},
   "outputs": [
    {
     "name": "stdout",
     "output_type": "stream",
     "text": [
      "I am enjoying this challenge. \n",
      "I just wonder what is next.\n"
     ]
    }
   ],
   "source": [
    "# newline escape system\n",
    "newline_escape = 'I am enjoying this challenge. \\nI just wonder what is next.'\n",
    "print(newline_escape)"
   ]
  },
  {
   "cell_type": "code",
   "execution_count": 29,
   "metadata": {},
   "outputs": [
    {
     "name": "stdout",
     "output_type": "stream",
     "text": [
      "The area of a cycle with radius 10 is 314.0 meters square.\n"
     ]
    }
   ],
   "source": [
    "# string format system\n",
    "radius = 10\n",
    "area = 3.14 * radius ** 2\n",
    "print('The area of a cycle with radius {} is {} meters square.'.format(radius, area))"
   ]
  },
  {
   "cell_type": "code",
   "execution_count": 30,
   "metadata": {},
   "outputs": [
    {
     "name": "stdout",
     "output_type": "stream",
     "text": [
      "Python basics mathematics operations\n",
      "8 + 6 = 14\n",
      "8 - 6 = 2\n",
      "8 * 6 = 48\n",
      "8 / 6 = 1.33\n",
      " 8 % 6 = 2\n",
      "8 // 6 = 1\n",
      "8 **6 = 262144\n"
     ]
    }
   ],
   "source": [
    "a = 14\n",
    "ab = 2\n",
    "abb = 48\n",
    "abbb = 1.33\n",
    "abbbb = 2\n",
    "abbbbb = 1\n",
    "abbbbbb = 262144\n",
    "print('Python basics mathematics operations\\n8 + 6 = {}\\n8 - 6 = {}\\n8 * 6 = {}\\n8 / 6 = {}\\n 8 % 6 = {}\\n8 // 6 = {}\\n8 **6 = {}'.format(a, ab, abb, abbb, abbbb, abbbbb, abbbbbb))"
   ]
  }
 ],
 "metadata": {
  "kernelspec": {
   "display_name": "Python 3",
   "language": "python",
   "name": "python3"
  },
  "language_info": {
   "codemirror_mode": {
    "name": "ipython",
    "version": 3
   },
   "file_extension": ".py",
   "mimetype": "text/x-python",
   "name": "python",
   "nbconvert_exporter": "python",
   "pygments_lexer": "ipython3",
   "version": "3.11.5"
  },
  "orig_nbformat": 4
 },
 "nbformat": 4,
 "nbformat_minor": 2
}
