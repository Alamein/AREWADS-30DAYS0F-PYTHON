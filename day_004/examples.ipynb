{
 "cells": [
  {
   "cell_type": "code",
   "execution_count": 140,
   "metadata": {},
   "outputs": [
    {
     "name": "stdout",
     "output_type": "stream",
     "text": [
      "I hope everyone is enjoying the python challenge.\n",
      "Are you ?\n",
      "Days\tTopics\tExcercises\n",
      "Day1\t5\t5\n",
      "Day2\t6\t20\n",
      "Day3\t5\t23\n",
      "Day4\t1\t35\n",
      "This is a back slash symbol (\\)\n",
      "In every programming language it start with \"Hello World!\"\n"
     ]
    }
   ],
   "source": [
    "print('I hope everyone is enjoying the python challenge.\\nAre you ?') # newline\n",
    "print('Days\\tTopics\\tExcercises')\n",
    "print('Day1\\t5\\t5')\n",
    "print('Day2\\t6\\t20')\n",
    "print('Day3\\t5\\t23')\n",
    "print('Day4\\t1\\t35')\n",
    "print('This is a back slash symbol (\\\\)') # to add back slash\n",
    "print('In every programming language it start with \\\"Hello World!\\\"') # To add double quote in a single quote"
   ]
  },
  {
   "cell_type": "code",
   "execution_count": 141,
   "metadata": {},
   "outputs": [
    {
     "name": "stdout",
     "output_type": "stream",
     "text": [
      "My name is Al'amin Hamza Nababa. I am Data Scientist and Automotive Engineer \n"
     ]
    }
   ],
   "source": [
    "# old string formatting %%!\n",
    "# Only string\n",
    "\n",
    "first_name = 'Al\\'amin'\n",
    "scnd_name = 'Hamza'\n",
    "lst_name  = 'Nababa'\n",
    "skill = 'Data Scientist and Automotive Engineer'\n",
    "foramted_string = 'My name is %s %s %s. I am %s '%(first_name,scnd_name,lst_name,skill)\n",
    "print(foramted_string)"
   ]
  },
  {
   "cell_type": "code",
   "execution_count": 142,
   "metadata": {},
   "outputs": [
    {
     "name": "stdout",
     "output_type": "stream",
     "text": [
      "The area of cycle with radius 10cm is: 314.20\n"
     ]
    }
   ],
   "source": [
    "# string and Numbers\n",
    "radius = 10\n",
    "pi = 3.142\n",
    "area = pi * radius**2\n",
    "formated_strng = 'The area of cycle with radius %dcm is: %.2f' %(radius,area)\n",
    "print(formated_strng)"
   ]
  },
  {
   "cell_type": "code",
   "execution_count": 143,
   "metadata": {},
   "outputs": [
    {
     "name": "stdout",
     "output_type": "stream",
     "text": [
      "The following are Python libraries: ['Django', 'Flask', 'NumPy', 'Matplotlib', 'Pandas']\n"
     ]
    }
   ],
   "source": [
    "python_lbrs = ['Django', 'Flask', 'NumPy', 'Matplotlib','Pandas']\n",
    "formated_python_lbrs = 'The following are Python libraries: %s' %(python_lbrs)\n",
    "print(formated_python_lbrs)"
   ]
  },
  {
   "cell_type": "code",
   "execution_count": 144,
   "metadata": {},
   "outputs": [
    {
     "name": "stdout",
     "output_type": "stream",
     "text": [
      "My name is Aminu Hamza Nababa I am Data SCientist and Automotive Engineer\n"
     ]
    }
   ],
   "source": [
    "# New Style String Formatting (str.format)\n",
    "# This formatting is introduced in Python version 3.\n",
    "FNm = 'Aminu'\n",
    "snm = 'Hamza'\n",
    "lnm = 'Nababa'\n",
    "skl = 'Data SCientist and Automotive Engineer'\n",
    "frmtedstr = 'My name is {} {} {} I am {}'.format(FNm,snm,lnm,skl)\n",
    "print(frmtedstr)"
   ]
  },
  {
   "cell_type": "code",
   "execution_count": 145,
   "metadata": {},
   "outputs": [
    {
     "name": "stdout",
     "output_type": "stream",
     "text": [
      "8 + 3 = 11\n",
      "8 - 3 = 5\n",
      "8 * 3 = 24\n",
      "8 ** 3 = 512\n",
      "8 // 3 = 2\n",
      "8 % 3 = 2\n"
     ]
    }
   ],
   "source": [
    "# Let's try some mathematics\n",
    "a = 8\n",
    "b = 3\n",
    "print('{} + {} = {}'.format(a,b, a + b)) # addition\n",
    "print('{} - {} = {}'.format(a,b, a - b)) # Subtractio\n",
    "print('{} * {} = {}'.format(a,b, a * b)) # Multiplication\n",
    "print('{} ** {} = {}'.format(a,b, a ** b)) # Square\n",
    "print('{} // {} = {}'.format(a,b, a // b)) # Floor division\n",
    "print('{} % {} = {}'.format(a,b, a % b)) # Modolus"
   ]
  },
  {
   "cell_type": "code",
   "execution_count": 146,
   "metadata": {},
   "outputs": [
    {
     "name": "stdout",
     "output_type": "stream",
     "text": [
      "The area of a cicle with radius 10cm is: 314.20\n"
     ]
    }
   ],
   "source": [
    "# with string\n",
    "radi_us = 10\n",
    "p_i = 3.142\n",
    "are_a = p_i * radi_us ** 2\n",
    "fmtr_string = 'The area of a cicle with radius {}cm is: {:.2f}'.format(radi_us,are_a)\n",
    "print(fmtr_string)"
   ]
  },
  {
   "cell_type": "code",
   "execution_count": 147,
   "metadata": {},
   "outputs": [
    {
     "name": "stdout",
     "output_type": "stream",
     "text": [
      "8 + 3 = 11\n",
      "8 - 3 = 5\n",
      "8 * 3 = 24\n",
      "8 / 3 = 2.67\n",
      "8 // 3 = 2\n",
      "8 ** 3 = 512\n",
      "8 % 3 = 2\n"
     ]
    }
   ],
   "source": [
    "# another style\n",
    "ab = 8\n",
    "ac = 3\n",
    "print(f'{ab} + {ac} = {ab + ac}')\n",
    "print(f'{ab} - {ac} = {ab - ac}')\n",
    "print(f'{ab} * {ac} = {ab * ac}')\n",
    "print(f'{ab} / {ac} = {ab / ac :.2f}')\n",
    "print(f'{ab} // {ac} = {ab // ac}')\n",
    "print(f'{ab} ** {ac} = {ab ** ac}')\n",
    "print(f'{ab} % {ac} = {ab % ac}')"
   ]
  },
  {
   "cell_type": "code",
   "execution_count": 148,
   "metadata": {},
   "outputs": [
    {
     "name": "stdout",
     "output_type": "stream",
     "text": [
      "P\n",
      "y\n",
      "t\n",
      "h\n",
      "o\n",
      "n\n"
     ]
    }
   ],
   "source": [
    "# Unpacking Characters\n",
    "language = 'Python'\n",
    "a,b,c,d,e,f = language\n",
    "print(a)\n",
    "print(b)\n",
    "print(c)\n",
    "print(d)\n",
    "print(e)\n",
    "print(f)"
   ]
  },
  {
   "cell_type": "code",
   "execution_count": 149,
   "metadata": {},
   "outputs": [
    {
     "name": "stdout",
     "output_type": "stream",
     "text": [
      "P\n",
      "y\n",
      "5\n",
      "n\n"
     ]
    }
   ],
   "source": [
    "first_letter = language[0]\n",
    "print(first_letter)\n",
    "second_letter = language[1]\n",
    "print(second_letter)\n",
    "last_index = len(language) - 1\n",
    "print(last_index)\n",
    "last_letter = language[last_index]\n",
    "print(last_letter)"
   ]
  },
  {
   "cell_type": "code",
   "execution_count": 150,
   "metadata": {},
   "outputs": [
    {
     "name": "stdout",
     "output_type": "stream",
     "text": [
      "n\n",
      "o\n"
     ]
    }
   ],
   "source": [
    "# Accessing from edn\n",
    "lst_lttt = language[-1]\n",
    "print(lst_lttt)\n",
    "s_lst_lt = language[-2]\n",
    "print(s_lst_lt)"
   ]
  },
  {
   "cell_type": "code",
   "execution_count": 151,
   "metadata": {},
   "outputs": [
    {
     "name": "stdout",
     "output_type": "stream",
     "text": [
      "Python\n",
      "ho\n",
      "hon\n"
     ]
    }
   ],
   "source": [
    "lttt = language[0:]\n",
    "print(lttt)\n",
    "ltt = language[3:5]\n",
    "print(ltt)\n",
    "lt = language[3:]\n",
    "print(lt)"
   ]
  },
  {
   "cell_type": "code",
   "execution_count": 152,
   "metadata": {},
   "outputs": [
    {
     "name": "stdout",
     "output_type": "stream",
     "text": [
      "!dlroW olleH\n"
     ]
    }
   ],
   "source": [
    "# string reverse\n",
    "greeting = 'Hello World!'\n",
    "rvs = greeting[::-1]\n",
    "print(rvs)"
   ]
  },
  {
   "cell_type": "code",
   "execution_count": 153,
   "metadata": {},
   "outputs": [
    {
     "name": "stdout",
     "output_type": "stream",
     "text": [
      "Pto\n"
     ]
    }
   ],
   "source": [
    "language = 'Python'\n",
    "scp = language[0:6:2]\n",
    "print(scp)"
   ]
  },
  {
   "cell_type": "code",
   "execution_count": 154,
   "metadata": {},
   "outputs": [
    {
     "name": "stdout",
     "output_type": "stream",
     "text": [
      "Thirty days of python\n"
     ]
    }
   ],
   "source": [
    "# Capitalysed\n",
    "challenge = 'thirty days of python'\n",
    "cpt = challenge.capitalize()\n",
    "print(cpt)"
   ]
  },
  {
   "cell_type": "code",
   "execution_count": 155,
   "metadata": {},
   "outputs": [
    {
     "name": "stdout",
     "output_type": "stream",
     "text": [
      "3\n",
      "1\n"
     ]
    }
   ],
   "source": [
    "print(challenge.count('y'))\n",
    "print(challenge.count('i'))"
   ]
  },
  {
   "cell_type": "code",
   "execution_count": 156,
   "metadata": {},
   "outputs": [
    {
     "name": "stdout",
     "output_type": "stream",
     "text": [
      "True\n",
      "True\n"
     ]
    }
   ],
   "source": [
    "print(challenge.endswith('on'))\n",
    "print(challenge.startswith('th'))"
   ]
  },
  {
   "cell_type": "code",
   "execution_count": 157,
   "metadata": {},
   "outputs": [
    {
     "name": "stdout",
     "output_type": "stream",
     "text": [
      "5\n",
      "16\n"
     ]
    }
   ],
   "source": [
    "print(challenge.find('y'))\n",
    "print(challenge.rfind('y'))"
   ]
  },
  {
   "cell_type": "code",
   "execution_count": 158,
   "metadata": {},
   "outputs": [
    {
     "name": "stdout",
     "output_type": "stream",
     "text": [
      "I am Al'amin Hamza, I am 21 years old I am Data scientist.\n"
     ]
    }
   ],
   "source": [
    "# format(): formats string into a nicer output More about string formatting check this\n",
    "job = 'Data scientist'\n",
    "year = 21\n",
    "sentence = 'I am {} {}, I am {} years old I am {}.'.format(first_name,scnd_name,year,job)\n",
    "print(sentence)"
   ]
  },
  {
   "cell_type": "code",
   "execution_count": 159,
   "metadata": {},
   "outputs": [
    {
     "name": "stdout",
     "output_type": "stream",
     "text": [
      "7\n"
     ]
    },
    {
     "ename": "ValueError",
     "evalue": "substring not found",
     "output_type": "error",
     "traceback": [
      "\u001b[1;31m---------------------------------------------------------------------------\u001b[0m",
      "\u001b[1;31mValueError\u001b[0m                                Traceback (most recent call last)",
      "\u001b[1;32mc:\\Users\\USER\\Documents\\GitHub\\AREWADS-30DAYS0F-PYTHON\\day_004\\examples.ipynb Cell 20\u001b[0m line \u001b[0;36m5\n\u001b[0;32m      <a href='vscode-notebook-cell:/c%3A/Users/USER/Documents/GitHub/AREWADS-30DAYS0F-PYTHON/day_004/examples.ipynb#X25sZmlsZQ%3D%3D?line=2'>3</a>\u001b[0m sub_string \u001b[39m=\u001b[39m \u001b[39m'\u001b[39m\u001b[39mda\u001b[39m\u001b[39m'\u001b[39m\n\u001b[0;32m      <a href='vscode-notebook-cell:/c%3A/Users/USER/Documents/GitHub/AREWADS-30DAYS0F-PYTHON/day_004/examples.ipynb#X25sZmlsZQ%3D%3D?line=3'>4</a>\u001b[0m \u001b[39mprint\u001b[39m(challenge\u001b[39m.\u001b[39mindex(sub_string)) \n\u001b[1;32m----> <a href='vscode-notebook-cell:/c%3A/Users/USER/Documents/GitHub/AREWADS-30DAYS0F-PYTHON/day_004/examples.ipynb#X25sZmlsZQ%3D%3D?line=4'>5</a>\u001b[0m \u001b[39mprint\u001b[39m(challenge\u001b[39m.\u001b[39;49mindex(sub_string, \u001b[39m9\u001b[39;49m)) \u001b[39m# this will return to an error\u001b[39;00m\n",
      "\u001b[1;31mValueError\u001b[0m: substring not found"
     ]
    }
   ],
   "source": [
    "# index(): Returns the lowest index of a substring, additional arguments indicate starting and ending index \n",
    "# (default 0 and string length - 1). If the substring is not found it raises a valueError.\n",
    "sub_string = 'da'\n",
    "print(challenge.index(sub_string)) \n",
    "print(challenge.index(sub_string, 9)) # this will return to an error"
   ]
  },
  {
   "cell_type": "code",
   "execution_count": 160,
   "metadata": {},
   "outputs": [
    {
     "name": "stdout",
     "output_type": "stream",
     "text": [
      "False\n",
      "True\n",
      "False\n",
      "False\n"
     ]
    }
   ],
   "source": [
    "# isalnum(): Checks alphanumeric character\n",
    "print(challenge.isalnum()) # True\n",
    "\n",
    "challenge = '30DaysPython'\n",
    "print(challenge.isalnum()) # True\n",
    "\n",
    "challenge = 'thirty days of python'\n",
    "print(challenge.isalnum()) # False, space is not an alphanumeric character\n",
    "\n",
    "challenge = 'thirty days of python 2019'\n",
    "print(challenge.isalnum()) # False"
   ]
  },
  {
   "cell_type": "code",
   "execution_count": 161,
   "metadata": {},
   "outputs": [
    {
     "name": "stdout",
     "output_type": "stream",
     "text": [
      "False\n",
      "True\n",
      "False\n"
     ]
    }
   ],
   "source": [
    "# isalpha(): Checks if all string elements are alphabet characters (a-z and A-Z)\n",
    "print(challenge.isalpha()) # False, space is once again excluded\n",
    "challenge = 'ThirtyDaysPython'\n",
    "print(challenge.isalpha()) # True\n",
    "num = '123'\n",
    "print(num.isalpha())      # False"
   ]
  },
  {
   "cell_type": "code",
   "execution_count": 162,
   "metadata": {},
   "outputs": [
    {
     "name": "stdout",
     "output_type": "stream",
     "text": [
      "False\n",
      "True\n",
      "True\n",
      "False\n"
     ]
    }
   ],
   "source": [
    "# isdecimal(): Checks if all characters in a string are decimal (0-9)\n",
    "print(challenge.isdecimal())  # False\n",
    "challenge = '123'\n",
    "print(challenge.isdecimal())  # True\n",
    "challenge = '\\u00B2'\n",
    "print(challenge.isdigit())   # False\n",
    "challenge = '12 3'\n",
    "print(challenge.isdecimal())  # False, space not allowed"
   ]
  },
  {
   "cell_type": "code",
   "execution_count": 163,
   "metadata": {},
   "outputs": [
    {
     "name": "stdout",
     "output_type": "stream",
     "text": [
      "False\n",
      "True\n",
      "True\n"
     ]
    }
   ],
   "source": [
    "# isdigit(): Checks if all characters in a string are numbers (0-9 and some other unicode characters for numbers)\n",
    "print(challenge.isdigit()) # False\n",
    "challenge = '30'\n",
    "print(challenge.isdigit())   # True\n",
    "challenge = '\\u00B2'\n",
    "print(challenge.isdigit())   # True"
   ]
  },
  {
   "cell_type": "code",
   "execution_count": 164,
   "metadata": {},
   "outputs": [
    {
     "name": "stdout",
     "output_type": "stream",
     "text": [
      "True\n",
      "True\n",
      "False\n"
     ]
    }
   ],
   "source": [
    "# isnumeric(): Checks if all characters in a string are numbers or number related\n",
    "# (just like isdigit(), just accepts more symbols, like ½)\n",
    "num = '10'\n",
    "print(num.isnumeric()) # True\n",
    "num = '\\u00BD' # ½\n",
    "print(num.isnumeric()) # True\n",
    "num = '10.5'\n",
    "print(num.isnumeric()) # False"
   ]
  },
  {
   "cell_type": "code",
   "execution_count": 165,
   "metadata": {},
   "outputs": [
    {
     "name": "stdout",
     "output_type": "stream",
     "text": [
      "False\n",
      "True\n"
     ]
    }
   ],
   "source": [
    "# isidentifier(): Checks for a valid identifier - it checks if a string is a valid variable name\n",
    "challenge = '30DaysOfPython'\n",
    "print(challenge.isidentifier()) # False, because it starts with a number\n",
    "challenge = 'thirty_days_of_python'\n",
    "print(challenge.isidentifier()) # True"
   ]
  },
  {
   "cell_type": "code",
   "execution_count": 167,
   "metadata": {},
   "outputs": [
    {
     "name": "stdout",
     "output_type": "stream",
     "text": [
      "True\n",
      "False\n"
     ]
    }
   ],
   "source": [
    "# islower(): Checks if all alphabet characters in the string are lowercase\n",
    "challenge = 'thirty days of python'\n",
    "print(challenge.islower()) # True\n",
    "challenge = 'Thirty days of python'\n",
    "print(challenge.islower()) # False"
   ]
  },
  {
   "cell_type": "code",
   "execution_count": 168,
   "metadata": {},
   "outputs": [
    {
     "name": "stdout",
     "output_type": "stream",
     "text": [
      "False\n",
      "True\n"
     ]
    }
   ],
   "source": [
    "# isupper(): Checks if all alphabet characters in the string are uppercase\n",
    "challenge = 'thirty days of python'\n",
    "print(challenge.isupper()) #  False\n",
    "challenge = 'THIRTY DAYS OF PYTHON'\n",
    "print(challenge.isupper()) # True"
   ]
  },
  {
   "cell_type": "code",
   "execution_count": 169,
   "metadata": {},
   "outputs": [
    {
     "name": "stdout",
     "output_type": "stream",
     "text": [
      "HTML CSS JavaScript React\n"
     ]
    }
   ],
   "source": [
    "# join(): Returns a concatenated string\n",
    "web_tech = ['HTML', 'CSS', 'JavaScript', 'React']\n",
    "result = ' '.join(web_tech)\n",
    "print(result)"
   ]
  },
  {
   "cell_type": "code",
   "execution_count": 170,
   "metadata": {},
   "outputs": [
    {
     "name": "stdout",
     "output_type": "stream",
     "text": [
      "HTML~ CSS~ JavaScript~ React\n"
     ]
    }
   ],
   "source": [
    "result = '~ '.join(web_tech)\n",
    "print(result)"
   ]
  },
  {
   "cell_type": "code",
   "execution_count": 171,
   "metadata": {},
   "outputs": [
    {
     "name": "stdout",
     "output_type": "stream",
     "text": [
      "irty days of Py\n"
     ]
    }
   ],
   "source": [
    "# strip(): Removes all given characters starting from the beginning and end of the string\n",
    "challenge = 'thirty days of Python'\n",
    "print(challenge.strip('noth')) # 'irty days of py'"
   ]
  },
  {
   "cell_type": "code",
   "execution_count": 172,
   "metadata": {},
   "outputs": [
    {
     "name": "stdout",
     "output_type": "stream",
     "text": [
      "thirty days of Coding\n"
     ]
    }
   ],
   "source": [
    "print(challenge.replace('Python','Coding'))"
   ]
  },
  {
   "cell_type": "code",
   "execution_count": 175,
   "metadata": {},
   "outputs": [
    {
     "name": "stdout",
     "output_type": "stream",
     "text": [
      "['thirty', 'days', 'of', 'Python']\n",
      "['thirty days of Python']\n"
     ]
    }
   ],
   "source": [
    "# split(): Splits the string, using given string or space as a separator\n",
    "print(challenge.split(' '))\n",
    "print(challenge.split(', '))"
   ]
  },
  {
   "cell_type": "code",
   "execution_count": 176,
   "metadata": {},
   "outputs": [
    {
     "name": "stdout",
     "output_type": "stream",
     "text": [
      "Thirty Days Of Python\n"
     ]
    }
   ],
   "source": [
    "# title(): Returns a title cased string\n",
    "print(challenge.title())"
   ]
  },
  {
   "cell_type": "code",
   "execution_count": 177,
   "metadata": {},
   "outputs": [
    {
     "name": "stdout",
     "output_type": "stream",
     "text": [
      "THIRTY DAYS OF pYTHON\n",
      "thirty days of python\n"
     ]
    }
   ],
   "source": [
    "# swapcase(): Converts all uppercase characters to lowercase and all lowercase characters to uppercase characters\n",
    "print(challenge.swapcase())\n",
    "challenge = 'THIRTY DAYS OF PYTHON'\n",
    "print(challenge.swapcase())"
   ]
  },
  {
   "cell_type": "code",
   "execution_count": 178,
   "metadata": {},
   "outputs": [
    {
     "name": "stdout",
     "output_type": "stream",
     "text": [
      "False\n"
     ]
    }
   ],
   "source": [
    "print(challenge.startswith('thirty'))"
   ]
  },
  {
   "cell_type": "code",
   "execution_count": 179,
   "metadata": {},
   "outputs": [
    {
     "name": "stdout",
     "output_type": "stream",
     "text": [
      "False\n"
     ]
    }
   ],
   "source": [
    "print(challenge.startswith('python'))"
   ]
  },
  {
   "cell_type": "code",
   "execution_count": 180,
   "metadata": {},
   "outputs": [
    {
     "name": "stdout",
     "output_type": "stream",
     "text": [
      "True\n"
     ]
    }
   ],
   "source": [
    "print(challenge.endswith('PYTHON'))"
   ]
  }
 ],
 "metadata": {
  "kernelspec": {
   "display_name": "Python 3",
   "language": "python",
   "name": "python3"
  },
  "language_info": {
   "codemirror_mode": {
    "name": "ipython",
    "version": 3
   },
   "file_extension": ".py",
   "mimetype": "text/x-python",
   "name": "python",
   "nbconvert_exporter": "python",
   "pygments_lexer": "ipython3",
   "version": "3.11.5"
  },
  "orig_nbformat": 4
 },
 "nbformat": 4,
 "nbformat_minor": 2
}
