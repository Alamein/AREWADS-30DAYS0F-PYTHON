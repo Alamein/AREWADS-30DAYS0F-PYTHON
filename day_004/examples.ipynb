{
 "cells": [
  {
   "cell_type": "code",
   "execution_count": 8,
   "metadata": {},
   "outputs": [
    {
     "name": "stdout",
     "output_type": "stream",
     "text": [
      "I hope everyone is enjoying the python challenge.\n",
      "Are you ?\n",
      "Days\tTopics\tExcercises\n",
      "Day1\t5\t5\n",
      "Day2\t6\t20\n",
      "Day3\t5\t23\n",
      "Day4\t1\t35\n",
      "This is a back slash symbol (\\)\n",
      "In every programming language it start with \"Hello World!\"\n"
     ]
    }
   ],
   "source": [
    "print('I hope everyone is enjoying the python challenge.\\nAre you ?') # newline\n",
    "print('Days\\tTopics\\tExcercises')\n",
    "print('Day1\\t5\\t5')\n",
    "print('Day2\\t6\\t20')\n",
    "print('Day3\\t5\\t23')\n",
    "print('Day4\\t1\\t35')\n",
    "print('This is a back slash symbol (\\\\)') # to add back slash\n",
    "print('In every programming language it start with \\\"Hello World!\\\"') # To add double quote in a single quote"
   ]
  },
  {
   "cell_type": "code",
   "execution_count": 14,
   "metadata": {},
   "outputs": [
    {
     "name": "stdout",
     "output_type": "stream",
     "text": [
      "My name is Al'amin Hamza Nababa. I am Data Scientist and Automotive Engineer \n"
     ]
    }
   ],
   "source": [
    "# old string formatting %%!\n",
    "# Only string\n",
    "\n",
    "first_name = 'Al\\'amin'\n",
    "scnd_name = 'Hamza'\n",
    "lst_name  = 'Nababa'\n",
    "skill = 'Data Scientist and Automotive Engineer'\n",
    "foramted_string = 'My name is %s %s %s. I am %s '%(first_name,scnd_name,lst_name,skill)\n",
    "print(foramted_string)"
   ]
  },
  {
   "cell_type": "code",
   "execution_count": 17,
   "metadata": {},
   "outputs": [
    {
     "name": "stdout",
     "output_type": "stream",
     "text": [
      "The area of cycle with radius 10cm is: 314.20\n"
     ]
    }
   ],
   "source": [
    "# string and Numbers\n",
    "radius = 10\n",
    "pi = 3.142\n",
    "area = pi * radius**2\n",
    "formated_strng = 'The area of cycle with radius %dcm is: %.2f' %(radius,area)\n",
    "print(formated_strng)"
   ]
  },
  {
   "cell_type": "code",
   "execution_count": 19,
   "metadata": {},
   "outputs": [
    {
     "name": "stdout",
     "output_type": "stream",
     "text": [
      "The following are Python libraries: ['Django', 'Flask', 'NumPy', 'Matplotlib', 'Pandas']\n"
     ]
    }
   ],
   "source": [
    "python_lbrs = ['Django', 'Flask', 'NumPy', 'Matplotlib','Pandas']\n",
    "formated_python_lbrs = 'The following are Python libraries: %s' %(python_lbrs)\n",
    "print(formated_python_lbrs)"
   ]
  },
  {
   "cell_type": "code",
   "execution_count": 22,
   "metadata": {},
   "outputs": [
    {
     "name": "stdout",
     "output_type": "stream",
     "text": [
      "My name is Aminu Hamza Nababa I am Data SCientist and Automotive Engineer\n"
     ]
    }
   ],
   "source": [
    "# New Style String Formatting (str.format)\n",
    "# This formatting is introduced in Python version 3.\n",
    "FNm = 'Aminu'\n",
    "snm = 'Hamza'\n",
    "lnm = 'Nababa'\n",
    "skl = 'Data SCientist and Automotive Engineer'\n",
    "frmtedstr = 'My name is {} {} {} I am {}'.format(FNm,snm,lnm,skl)\n",
    "print(frmtedstr)"
   ]
  },
  {
   "cell_type": "code",
   "execution_count": 25,
   "metadata": {},
   "outputs": [
    {
     "name": "stdout",
     "output_type": "stream",
     "text": [
      "8 + 3 = 11\n",
      "8 - 3 = 5\n",
      "8 * 3 = 24\n",
      "8 ** 3 = 512\n",
      "8 // 3 = 2\n",
      "8 % 3 = 2\n"
     ]
    }
   ],
   "source": [
    "# Let's try some mathematics\n",
    "a = 8\n",
    "b = 3\n",
    "print('{} + {} = {}'.format(a,b, a + b)) # addition\n",
    "print('{} - {} = {}'.format(a,b, a - b)) # Subtractio\n",
    "print('{} * {} = {}'.format(a,b, a * b)) # Multiplication\n",
    "print('{} ** {} = {}'.format(a,b, a ** b)) # Square\n",
    "print('{} // {} = {}'.format(a,b, a // b)) # Floor division\n",
    "print('{} % {} = {}'.format(a,b, a % b)) # Modolus"
   ]
  },
  {
   "cell_type": "code",
   "execution_count": 26,
   "metadata": {},
   "outputs": [
    {
     "name": "stdout",
     "output_type": "stream",
     "text": [
      "The area of a cicle with radius 10cm is: 314.20\n"
     ]
    }
   ],
   "source": [
    "# with string\n",
    "radi_us = 10\n",
    "p_i = 3.142\n",
    "are_a = p_i * radi_us ** 2\n",
    "fmtr_string = 'The area of a cicle with radius {}cm is: {:.2f}'.format(radi_us,are_a)\n",
    "print(fmtr_string)"
   ]
  },
  {
   "cell_type": "code",
   "execution_count": 30,
   "metadata": {},
   "outputs": [
    {
     "name": "stdout",
     "output_type": "stream",
     "text": [
      "8 + 3 = 11\n",
      "8 - 3 = 5\n",
      "8 * 3 = 24\n",
      "8 / 3 = 2.67\n",
      "8 // 3 = 2\n",
      "8 ** 3 = 512\n",
      "8 % 3 = 2\n"
     ]
    }
   ],
   "source": [
    "# another style\n",
    "ab = 8\n",
    "ac = 3\n",
    "print(f'{ab} + {ac} = {ab + ac}')\n",
    "print(f'{ab} - {ac} = {ab - ac}')\n",
    "print(f'{ab} * {ac} = {ab * ac}')\n",
    "print(f'{ab} / {ac} = {ab / ac :.2f}')\n",
    "print(f'{ab} // {ac} = {ab // ac}')\n",
    "print(f'{ab} ** {ac} = {ab ** ac}')\n",
    "print(f'{ab} % {ac} = {ab % ac}')"
   ]
  },
  {
   "cell_type": "code",
   "execution_count": 1,
   "metadata": {},
   "outputs": [
    {
     "name": "stdout",
     "output_type": "stream",
     "text": [
      "P\n",
      "y\n",
      "t\n",
      "h\n",
      "o\n",
      "n\n"
     ]
    }
   ],
   "source": [
    "# Unpacking Characters\n",
    "language = 'Python'\n",
    "a,b,c,d,e,f = language\n",
    "print(a)\n",
    "print(b)\n",
    "print(c)\n",
    "print(d)\n",
    "print(e)\n",
    "print(f)"
   ]
  },
  {
   "cell_type": "code",
   "execution_count": 5,
   "metadata": {},
   "outputs": [
    {
     "name": "stdout",
     "output_type": "stream",
     "text": [
      "P\n",
      "y\n",
      "5\n",
      "n\n"
     ]
    }
   ],
   "source": [
    "first_letter = language[0]\n",
    "print(first_letter)\n",
    "second_letter = language[1]\n",
    "print(second_letter)\n",
    "last_index = len(language) - 1\n",
    "print(last_index)\n",
    "last_letter = language[last_index]\n",
    "print(last_letter)"
   ]
  },
  {
   "cell_type": "code",
   "execution_count": 7,
   "metadata": {},
   "outputs": [
    {
     "name": "stdout",
     "output_type": "stream",
     "text": [
      "n\n",
      "o\n"
     ]
    }
   ],
   "source": [
    "# Accessing from edn\n",
    "lst_lttt = language[-1]\n",
    "print(lst_lttt)\n",
    "s_lst_lt = language[-2]\n",
    "print(s_lst_lt)"
   ]
  },
  {
   "cell_type": "code",
   "execution_count": 16,
   "metadata": {},
   "outputs": [
    {
     "name": "stdout",
     "output_type": "stream",
     "text": [
      "Python\n",
      "ho\n",
      "hon\n"
     ]
    }
   ],
   "source": [
    "lttt = language[0:]\n",
    "print(lttt)\n",
    "ltt = language[3:5]\n",
    "print(ltt)\n",
    "lt = language[3:]\n",
    "print(lt)"
   ]
  },
  {
   "cell_type": "code",
   "execution_count": 23,
   "metadata": {},
   "outputs": [
    {
     "name": "stdout",
     "output_type": "stream",
     "text": [
      "!dlroW olleH\n"
     ]
    }
   ],
   "source": [
    "# string reverse\n",
    "greeting = 'Hello World!'\n",
    "rvs = greeting[::-1]\n",
    "print(rvs)"
   ]
  },
  {
   "cell_type": "code",
   "execution_count": 29,
   "metadata": {},
   "outputs": [
    {
     "name": "stdout",
     "output_type": "stream",
     "text": [
      "Pto\n"
     ]
    }
   ],
   "source": [
    "language = 'Python'\n",
    "scp = language[0:6:2]\n",
    "print(scp)"
   ]
  },
  {
   "cell_type": "code",
   "execution_count": 38,
   "metadata": {},
   "outputs": [
    {
     "name": "stdout",
     "output_type": "stream",
     "text": [
      "Thirty days of python\n"
     ]
    }
   ],
   "source": [
    "# Capitalysed\n",
    "challenge = 'thirty days of python'\n",
    "cpt = challenge.capitalize()\n",
    "print(cpt)"
   ]
  },
  {
   "cell_type": "code",
   "execution_count": 46,
   "metadata": {},
   "outputs": [
    {
     "name": "stdout",
     "output_type": "stream",
     "text": [
      "3\n",
      "1\n"
     ]
    }
   ],
   "source": [
    "print(challenge.count('y'))\n",
    "print(challenge.count('i'))"
   ]
  },
  {
   "cell_type": "code",
   "execution_count": 50,
   "metadata": {},
   "outputs": [
    {
     "name": "stdout",
     "output_type": "stream",
     "text": [
      "True\n",
      "True\n"
     ]
    }
   ],
   "source": [
    "print(challenge.endswith('on'))\n",
    "print(challenge.startswith('th'))"
   ]
  },
  {
   "cell_type": "code",
   "execution_count": 52,
   "metadata": {},
   "outputs": [
    {
     "name": "stdout",
     "output_type": "stream",
     "text": [
      "5\n",
      "16\n"
     ]
    }
   ],
   "source": [
    "print(challenge.find('y'))\n",
    "print(challenge.rfind('y'))"
   ]
  }
 ],
 "metadata": {
  "kernelspec": {
   "display_name": "Python 3",
   "language": "python",
   "name": "python3"
  },
  "language_info": {
   "codemirror_mode": {
    "name": "ipython",
    "version": 3
   },
   "file_extension": ".py",
   "mimetype": "text/x-python",
   "name": "python",
   "nbconvert_exporter": "python",
   "pygments_lexer": "ipython3",
   "version": "3.11.5"
  },
  "orig_nbformat": 4
 },
 "nbformat": 4,
 "nbformat_minor": 2
}
