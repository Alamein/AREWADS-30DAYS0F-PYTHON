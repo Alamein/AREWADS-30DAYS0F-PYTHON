{
 "cells": [
  {
   "cell_type": "code",
   "execution_count": 8,
   "metadata": {},
   "outputs": [
    {
     "name": "stdout",
     "output_type": "stream",
     "text": [
      "I hope everyone is enjoying the python challenge.\n",
      "Are you ?\n",
      "Days\tTopics\tExcercises\n",
      "Day1\t5\t5\n",
      "Day2\t6\t20\n",
      "Day3\t5\t23\n",
      "Day4\t1\t35\n",
      "This is a back slash symbol (\\)\n",
      "In every programming language it start with \"Hello World!\"\n"
     ]
    }
   ],
   "source": [
    "print('I hope everyone is enjoying the python challenge.\\nAre you ?') # newline\n",
    "print('Days\\tTopics\\tExcercises')\n",
    "print('Day1\\t5\\t5')\n",
    "print('Day2\\t6\\t20')\n",
    "print('Day3\\t5\\t23')\n",
    "print('Day4\\t1\\t35')\n",
    "print('This is a back slash symbol (\\\\)') # to add back slash\n",
    "print('In every programming language it start with \\\"Hello World!\\\"') # To add double quote in a single quote"
   ]
  }
 ],
 "metadata": {
  "kernelspec": {
   "display_name": "Python 3",
   "language": "python",
   "name": "python3"
  },
  "language_info": {
   "codemirror_mode": {
    "name": "ipython",
    "version": 3
   },
   "file_extension": ".py",
   "mimetype": "text/x-python",
   "name": "python",
   "nbconvert_exporter": "python",
   "pygments_lexer": "ipython3",
   "version": "3.11.5"
  },
  "orig_nbformat": 4
 },
 "nbformat": 4,
 "nbformat_minor": 2
}
