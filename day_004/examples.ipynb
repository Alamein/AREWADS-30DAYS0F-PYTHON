{
 "cells": [
  {
   "cell_type": "code",
   "execution_count": 8,
   "metadata": {},
   "outputs": [
    {
     "name": "stdout",
     "output_type": "stream",
     "text": [
      "I hope everyone is enjoying the python challenge.\n",
      "Are you ?\n",
      "Days\tTopics\tExcercises\n",
      "Day1\t5\t5\n",
      "Day2\t6\t20\n",
      "Day3\t5\t23\n",
      "Day4\t1\t35\n",
      "This is a back slash symbol (\\)\n",
      "In every programming language it start with \"Hello World!\"\n"
     ]
    }
   ],
   "source": [
    "print('I hope everyone is enjoying the python challenge.\\nAre you ?') # newline\n",
    "print('Days\\tTopics\\tExcercises')\n",
    "print('Day1\\t5\\t5')\n",
    "print('Day2\\t6\\t20')\n",
    "print('Day3\\t5\\t23')\n",
    "print('Day4\\t1\\t35')\n",
    "print('This is a back slash symbol (\\\\)') # to add back slash\n",
    "print('In every programming language it start with \\\"Hello World!\\\"') # To add double quote in a single quote"
   ]
  },
  {
   "cell_type": "code",
   "execution_count": 14,
   "metadata": {},
   "outputs": [
    {
     "name": "stdout",
     "output_type": "stream",
     "text": [
      "My name is Al'amin Hamza Nababa. I am Data Scientist and Automotive Engineer \n"
     ]
    }
   ],
   "source": [
    "# old string formatting %%!\n",
    "# Only string\n",
    "\n",
    "first_name = 'Al\\'amin'\n",
    "scnd_name = 'Hamza'\n",
    "lst_name  = 'Nababa'\n",
    "skill = 'Data Scientist and Automotive Engineer'\n",
    "foramted_string = 'My name is %s %s %s. I am %s '%(first_name,scnd_name,lst_name,skill)\n",
    "print(foramted_string)"
   ]
  },
  {
   "cell_type": "code",
   "execution_count": 17,
   "metadata": {},
   "outputs": [
    {
     "name": "stdout",
     "output_type": "stream",
     "text": [
      "The area of cycle with radius 10cm is: 314.20\n"
     ]
    }
   ],
   "source": [
    "# string and Numbers\n",
    "radius = 10\n",
    "pi = 3.142\n",
    "area = pi * radius**2\n",
    "formated_strng = 'The area of cycle with radius %dcm is: %.2f' %(radius,area)\n",
    "print(formated_strng)"
   ]
  },
  {
   "cell_type": "code",
   "execution_count": 19,
   "metadata": {},
   "outputs": [
    {
     "name": "stdout",
     "output_type": "stream",
     "text": [
      "The following are Python libraries: ['Django', 'Flask', 'NumPy', 'Matplotlib', 'Pandas']\n"
     ]
    }
   ],
   "source": [
    "python_lbrs = ['Django', 'Flask', 'NumPy', 'Matplotlib','Pandas']\n",
    "formated_python_lbrs = 'The following are Python libraries: %s' %(python_lbrs)\n",
    "print(formated_python_lbrs)"
   ]
  },
  {
   "cell_type": "code",
   "execution_count": null,
   "metadata": {},
   "outputs": [],
   "source": [
    "# New Style String Formatting (str.format)\n",
    "# This formatting is introduced in Python version 3.\n"
   ]
  }
 ],
 "metadata": {
  "kernelspec": {
   "display_name": "Python 3",
   "language": "python",
   "name": "python3"
  },
  "language_info": {
   "codemirror_mode": {
    "name": "ipython",
    "version": 3
   },
   "file_extension": ".py",
   "mimetype": "text/x-python",
   "name": "python",
   "nbconvert_exporter": "python",
   "pygments_lexer": "ipython3",
   "version": "3.11.5"
  },
  "orig_nbformat": 4
 },
 "nbformat": 4,
 "nbformat_minor": 2
}
