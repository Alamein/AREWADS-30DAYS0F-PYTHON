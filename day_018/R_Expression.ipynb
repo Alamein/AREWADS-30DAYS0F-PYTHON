{
 "cells": [
  {
   "cell_type": "markdown",
   "metadata": {},
   "source": [
    "### Regular Expressions"
   ]
  },
  {
   "cell_type": "markdown",
   "metadata": {},
   "source": [
    "### EXERCISES "
   ]
  },
  {
   "cell_type": "markdown",
   "metadata": {},
   "source": [
    "#### Exercise Level"
   ]
  },
  {
   "cell_type": "code",
   "execution_count": 1,
   "metadata": {},
   "outputs": [
    {
     "data": {
      "text/plain": [
       "('love', 6)"
      ]
     },
     "execution_count": 1,
     "metadata": {},
     "output_type": "execute_result"
    }
   ],
   "source": [
    "# Exercise num1\n",
    "\n",
    "import re\n",
    "paragraph = 'I love teaching. If you do not love teaching what else can you love. I love Python if you do not love something which can give you all the capabilities to develop an application what else can you love.'\n",
    "words = re.sub(r'[.]', '', paragraph).split(' ')\n",
    "\"\"\"words = paragraph.replace('.','').split(' ')\"\"\"\n",
    "dict = {}\n",
    "for word in words:\n",
    "\tdict[word] = dict.get(word,0) + 1\n",
    "sorted_it = sorted(dict.items(), key = lambda a:a[1], reverse = True)\n",
    "sorted_it[0]"
   ]
  },
  {
   "cell_type": "code",
   "execution_count": 4,
   "metadata": {},
   "outputs": [
    {
     "name": "stdout",
     "output_type": "stream",
     "text": [
      "points before sorting: ['-1', '2', '-4', '-3', '-1', '0', '4', '8']\n",
      "points after sorting: ['-1', '-1', '-3', '-4', '0', '2', '4', '8']\n",
      "numbers: [-1, -1, -3, -4, 0, 2, 4, 8]\n",
      "[-4, -3, -1, -1, 0, 2, 4, 8]\n",
      "The distance between the two furthest particles is: 12 \n"
     ]
    }
   ],
   "source": [
    "# Exercise num2\n",
    "\n",
    "import re\n",
    "string = 'The position of some particles on the horizontal x-axis are -12, -4, -3 and -1 in the negative direction, 0 at origin, 4 and 8 in the positive direction. Extract these numbers from this whole text and find the distance between the two furthest particles.'\n",
    "points = re.findall(r'-\\d|\\d',string)\n",
    "print(f'points before sorting: {points}')   \n",
    "points.sort()\n",
    "print(f'points after sorting: {points}')   \n",
    "\n",
    "# numbers as integers from strings\n",
    "numbers = [int(j) for j in points]\n",
    "print(f'numbers: {numbers}')\n",
    "\n",
    "# from highest to lowest\n",
    "numbers.sort() \n",
    "print(numbers)\n",
    "distance = numbers[-1] - numbers[0]\n",
    "\n",
    "print(f'The distance between the two furthest particles is: {distance} ')"
   ]
  },
  {
   "cell_type": "code",
   "execution_count": 2,
   "metadata": {},
   "outputs": [
    {
     "name": "stdout",
     "output_type": "stream",
     "text": [
      "points before sorting: ['-1', '2', '-4', '-3', '-1', '0', '4', '8']\n",
      "points after sorting: ['-1', '-1', '-3', '-4', '0', '2', '4', '8']\n",
      "numbers: [-1, -1, -3, -4, 0, 2, 4, 8]\n",
      "[-4, -3, -1, -1, 0, 2, 4, 8]\n",
      "The distance between the two furthest particles is: 12 \n"
     ]
    }
   ],
   "source": [
    "# Exercise num2\n",
    "\n",
    "import re\n",
    "string = 'The position of some particles on the horizontal x-axis are -12, -4, -3 and -1 in the negative direction, 0 at origin, 4 and 8 in the positive direction. Extract these numbers from this whole text and find the distance between the two furthest particles.'\n",
    "points = re.findall(r'-\\d|\\d',string)\n",
    "print(f'points before sorting: {points}')   \n",
    "points.sort()\n",
    "print(f'points after sorting: {points}')   \n",
    "\n",
    "# numbers as integers from strings\n",
    "numbers = [int(j) for j in points]\n",
    "print(f'numbers: {numbers}')\n",
    "\n",
    "# from highest to lowest\n",
    "numbers.sort() \n",
    "print(numbers)\n",
    "distance = numbers[-1] - numbers[0]\n",
    "\n",
    "print(f'The distance between the two furthest particles is: {distance} ')"
   ]
  },
  {
   "cell_type": "markdown",
   "metadata": {},
   "source": [
    "#### Exercise Level 2"
   ]
  },
  {
   "cell_type": "code",
   "execution_count": 6,
   "metadata": {},
   "outputs": [
    {
     "name": "stdout",
     "output_type": "stream",
     "text": [
      "Valid\n",
      "Not Valid\n",
      "Not Valid\n",
      "Valid\n"
     ]
    }
   ],
   "source": [
    "pattern = r\"^[_a-z]\\w*$\"\n",
    "def is_valid_variable(name):\n",
    "    '''Identify if a string is a valid Python variable'''\n",
    "    pattern = r\"^[_a-z]\\w*$\"\n",
    "    if not re.match(pattern,name):\n",
    "        print('Not Valid')\n",
    "    else:\n",
    "        print('Valid')\n",
    "\n",
    "is_valid_variable('first_name') \n",
    "is_valid_variable('first-name') \n",
    "is_valid_variable('1first_name') \n",
    "is_valid_variable('firstname')"
   ]
  },
  {
   "cell_type": "markdown",
   "metadata": {},
   "source": [
    "#### Exercise level 3"
   ]
  },
  {
   "cell_type": "code",
   "execution_count": 7,
   "metadata": {},
   "outputs": [
    {
     "data": {
      "text/plain": [
       "[(3, 'I'), (2, 'teaching'), (2, 'teacher')]"
      ]
     },
     "execution_count": 7,
     "metadata": {},
     "output_type": "execute_result"
    }
   ],
   "source": [
    "sentence = '''%I $am@% a %tea@cher%, &and& I lo%#ve %tea@ching%;. There $is nothing; &as& mo@re rewarding as educa@ting &and& @emp%o@wering peo@ple. ;I found tea@ching m%o@re interesting tha@n any other %jo@bs. %Do@es thi%s mo@tivate yo@u to be a tea@cher!?'''\n",
    "pattern = r'[^\\w\\s]'\n",
    "clean_sentence = re.sub(pattern,'',sentence)\n",
    "\n",
    "def most_frequent_words(text):\n",
    "    '''Returns the three most frequent words in clean sentences i.e. sentences without punctuation marks.\n",
    "    '''\n",
    "    words = text.split()\n",
    "    d = {}\n",
    "    for word in words:\n",
    "        d[word] = d.get(word,0) + 1\n",
    "    list = [(val,key) for key,val in d.items()]\n",
    "    list.sort(reverse=True)\n",
    "    return list[:3]\n",
    "\n",
    "most_frequent_words(clean_sentence)"
   ]
  },
  {
   "cell_type": "code",
   "execution_count": null,
   "metadata": {},
   "outputs": [],
   "source": [
    "def most_frequent_words(text):\n",
    "    '''Returns the three most frequent words in clean sentences i.e. sentences without punctuation marks.\n",
    "    '''\n",
    "    words = text.split()\n",
    "    d = {}\n",
    "    for word in words:\n",
    "        d[word] = d.get(word,0) + 1\n",
    "    list = [(val,key) for key,val in d.items()]\n",
    "    list.sort(reverse=True)\n",
    "    return list[:3]\n",
    "\n",
    "most_frequent_words(clean_sentence)"
   ]
  }
 ],
 "metadata": {
  "interpreter": {
   "hash": "4e880a7f5f27ad91acd9cec33fbf0d93d234c7ab08dff5f8487ebbcd75c6e380"
  },
  "kernelspec": {
   "display_name": "Python 3.10.0 64-bit",
   "language": "python",
   "name": "python3"
  },
  "language_info": {
   "codemirror_mode": {
    "name": "ipython",
    "version": 3
   },
   "file_extension": ".py",
   "mimetype": "text/x-python",
   "name": "python",
   "nbconvert_exporter": "python",
   "pygments_lexer": "ipython3",
   "version": "3.11.5"
  },
  "orig_nbformat": 4
 },
 "nbformat": 4,
 "nbformat_minor": 2
}
