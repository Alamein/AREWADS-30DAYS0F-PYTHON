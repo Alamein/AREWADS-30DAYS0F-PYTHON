{
 "cells": [
  {
   "cell_type": "code",
   "execution_count": 2,
   "metadata": {},
   "outputs": [
    {
     "name": "stdout",
     "output_type": "stream",
     "text": [
      "<re.Match object; span=(0, 15), match='I love to teach'>\n",
      "(0, 15)\n",
      "0 15\n",
      "I love to teach\n"
     ]
    }
   ],
   "source": [
    "import re\n",
    "\n",
    "txt = 'I love to teach python, physics and mathematics'\n",
    "# It returns an object with span, and match\n",
    "match = re.match('I love to teach', txt, re.I)\n",
    "print(match) # <re.match object; span=(0, 15), match='I love to teach'>\n",
    "# We can get the starting and ending position of the match as tuple uisng span\n",
    "span = match.span()\n",
    "print(span)  # (0, 15)\n",
    "# Lets find the start and stop position from the span\n",
    "start, end = span\n",
    "print(start, end)  # 0, 15\n",
    "substring = txt[start:end]\n",
    "print(substring)   # I love to teach"
   ]
  },
  {
   "cell_type": "code",
   "execution_count": null,
   "metadata": {},
   "outputs": [],
   "source": []
  }
 ],
 "metadata": {
  "kernelspec": {
   "display_name": "Python 3",
   "language": "python",
   "name": "python3"
  },
  "language_info": {
   "codemirror_mode": {
    "name": "ipython",
    "version": 3
   },
   "file_extension": ".py",
   "mimetype": "text/x-python",
   "name": "python",
   "nbconvert_exporter": "python",
   "pygments_lexer": "ipython3",
   "version": "3.11.5"
  }
 },
 "nbformat": 4,
 "nbformat_minor": 2
}
