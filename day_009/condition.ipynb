{
 "cells": [
  {
   "cell_type": "code",
   "execution_count": 5,
   "metadata": {},
   "outputs": [
    {
     "name": "stdout",
     "output_type": "stream",
     "text": [
      "Sorry you need 3 more years to start driving.\n",
      "Thanks!\n"
     ]
    }
   ],
   "source": [
    "user_age = int(input('Enter your age and see if you can drive: '))\n",
    "if user_age >= 18:\n",
    "    print('Yes you can drive')\n",
    "else:\n",
    "    years_remain = 18 - user_age\n",
    "    print(f'Sorry you need {years_remain} more years to start driving.\\nThanks!')"
   ]
  },
  {
   "cell_type": "code",
   "execution_count": 7,
   "metadata": {},
   "outputs": [
    {
     "name": "stdout",
     "output_type": "stream",
     "text": [
      "You are 4 years older than me!\n"
     ]
    }
   ],
   "source": [
    "my_age = 19\n",
    "user_age = int(input('Enter your age'))\n",
    "if my_age == user_age:\n",
    "    print('We have the same age!')\n",
    "elif my_age < user_age:\n",
    "    age_difference = user_age - my_age\n",
    "    if age_difference == 1:\n",
    "        print('You are 1 year older than me.')\n",
    "    else:\n",
    "        print(f'You are {age_difference} years older than me!')\n",
    "else:\n",
    "    age_difference = my_age - user_age\n",
    "    if age_difference == 1:\n",
    "        print('I am 1 year older than you!')\n",
    "    else:\n",
    "        print(f'I am {age_difference} years older than you!')"
   ]
  },
  {
   "cell_type": "code",
   "execution_count": 8,
   "metadata": {},
   "outputs": [
    {
     "name": "stdout",
     "output_type": "stream",
     "text": [
      "5 and 5 are equal!.\n"
     ]
    }
   ],
   "source": [
    "num_a = int(input('Write any number'))\n",
    "num_b = int(input('Write any number again'))\n",
    "\n",
    "if num_a < num_b:\n",
    "    print(f'{num_a} is greater than {num_b}')\n",
    "elif num_b < num_a:\n",
    "    print(f'{num_b} is greater than {num_a}')\n",
    "else:\n",
    "    print(f'{num_a} and {num_b} are equal!.')"
   ]
  },
  {
   "cell_type": "code",
   "execution_count": 10,
   "metadata": {},
   "outputs": [
    {
     "name": "stdout",
     "output_type": "stream",
     "text": [
      "Your Grade is A!!!\n"
     ]
    }
   ],
   "source": [
    "score = int(input('Enter your score'))\n",
    "if score >= 70 and score <= 100:\n",
    "    print('Your Grade is A!!!')\n",
    "elif score >= 60 and score <= 69:\n",
    "    print('Your Grade is B!!')\n",
    "elif score >= 50 and score <= 59:\n",
    "    print('Your Grade is C!')\n",
    "elif score >= 40 and score <= 49:\n",
    "    print('Your Grade is D.')\n",
    "else:\n",
    "    print('Your Grade is F.')"
   ]
  },
  {
   "cell_type": "code",
   "execution_count": 11,
   "metadata": {},
   "outputs": [
    {
     "name": "stdout",
     "output_type": "stream",
     "text": [
      "The season is Autumn\n"
     ]
    }
   ],
   "source": [
    "month = input('Enter the name of a month to see the existence season: ')\n",
    "\n",
    "if month  in ['September', 'October', 'November']:\n",
    "    print('The season is Autumn')\n",
    "elif month in ['December', 'January', 'February']:\n",
    "    print('The season is Winter')\n",
    "elif month in ['March', 'April', 'May']:\n",
    "    print('The season is Spring')\n",
    "elif month in ['June', 'July', 'August']:\n",
    "    print('The season is Summer')"
   ]
  },
  {
   "cell_type": "code",
   "execution_count": null,
   "metadata": {},
   "outputs": [],
   "source": [
    "fruits = ['banana', 'orange', 'mango', 'lemon']\n",
    "fruit = input('Enter name of a fruit')\n",
    "\n",
    "if fruit in fruits:\n",
    "    print('The fruit is already in the list of our fruits')\n",
    "else:\n",
    "    fruits.append(fruit)\n",
    "    print(f'The fruit is added in the list of our fruits: {fruits}')"
   ]
  },
  {
   "cell_type": "code",
   "execution_count": null,
   "metadata": {},
   "outputs": [],
   "source": [
    "\n",
    "# EXERCISE LEVEL 3\n",
    "\n",
    "my_info = {\n",
    "    'first_name': 'Aminu',\n",
    "    'last_name': 'Nababa',\n",
    "    'age': 19,\n",
    "    'country': 'Nigeria',\n",
    "    'is_married': False,\n",
    "    'skills': ['HTML', 'CSS', 'Mathematics', 'Python', 'Physics'],\n",
    "    'address': {\n",
    "        'street': 'Premier Hospital',\n",
    "        'zipcode': '700103'\n",
    "    }\n",
    "}\n",
    "\n",
    "if 'skills' in my_info:\n",
    "    skills = my_info['skills']\n",
    "    middle_skill = skills[len(skills) // 2]\n",
    "    print(\"The middle skill:\", middle_skill)\n",
    "\n",
    "\n",
    "if 'skills' in my_info:\n",
    "    if 'Python' in my_info['skills']:\n",
    "        print('The person has the Python skill')\n",
    "    else:\n",
    "        print('The person does not have the Python skill')\n",
    "print()\n",
    "\n",
    "if 'skills' in my_info:\n",
    "    skills = my_info['skills']\n",
    "    if skills == ['JavaScript', 'React']:\n",
    "        print('He is a front end developer')\n",
    "    elif skills == ['Node', 'Python', 'MongoDB']:\n",
    "        print('He is a backend developer')\n",
    "    elif skills == ['React', 'Node', 'MongoDB']:\n",
    "        print('He is a fullstack developer')\n",
    "    else:\n",
    "        print('unknown title')\n",
    "print()\n",
    "if my_info['is_married'] and my_info['country'] == 'Nigeria':\n",
    "    print(f\"{my_info['first_name']} {my_info['last_name']} is married and lives in {my_info['country']}\")\n"
   ]
  }
 ],
 "metadata": {
  "kernelspec": {
   "display_name": "Python 3",
   "language": "python",
   "name": "python3"
  },
  "language_info": {
   "codemirror_mode": {
    "name": "ipython",
    "version": 3
   },
   "file_extension": ".py",
   "mimetype": "text/x-python",
   "name": "python",
   "nbconvert_exporter": "python",
   "pygments_lexer": "ipython3",
   "version": "3.11.5"
  }
 },
 "nbformat": 4,
 "nbformat_minor": 2
}
