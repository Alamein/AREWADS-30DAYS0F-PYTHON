{
 "cells": [
  {
   "cell_type": "code",
   "execution_count": 21,
   "metadata": {},
   "outputs": [
    {
     "name": "stdout",
     "output_type": "stream",
     "text": [
      "Yes you can drive\n"
     ]
    }
   ],
   "source": [
    "user_age = int(input('Enter your age and see if you can drive: '))\n",
    "if user_age >= 18:\n",
    "    print('Yes you can drive')\n",
    "else:\n",
    "    years_remain = 18 - user_age\n",
    "    print(f'Sorry you need {years_remain} more years to start driving.\\nThanks!')"
   ]
  },
  {
   "cell_type": "code",
   "execution_count": 22,
   "metadata": {},
   "outputs": [
    {
     "name": "stdout",
     "output_type": "stream",
     "text": [
      "You are 2 years older than me!\n"
     ]
    }
   ],
   "source": [
    "my_age = 19\n",
    "user_age = int(input('Enter your age'))\n",
    "if my_age == user_age:\n",
    "    print('We have the same age!')\n",
    "elif my_age < user_age:\n",
    "    age_difference = user_age - my_age\n",
    "    if age_difference == 1:\n",
    "        print('You are 1 year older than me.')\n",
    "    else:\n",
    "        print(f'You are {age_difference} years older than me!')\n",
    "else:\n",
    "    age_difference = my_age - user_age\n",
    "    if age_difference == 1:\n",
    "        print('I am 1 year older than you!')\n",
    "    else:\n",
    "        print(f'I am {age_difference} years older than you!')"
   ]
  },
  {
   "cell_type": "code",
   "execution_count": 23,
   "metadata": {},
   "outputs": [
    {
     "name": "stdout",
     "output_type": "stream",
     "text": [
      "4 is greater than 9\n"
     ]
    }
   ],
   "source": [
    "num_a = int(input('Write any number'))\n",
    "num_b = int(input('Write any number again'))\n",
    "\n",
    "if num_a < num_b:\n",
    "    print(f'{num_a} is greater than {num_b}')\n",
    "elif num_b < num_a:\n",
    "    print(f'{num_b} is greater than {num_a}')\n",
    "else:\n",
    "    print(f'{num_a} and {num_b} are equal!.')"
   ]
  },
  {
   "cell_type": "code",
   "execution_count": 24,
   "metadata": {},
   "outputs": [
    {
     "name": "stdout",
     "output_type": "stream",
     "text": [
      "Your Grade is A!!!\n"
     ]
    }
   ],
   "source": [
    "score = int(input('Enter your score'))\n",
    "if score >= 70 and score <= 100:\n",
    "    print('Your Grade is A!!!')\n",
    "elif score >= 60 and score <= 69:\n",
    "    print('Your Grade is B!!')\n",
    "elif score >= 50 and score <= 59:\n",
    "    print('Your Grade is C!')\n",
    "elif score >= 40 and score <= 49:\n",
    "    print('Your Grade is D.')\n",
    "else:\n",
    "    print('Your Grade is F.')"
   ]
  },
  {
   "cell_type": "code",
   "execution_count": 25,
   "metadata": {},
   "outputs": [],
   "source": [
    "month = input('Enter the name of a month to see the existence season: ')\n",
    "\n",
    "if month  in ['September', 'October', 'November']:\n",
    "    print('The season is Autumn')\n",
    "elif month in ['December', 'January', 'February']:\n",
    "    print('The season is Winter')\n",
    "elif month in ['March', 'April', 'May']:\n",
    "    print('The season is Spring')\n",
    "elif month in ['June', 'July', 'August']:\n",
    "    print('The season is Summer')"
   ]
  },
  {
   "cell_type": "code",
   "execution_count": 26,
   "metadata": {},
   "outputs": [
    {
     "name": "stdout",
     "output_type": "stream",
     "text": [
      "The fruit is already in the list of our fruits\n"
     ]
    }
   ],
   "source": [
    "fruits = ['banana', 'orange', 'mango', 'lemon']\n",
    "fruit = input('Enter name of a fruit')\n",
    "\n",
    "if fruit in fruits:\n",
    "    print('The fruit is already in the list of our fruits')\n",
    "else:\n",
    "    fruits.append(fruit)\n",
    "    print(f'The fruit is added in the list of our fruits: {fruits}')"
   ]
  },
  {
   "cell_type": "code",
   "execution_count": 50,
   "metadata": {},
   "outputs": [],
   "source": [
    "info = {\n",
    "    'first_name': input('Fisrt name: '),\n",
    "    'last_name': input('Last name: '),\n",
    "    'age': input('Age'),\n",
    "    'country': 'Nigeria',\n",
    "    'is_married': False,\n",
    "    'skills': ['Html', 'CSS', 'JavaScript', 'Python', 'Cloud'],\n",
    "    'address': {\n",
    "\n",
    "        'street': 'Premier Hospital Street',\n",
    "        'Zipcode': '877667'\n",
    "    }\n",
    "}"
   ]
  },
  {
   "cell_type": "code",
   "execution_count": 51,
   "metadata": {},
   "outputs": [
    {
     "name": "stdout",
     "output_type": "stream",
     "text": [
      "The middle skill in your skills is JavaScript\n"
     ]
    }
   ],
   "source": [
    "\n",
    "if 'skills' in info:\n",
    "    skill = info['skills']\n",
    "    middle_skill = skill[len(skill) // 2]\n",
    "    print(f'The middle skill in your skills is {middle_skill}')"
   ]
  },
  {
   "cell_type": "code",
   "execution_count": 55,
   "metadata": {},
   "outputs": [
    {
     "name": "stdout",
     "output_type": "stream",
     "text": [
      "Habib is not a Pythoneer\n"
     ]
    }
   ],
   "source": [
    "if 'Python' in info['skills'] and info['first_name'] == 'Al\\'amin':\n",
    "    print(info['first_name'], 'is Pythoneer')\n",
    "else:\n",
    "        print(info['first_name'], 'is not a Pythoneer')"
   ]
  },
  {
   "cell_type": "code",
   "execution_count": 56,
   "metadata": {},
   "outputs": [
    {
     "name": "stdout",
     "output_type": "stream",
     "text": [
      "Unknown title\n"
     ]
    }
   ],
   "source": [
    "skills = info['skills']\n",
    "\n",
    "if skills == ['JavaScript', 'React']:\n",
    "    print('He is a Front-end Developer')\n",
    "elif skills == ['Node', 'Python', 'MongoDB']:\n",
    "    print('He is a Back-end developer')\n",
    "elif skills == ['React', 'Node', 'MongoDB']:\n",
    "    print('He is a full-stack Developer')\n",
    "else:\n",
    "    print('Unknown title')"
   ]
  },
  {
   "cell_type": "code",
   "execution_count": 29,
   "metadata": {},
   "outputs": [
    {
     "name": "stdout",
     "output_type": "stream",
     "text": [
      "The middle skill: Mathematics\n",
      "The person has the Python skill\n",
      "\n",
      "unknown title\n",
      "\n"
     ]
    }
   ],
   "source": [
    "\n",
    "\n",
    "if 'skills' in my_info:\n",
    "    skills = my_info['skills']\n",
    "    if skills == ['JavaScript', 'React']:\n",
    "        print('He is a front end developer')\n",
    "    elif skills == ['Node', 'Python', 'MongoDB']:\n",
    "        print('He is a backend developer')\n",
    "    elif skills == ['React', 'Node', 'MongoDB']:\n",
    "        print('He is a fullstack developer')\n",
    "    else:\n",
    "        print('unknown title')\n",
    "print()\n",
    "if my_info['is_married'] and my_info['country'] == 'Nigeria':\n",
    "    print(f\"{my_info['first_name']} {my_info['last_name']} is married and lives in {my_info['country']}\")\n"
   ]
  }
 ],
 "metadata": {
  "kernelspec": {
   "display_name": "Python 3",
   "language": "python",
   "name": "python3"
  },
  "language_info": {
   "codemirror_mode": {
    "name": "ipython",
    "version": 3
   },
   "file_extension": ".py",
   "mimetype": "text/x-python",
   "name": "python",
   "nbconvert_exporter": "python",
   "pygments_lexer": "ipython3",
   "version": "3.11.5"
  }
 },
 "nbformat": 4,
 "nbformat_minor": 2
}
